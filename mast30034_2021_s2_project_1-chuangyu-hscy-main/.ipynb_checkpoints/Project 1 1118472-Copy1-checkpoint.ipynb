{
 "cells": [
  {
   "cell_type": "markdown",
   "id": "64f87849-3d27-4107-9737-1d3cfef76b7c",
   "metadata": {
    "tags": []
   },
   "source": [
    "# 2021 S2 the University of Melbourne MAST30034 Applied Data Science Project 1\n",
    "\n",
    "---\n",
    "\n",
    "Student: Sunchuangyu Huang\n",
    "\n",
    "Student id: 1118472\n",
    "\n",
    "Tutorial time: Thursday 15:15-17:15\n",
    "\n",
    "---\n",
    "\n",
    "This project aims to make a quantitative analysis of New York City Taxi and Limousine Service Trip Record Data, specifically data collected in 2019. \n",
    "\n",
    "The goal is to use TLC data to construct a statistical model for the yellow type taxi in New York City to predict the travelling time to provide a better customer experience."
   ]
  },
  {
   "cell_type": "markdown",
   "id": "f18a477f-6349-4a28-a6fd-76d7b9de6996",
   "metadata": {
    "tags": []
   },
   "source": [
    "## Download required Dataset"
   ]
  },
  {
   "cell_type": "markdown",
   "id": "7d4d77ab-2513-4f8c-bf18-d6eed3022017",
   "metadata": {
    "execution": {
     "iopub.execute_input": "2021-08-07T03:06:53.672195Z",
     "iopub.status.busy": "2021-08-07T03:06:53.671966Z",
     "iopub.status.idle": "2021-08-07T03:06:53.676871Z",
     "shell.execute_reply": "2021-08-07T03:06:53.675825Z",
     "shell.execute_reply.started": "2021-08-07T03:06:53.672143Z"
    }
   },
   "source": [
    "Downloading data `yellow_tripdata_2019` from https://www1.nyc.gov/site/tlc/about/tlc-trip-record-data.page"
   ]
  },
  {
   "cell_type": "code",
   "execution_count": 3,
   "id": "6e5206bb-a1f7-4868-bf92-e711aada9645",
   "metadata": {
    "execution": {
     "iopub.execute_input": "2021-08-07T05:03:50.437839Z",
     "iopub.status.busy": "2021-08-07T05:03:50.437592Z",
     "iopub.status.idle": "2021-08-07T05:25:58.604973Z",
     "shell.execute_reply": "2021-08-07T05:25:58.604460Z",
     "shell.execute_reply.started": "2021-08-07T05:03:50.437813Z"
    },
    "tags": []
   },
   "outputs": [
    {
     "name": "stdout",
     "output_type": "stream",
     "text": [
      "Done downloading yellow_tripdata_2019-01.csv to ./Data/2019 yellow taxi data with size 0.64GB\n",
      "Done downloading yellow_tripdata_2019-02.csv to ./Data/2019 yellow taxi data with size 0.61GB\n",
      "Done downloading yellow_tripdata_2019-03.csv to ./Data/2019 yellow taxi data with size 0.68GB\n",
      "Done downloading yellow_tripdata_2019-04.csv to ./Data/2019 yellow taxi data with size 0.64GB\n",
      "Done downloading yellow_tripdata_2019-05.csv to ./Data/2019 yellow taxi data with size 0.65GB\n",
      "Done downloading yellow_tripdata_2019-06.csv to ./Data/2019 yellow taxi data with size 0.60GB\n",
      "Done downloading yellow_tripdata_2019-07.csv to ./Data/2019 yellow taxi data with size 0.54GB\n",
      "Done downloading yellow_tripdata_2019-08.csv to ./Data/2019 yellow taxi data with size 0.52GB\n",
      "Done downloading yellow_tripdata_2019-09.csv to ./Data/2019 yellow taxi data with size 0.57GB\n",
      "Done downloading yellow_tripdata_2019-10.csv to ./Data/2019 yellow taxi data with size 0.62GB\n",
      "Done downloading yellow_tripdata_2019-11.csv to ./Data/2019 yellow taxi data with size 0.59GB\n",
      "Done downloading yellow_tripdata_2019-12.csv to ./Data/2019 yellow taxi data with size 0.60GB\n"
     ]
    }
   ],
   "source": [
    "%run \"./Download scripts/2019 yellow taxi data download.py\""
   ]
  },
  {
   "cell_type": "markdown",
   "id": "71c2c472-087e-47a8-97a0-4bf9193dbc21",
   "metadata": {},
   "source": [
    "Downloading data `` from https://data.cityofnewyork.us/City-Government/NYC-Permitted-Event-Information-Historical/bkfu-528j"
   ]
  },
  {
   "cell_type": "code",
   "execution_count": 9,
   "id": "7f871240-a654-467d-93c8-9ff861fe731c",
   "metadata": {
    "execution": {
     "iopub.execute_input": "2021-08-07T05:36:13.528512Z",
     "iopub.status.busy": "2021-08-07T05:36:13.528322Z",
     "iopub.status.idle": "2021-08-07T06:12:48.727880Z",
     "shell.execute_reply": "2021-08-07T06:12:48.727535Z",
     "shell.execute_reply.started": "2021-08-07T05:36:13.528492Z"
    },
    "tags": []
   },
   "outputs": [
    {
     "name": "stdout",
     "output_type": "stream",
     "text": [
      "Done downloading 2019 events.csv\n"
     ]
    }
   ],
   "source": [
    "%run \"./Download scripts/2019 NYC Permitted Event Information download.py\""
   ]
  },
  {
   "cell_type": "markdown",
   "id": "c302543b-0948-4db3-8bd5-5e9a31fa5348",
   "metadata": {
    "execution": {
     "iopub.execute_input": "2021-08-07T05:36:11.752633Z",
     "iopub.status.busy": "2021-08-07T05:36:11.752488Z",
     "iopub.status.idle": "2021-08-07T05:36:11.755839Z",
     "shell.execute_reply": "2021-08-07T05:36:11.755215Z",
     "shell.execute_reply.started": "2021-08-07T05:36:11.752618Z"
    },
    "tags": []
   },
   "source": [
    "Downloading data `2019 New York Car Collision` from https://drive.google.com/file/d/1oKn4itNKrTpxkbS0F0bblboxuTehwnJ5/view?usp=sharing\n",
    "\n",
    "Original data is preserved in Google Big Query nypd_mv_collisions dataset"
   ]
  },
  {
   "cell_type": "code",
   "execution_count": 11,
   "id": "cd8ad8f5-0e68-466a-a8ac-f8e2cd77c1f8",
   "metadata": {
    "tags": []
   },
   "outputs": [
    {
     "name": "stdout",
     "output_type": "stream",
     "text": [
      "Downloading 1oKn4itNKrTpxkbS0F0bblboxuTehwnJ5 into ./Data/2019 car collision/collision.csv... Done.\n",
      "Unzipping..."
     ]
    },
    {
     "name": "stderr",
     "output_type": "stream",
     "text": [
      "/home/rin/.local/lib/python3.8/site-packages/google_drive_downloader/google_drive_downloader.py:78: UserWarning: Ignoring `unzip` since \"1oKn4itNKrTpxkbS0F0bblboxuTehwnJ5\" does not look like a valid zip file\n",
      "  warnings.warn('Ignoring `unzip` since \"{}\" does not look like a valid zip file'.format(file_id))\n"
     ]
    }
   ],
   "source": [
    "%run \"./Download scripts/2019 New York Car Collision\""
   ]
  },
  {
   "cell_type": "markdown",
   "id": "41c43e5b-ebe0-4465-8dc7-d5677d6b47fd",
   "metadata": {
    "tags": []
   },
   "source": [
    "## Loaidng system component and required libraries"
   ]
  },
  {
   "cell_type": "code",
   "execution_count": null,
   "id": "6fc979f8-9b97-43fe-adf3-5c682319366a",
   "metadata": {},
   "outputs": [],
   "source": [
    "# please make sure all dependencies are satisfied\n",
    "!pip install -r requirements.txt"
   ]
  },
  {
   "cell_type": "code",
   "execution_count": 1,
   "id": "fd891ed0-dd42-4491-a977-04fd3930cb20",
   "metadata": {
    "autorun": true,
    "execution": {
     "iopub.execute_input": "2021-08-08T15:14:58.698400Z",
     "iopub.status.busy": "2021-08-08T15:14:58.698147Z",
     "iopub.status.idle": "2021-08-08T15:15:00.005434Z",
     "shell.execute_reply": "2021-08-08T15:15:00.004737Z",
     "shell.execute_reply.started": "2021-08-08T15:14:58.698352Z"
    },
    "tags": []
   },
   "outputs": [
    {
     "data": {
      "application/javascript": [
       "IPython.notebook.set_autosave_interval(60000)"
      ]
     },
     "metadata": {},
     "output_type": "display_data"
    },
    {
     "name": "stdout",
     "output_type": "stream",
     "text": [
      "Autosaving every 60 seconds\n",
      "time: 1.82 ms (started: 2021-08-09 01:15:00 +10:00)\n"
     ]
    }
   ],
   "source": [
    "%run init.py\n",
    "%run library.py\n",
    "\n",
    "%autosave 60\n",
    "%load_ext autotime\n",
    "%matplotlib inline"
   ]
  },
  {
   "cell_type": "code",
   "execution_count": 2,
   "id": "22e57966-0d3c-4275-83ca-5434de76b8ef",
   "metadata": {
    "execution": {
     "iopub.execute_input": "2021-08-08T15:15:00.008708Z",
     "iopub.status.busy": "2021-08-08T15:15:00.008569Z",
     "iopub.status.idle": "2021-08-08T15:15:00.012362Z",
     "shell.execute_reply": "2021-08-08T15:15:00.011698Z",
     "shell.execute_reply.started": "2021-08-08T15:15:00.008686Z"
    },
    "tags": []
   },
   "outputs": [
    {
     "name": "stdout",
     "output_type": "stream",
     "text": [
      "time: 458 µs (started: 2021-08-09 01:15:00 +10:00)\n"
     ]
    }
   ],
   "source": [
    "import warnings\n",
    "warnings.filterwarnings(\"ignore\")"
   ]
  },
  {
   "cell_type": "code",
   "execution_count": 3,
   "id": "e053f5be-2635-4bf3-b4b5-19b812333498",
   "metadata": {
    "autorun": true,
    "execution": {
     "iopub.execute_input": "2021-08-08T15:15:00.017502Z",
     "iopub.status.busy": "2021-08-08T15:15:00.017284Z",
     "iopub.status.idle": "2021-08-08T15:15:03.972739Z",
     "shell.execute_reply": "2021-08-08T15:15:03.971954Z",
     "shell.execute_reply.started": "2021-08-08T15:15:00.017482Z"
    },
    "tags": []
   },
   "outputs": [
    {
     "data": {
      "text/plain": [
       "<pyspark.conf.SparkConf at 0x7f331c7c1d60>"
      ]
     },
     "execution_count": 3,
     "metadata": {},
     "output_type": "execute_result"
    },
    {
     "data": {
      "text/plain": [
       "<pyspark.conf.SparkConf at 0x7f331c7c1d60>"
      ]
     },
     "execution_count": 3,
     "metadata": {},
     "output_type": "execute_result"
    },
    {
     "data": {
      "text/plain": [
       "<pyspark.conf.SparkConf at 0x7f331c7c1d60>"
      ]
     },
     "execution_count": 3,
     "metadata": {},
     "output_type": "execute_result"
    },
    {
     "data": {
      "text/plain": [
       "<pyspark.conf.SparkConf at 0x7f331c7c1d60>"
      ]
     },
     "execution_count": 3,
     "metadata": {},
     "output_type": "execute_result"
    },
    {
     "name": "stderr",
     "output_type": "stream",
     "text": [
      "21/08/09 01:15:01 WARN Utils: Your hostname, Rin-PC resolves to a loopback address: 127.0.1.1; using 192.168.56.1 instead (on interface eth2)\n",
      "21/08/09 01:15:01 WARN Utils: Set SPARK_LOCAL_IP if you need to bind to another address\n",
      "WARNING: An illegal reflective access operation has occurred\n",
      "WARNING: Illegal reflective access by org.apache.spark.unsafe.Platform (file:/home/rin/.local/lib/python3.8/site-packages/pyspark/jars/spark-unsafe_2.12-3.1.2.jar) to constructor java.nio.DirectByteBuffer(long,int)\n",
      "WARNING: Please consider reporting this to the maintainers of org.apache.spark.unsafe.Platform\n",
      "WARNING: Use --illegal-access=warn to enable warnings of further illegal reflective access operations\n",
      "WARNING: All illegal access operations will be denied in a future release\n",
      "21/08/09 01:15:01 WARN NativeCodeLoader: Unable to load native-hadoop library for your platform... using builtin-java classes where applicable\n",
      "Using Spark's default log4j profile: org/apache/spark/log4j-defaults.properties\n",
      "Setting default log level to \"WARN\".\n",
      "To adjust logging level use sc.setLogLevel(newLevel). For SparkR, use setLogLevel(newLevel).\n"
     ]
    },
    {
     "name": "stdout",
     "output_type": "stream",
     "text": [
      "time: 3.95 s (started: 2021-08-09 01:15:00 +10:00)\n"
     ]
    }
   ],
   "source": [
    "from pyspark import SparkContext, SparkConf\n",
    "from pyspark.sql import SQLContext, SparkSession\n",
    "\n",
    "conf=SparkConf()\n",
    "conf.set(\"spark.executor.memory\", \"32g\")\n",
    "conf.set(\"spark.driver.memory\", \"32g\")\n",
    "conf.set(\"spark.driver.memoryOverhead\", \"32g\")\n",
    "conf.set(\"spark.cores.max\", \"6\")\n",
    "# conf.set(\"spark.driver.maxResultSize\", '32g')\n",
    "\n",
    "sc = SparkContext.getOrCreate(conf)\n",
    "\n",
    "spark = SparkSession(sc).builder.appName('Project 1').getOrCreate()\n",
    "# apply settings to session\n",
    "spark.conf.set('spark.sql.repl.eagerEval.enabled', True)\n",
    "spark.conf.set('spark.sql.execution.arrow.pyspark.enabled', True)"
   ]
  },
  {
   "cell_type": "markdown",
   "id": "88c7fe04-7ace-406f-ada1-75c065f75123",
   "metadata": {
    "tags": []
   },
   "source": [
    "## Preprocessing"
   ]
  },
  {
   "cell_type": "markdown",
   "id": "027f207e-0390-46a0-be7a-e045c1052e22",
   "metadata": {
    "tags": []
   },
   "source": [
    "### Yello Taxi Data Preprocessing"
   ]
  },
  {
   "cell_type": "markdown",
   "id": "29c21769-b2f0-4fdc-9d7d-bd19490ad334",
   "metadata": {
    "tags": []
   },
   "source": [
    "#### First Preprocessing Round "
   ]
  },
  {
   "cell_type": "code",
   "execution_count": 3,
   "id": "5ed6d2a9-bf69-423a-bc01-6cfd881a136b",
   "metadata": {
    "execution": {
     "iopub.execute_input": "2021-08-07T08:11:20.404186Z",
     "iopub.status.busy": "2021-08-07T08:11:20.403960Z",
     "iopub.status.idle": "2021-08-07T08:11:54.809129Z",
     "shell.execute_reply": "2021-08-07T08:11:54.808765Z",
     "shell.execute_reply.started": "2021-08-07T08:11:20.404164Z"
    },
    "tags": []
   },
   "outputs": [
    {
     "name": "stderr",
     "output_type": "stream",
     "text": [
      "[Stage 1:=====================================================>   (56 + 4) / 60]\r"
     ]
    },
    {
     "name": "stdout",
     "output_type": "stream",
     "text": [
      "time: 34.4 s (started: 2021-08-07 18:11:20 +10:00)\n"
     ]
    },
    {
     "name": "stderr",
     "output_type": "stream",
     "text": [
      "                                                                                \r"
     ]
    }
   ],
   "source": [
    "# read all csv into a single data frame\n",
    "taxi_df = spark.read.options(header=True, delimiter=',', inferSchema=True)\\\n",
    "    .csv(\"./Data/2019 yellow taxi data/*.csv\")"
   ]
  },
  {
   "cell_type": "code",
   "execution_count": 4,
   "id": "203ff7e4-7d6e-4fbc-912d-30ce91a15b10",
   "metadata": {
    "execution": {
     "iopub.execute_input": "2021-08-07T08:11:58.486167Z",
     "iopub.status.busy": "2021-08-07T08:11:58.485939Z",
     "iopub.status.idle": "2021-08-07T08:12:02.434507Z",
     "shell.execute_reply": "2021-08-07T08:12:02.434039Z",
     "shell.execute_reply.started": "2021-08-07T08:11:58.486148Z"
    },
    "tags": []
   },
   "outputs": [
    {
     "name": "stdout",
     "output_type": "stream",
     "text": [
      "+--------+--------------------+---------------------+---------------+-------------+----------+------------------+------------+------------+------------+-----------+-----+-------+----------+------------+---------------------+------------+--------------------+\n",
      "|VendorID|tpep_pickup_datetime|tpep_dropoff_datetime|passenger_count|trip_distance|RatecodeID|store_and_fwd_flag|PULocationID|DOLocationID|payment_type|fare_amount|extra|mta_tax|tip_amount|tolls_amount|improvement_surcharge|total_amount|congestion_surcharge|\n",
      "+--------+--------------------+---------------------+---------------+-------------+----------+------------------+------------+------------+------------+-----------+-----+-------+----------+------------+---------------------+------------+--------------------+\n",
      "|       1| 2019-01-01 00:46:40|  2019-01-01 00:53:20|              1|          1.5|         1|                 N|         151|         239|           1|        7.0|  0.5|    0.5|      1.65|         0.0|                  0.3|        9.95|                null|\n",
      "|       1| 2019-01-01 00:59:47|  2019-01-01 01:18:59|              1|          2.6|         1|                 N|         239|         246|           1|       14.0|  0.5|    0.5|       1.0|         0.0|                  0.3|        16.3|                null|\n",
      "|       2| 2018-12-21 13:48:30|  2018-12-21 13:52:40|              3|          0.0|         1|                 N|         236|         236|           1|        4.5|  0.5|    0.5|       0.0|         0.0|                  0.3|         5.8|                null|\n",
      "|       2| 2018-11-28 15:52:25|  2018-11-28 15:55:45|              5|          0.0|         1|                 N|         193|         193|           2|        3.5|  0.5|    0.5|       0.0|         0.0|                  0.3|        7.55|                null|\n",
      "|       2| 2018-11-28 15:56:57|  2018-11-28 15:58:33|              5|          0.0|         2|                 N|         193|         193|           2|       52.0|  0.0|    0.5|       0.0|         0.0|                  0.3|       55.55|                null|\n",
      "+--------+--------------------+---------------------+---------------+-------------+----------+------------------+------------+------------+------------+-----------+-----+-------+----------+------------+---------------------+------------+--------------------+\n",
      "only showing top 5 rows\n",
      "\n",
      "root\n",
      " |-- VendorID: integer (nullable = true)\n",
      " |-- tpep_pickup_datetime: string (nullable = true)\n",
      " |-- tpep_dropoff_datetime: string (nullable = true)\n",
      " |-- passenger_count: integer (nullable = true)\n",
      " |-- trip_distance: double (nullable = true)\n",
      " |-- RatecodeID: integer (nullable = true)\n",
      " |-- store_and_fwd_flag: string (nullable = true)\n",
      " |-- PULocationID: integer (nullable = true)\n",
      " |-- DOLocationID: integer (nullable = true)\n",
      " |-- payment_type: integer (nullable = true)\n",
      " |-- fare_amount: double (nullable = true)\n",
      " |-- extra: double (nullable = true)\n",
      " |-- mta_tax: double (nullable = true)\n",
      " |-- tip_amount: double (nullable = true)\n",
      " |-- tolls_amount: double (nullable = true)\n",
      " |-- improvement_surcharge: double (nullable = true)\n",
      " |-- total_amount: double (nullable = true)\n",
      " |-- congestion_surcharge: double (nullable = true)\n",
      "\n"
     ]
    },
    {
     "name": "stderr",
     "output_type": "stream",
     "text": [
      "                                                                                \r"
     ]
    },
    {
     "data": {
      "text/plain": [
       "84399019"
      ]
     },
     "execution_count": 4,
     "metadata": {},
     "output_type": "execute_result"
    },
    {
     "name": "stdout",
     "output_type": "stream",
     "text": [
      "time: 3.95 s (started: 2021-08-07 18:11:58 +10:00)\n"
     ]
    }
   ],
   "source": [
    "# display summary information\n",
    "taxi_df.show(5)\n",
    "\n",
    "# print Schema\n",
    "taxi_df.printSchema()\n",
    "\n",
    "# print number of records\n",
    "taxi_df.count()"
   ]
  },
  {
   "cell_type": "code",
   "execution_count": 5,
   "id": "5878744d-a8dc-43cc-89fa-853f91e2236c",
   "metadata": {
    "execution": {
     "iopub.execute_input": "2021-08-07T08:12:03.469821Z",
     "iopub.status.busy": "2021-08-07T08:12:03.469620Z",
     "iopub.status.idle": "2021-08-07T08:19:11.659462Z",
     "shell.execute_reply": "2021-08-07T08:19:11.658976Z",
     "shell.execute_reply.started": "2021-08-07T08:12:03.469804Z"
    },
    "tags": []
   },
   "outputs": [
    {
     "name": "stderr",
     "output_type": "stream",
     "text": [
      "[Stage 6:>                                                          (0 + 1) / 1]\r"
     ]
    },
    {
     "name": "stdout",
     "output_type": "stream",
     "text": [
      "+-------+------------------+--------------------+---------------------+------------------+------------------+------------------+------------------+------------------+------------------+------------------+------------------+-----------------+-------------------+------------------+-------------------+---------------------+------------------+--------------------+\n",
      "|summary|          VendorID|tpep_pickup_datetime|tpep_dropoff_datetime|   passenger_count|     trip_distance|        RatecodeID|store_and_fwd_flag|      PULocationID|      DOLocationID|      payment_type|       fare_amount|            extra|            mta_tax|        tip_amount|       tolls_amount|improvement_surcharge|      total_amount|congestion_surcharge|\n",
      "+-------+------------------+--------------------+---------------------+------------------+------------------+------------------+------------------+------------------+------------------+------------------+------------------+-----------------+-------------------+------------------+-------------------+---------------------+------------------+--------------------+\n",
      "|  count|          84152418|            84399019|             84399019|          84152418|          84399019|          84152418|          84152418|          84399019|          84399019|          84152418|          84399019|         84399019|           84399019|          84399019|           84399019|             84399019|          84399019|            79543038|\n",
      "|   mean|1.6454766516631762|                null|                 null|1.5626939442191667|3.0009277213280505|1.0612957075101515|              null|163.15761897659024|161.35274483462894| 1.289363224239142| 13.34399120077402|1.086596863051219|  0.494609843510148|2.1950641269889553|0.38283104463564377|   0.2986038972725178|19.124363231868188|  2.1881800277731407|\n",
      "| stddev|0.4978746196020776|                null|                 null| 1.207917425667764| 8.091113794982272| 0.759542934176276|              null| 66.01603813256101| 70.25087854014987|0.4791325056800892|174.37490187136657|1.248593875593335|0.06728067086217758|15.657058091860547| 1.8172171523055136| 0.027900031220924635|184.08736168504933|  0.8373132137979482|\n",
      "|    min|                 1| 2001-01-01 00:02:08|  2001-01-01 01:00:02|                 0|         -37264.53|                 1|                 N|                 1|                 1|                 1|           -1856.0|            -60.0|               -0.5|            -221.0|              -70.0|                 -0.3|           -1871.8|                -2.5|\n",
      "|    25%|                 1|                null|                 null|                 1|              0.98|                 1|              null|               116|               107|                 1|               6.5|              0.0|                0.5|               0.0|                0.0|                  0.3|             11.15|                 2.5|\n",
      "|    50%|                 2|                null|                 null|                 1|              1.63|                 1|              null|               162|               162|                 1|               9.5|              0.5|                0.5|              1.86|                0.0|                  0.3|             14.72|                 2.5|\n",
      "|    75%|                 2|                null|                 null|                 2|              3.05|                 1|              null|               233|               233|                 2|              15.0|              2.5|                0.5|              2.95|                0.0|                  0.3|             20.75|                 2.5|\n",
      "|    max|                 4| 2090-12-31 06:41:26|  2090-12-31 07:18:49|                 9|          45977.22|                99|                 Y|               265|               265|                 5|          943274.8|           535.38|             212.42|         141492.02|             3288.0|                  1.0|        1084772.17|                 4.5|\n",
      "+-------+------------------+--------------------+---------------------+------------------+------------------+------------------+------------------+------------------+------------------+------------------+------------------+-----------------+-------------------+------------------+-------------------+---------------------+------------------+--------------------+\n",
      "\n",
      "time: 7min 8s (started: 2021-08-07 18:12:03 +10:00)\n"
     ]
    },
    {
     "name": "stderr",
     "output_type": "stream",
     "text": [
      "                                                                                \r"
     ]
    }
   ],
   "source": [
    "# display summary descriptive statistics for all \n",
    "taxi_df.select().summary().show()"
   ]
  },
  {
   "cell_type": "code",
   "execution_count": 58,
   "id": "22d46c79-3d1c-4e6e-9ae9-c30a5691c5bc",
   "metadata": {
    "execution": {
     "iopub.execute_input": "2021-08-07T10:01:04.620299Z",
     "iopub.status.busy": "2021-08-07T10:01:04.620077Z",
     "iopub.status.idle": "2021-08-07T10:03:18.054322Z",
     "shell.execute_reply": "2021-08-07T10:03:18.053970Z",
     "shell.execute_reply.started": "2021-08-07T10:01:04.620281Z"
    }
   },
   "outputs": [
    {
     "name": "stderr",
     "output_type": "stream",
     "text": [
      "                                                                                \r"
     ]
    },
    {
     "data": {
      "text/html": [
       "<div>\n",
       "<style scoped>\n",
       "    .dataframe tbody tr th:only-of-type {\n",
       "        vertical-align: middle;\n",
       "    }\n",
       "\n",
       "    .dataframe tbody tr th {\n",
       "        vertical-align: top;\n",
       "    }\n",
       "\n",
       "    .dataframe thead th {\n",
       "        text-align: right;\n",
       "    }\n",
       "</style>\n",
       "<table border=\"1\" class=\"dataframe\">\n",
       "  <thead>\n",
       "    <tr style=\"text-align: right;\">\n",
       "      <th></th>\n",
       "      <th>VendorID</th>\n",
       "      <th>passenger_count</th>\n",
       "      <th>RatecodeID</th>\n",
       "      <th>store_and_fwd_flag</th>\n",
       "      <th>payment_type</th>\n",
       "    </tr>\n",
       "  </thead>\n",
       "  <tbody>\n",
       "    <tr>\n",
       "      <th>0</th>\n",
       "      <td>1.0</td>\n",
       "      <td>1</td>\n",
       "      <td>1.0</td>\n",
       "      <td>Y</td>\n",
       "      <td>1.0</td>\n",
       "    </tr>\n",
       "    <tr>\n",
       "      <th>1</th>\n",
       "      <td>4.0</td>\n",
       "      <td>6</td>\n",
       "      <td>6.0</td>\n",
       "      <td>N</td>\n",
       "      <td>3.0</td>\n",
       "    </tr>\n",
       "    <tr>\n",
       "      <th>2</th>\n",
       "      <td>2.0</td>\n",
       "      <td>3</td>\n",
       "      <td>3.0</td>\n",
       "      <td>NaN</td>\n",
       "      <td>5.0</td>\n",
       "    </tr>\n",
       "    <tr>\n",
       "      <th>3</th>\n",
       "      <td>NaN</td>\n",
       "      <td>5</td>\n",
       "      <td>5.0</td>\n",
       "      <td>NaN</td>\n",
       "      <td>4.0</td>\n",
       "    </tr>\n",
       "    <tr>\n",
       "      <th>4</th>\n",
       "      <td>NaN</td>\n",
       "      <td>9</td>\n",
       "      <td>4.0</td>\n",
       "      <td>NaN</td>\n",
       "      <td>2.0</td>\n",
       "    </tr>\n",
       "    <tr>\n",
       "      <th>5</th>\n",
       "      <td>NaN</td>\n",
       "      <td>4</td>\n",
       "      <td>2.0</td>\n",
       "      <td>NaN</td>\n",
       "      <td>NaN</td>\n",
       "    </tr>\n",
       "    <tr>\n",
       "      <th>6</th>\n",
       "      <td>NaN</td>\n",
       "      <td>8</td>\n",
       "      <td>99.0</td>\n",
       "      <td>NaN</td>\n",
       "      <td>NaN</td>\n",
       "    </tr>\n",
       "    <tr>\n",
       "      <th>7</th>\n",
       "      <td>NaN</td>\n",
       "      <td>7</td>\n",
       "      <td>NaN</td>\n",
       "      <td>NaN</td>\n",
       "      <td>NaN</td>\n",
       "    </tr>\n",
       "    <tr>\n",
       "      <th>8</th>\n",
       "      <td>NaN</td>\n",
       "      <td>2</td>\n",
       "      <td>NaN</td>\n",
       "      <td>NaN</td>\n",
       "      <td>NaN</td>\n",
       "    </tr>\n",
       "    <tr>\n",
       "      <th>9</th>\n",
       "      <td>NaN</td>\n",
       "      <td>0</td>\n",
       "      <td>NaN</td>\n",
       "      <td>NaN</td>\n",
       "      <td>NaN</td>\n",
       "    </tr>\n",
       "  </tbody>\n",
       "</table>\n",
       "</div>"
      ],
      "text/plain": [
       "   VendorID  passenger_count  RatecodeID store_and_fwd_flag  payment_type\n",
       "0       1.0                1         1.0                  Y           1.0\n",
       "1       4.0                6         6.0                  N           3.0\n",
       "2       2.0                3         3.0                NaN           5.0\n",
       "3       NaN                5         5.0                NaN           4.0\n",
       "4       NaN                9         4.0                NaN           2.0\n",
       "5       NaN                4         2.0                NaN           NaN\n",
       "6       NaN                8        99.0                NaN           NaN\n",
       "7       NaN                7         NaN                NaN           NaN\n",
       "8       NaN                2         NaN                NaN           NaN\n",
       "9       NaN                0         NaN                NaN           NaN"
      ]
     },
     "execution_count": 58,
     "metadata": {},
     "output_type": "execute_result"
    },
    {
     "name": "stdout",
     "output_type": "stream",
     "text": [
      "time: 2min 13s (started: 2021-08-07 20:01:04 +10:00)\n"
     ]
    }
   ],
   "source": [
    "# show distinct value in each columno\n",
    "taxi_distinct_val = taxi_df.select(col('VendorID')).distinct().toPandas()\n",
    "\n",
    "for c in taxi_df.columns:\n",
    "    if c not in ['VendorID', 'tpep_pickup_datetime', 'tpep_dropoff_datetime', 'trip_distance', 'PULocationID',\n",
    "                 'DOLocationID', 'fare_amount', 'extra', 'mta_tax', 'tip_amount', 'tolls_amount', 'improvement_surcharge',\n",
    "                 'total_amount', 'congestion_surcharge']:\n",
    "        taxi_distinct_val = pd.concat([taxi_distinct_val, taxi_df.select(col(c)).distinct().toPandas()], axis=1)\n",
    "\n",
    "taxi_distinct_val"
   ]
  },
  {
   "cell_type": "code",
   "execution_count": null,
   "id": "82e0f465-86d7-4a18-a862-0eb9088f0e53",
   "metadata": {},
   "outputs": [
    {
     "name": "stderr",
     "output_type": "stream",
     "text": [
      "                                                                                \r"
     ]
    },
    {
     "name": "stdout",
     "output_type": "stream",
     "text": [
      "+---------------+--------+\n",
      "|passenger_count|   count|\n",
      "+---------------+--------+\n",
      "|           null|  246601|\n",
      "|              1|59108834|\n",
      "|              6| 2039148|\n",
      "|              3| 3583919|\n",
      "|              5| 3398212|\n",
      "|              9|     225|\n",
      "|              4| 1709802|\n",
      "|              8|     277|\n",
      "|              7|     416|\n",
      "|              2|12785787|\n",
      "|              0| 1525798|\n",
      "+---------------+--------+\n",
      "\n",
      "time: 14.3 s (started: 2021-08-07 19:25:12 +10:00)\n"
     ]
    }
   ],
   "source": [
    "# group data based on passenger_count, consider remove passenger_count > 6\n",
    "taxi_df.groupby('passenger_count').count().show()"
   ]
  },
  {
   "cell_type": "code",
   "execution_count": 57,
   "id": "16afe9e6-642e-49dd-bf02-d7b5f72c6b58",
   "metadata": {
    "execution": {
     "iopub.execute_input": "2021-08-07T09:53:40.258377Z",
     "iopub.status.busy": "2021-08-07T09:53:40.258196Z",
     "iopub.status.idle": "2021-08-07T09:54:05.317284Z",
     "shell.execute_reply": "2021-08-07T09:54:05.316901Z",
     "shell.execute_reply.started": "2021-08-07T09:53:40.258361Z"
    },
    "tags": []
   },
   "outputs": [
    {
     "name": "stderr",
     "output_type": "stream",
     "text": [
      "                                                                                \r"
     ]
    },
    {
     "data": {
      "text/plain": [
       "79296437"
      ]
     },
     "execution_count": 57,
     "metadata": {},
     "output_type": "execute_result"
    },
    {
     "name": "stdout",
     "output_type": "stream",
     "text": [
      "time: 25.1 s (started: 2021-08-07 19:53:40 +10:00)\n"
     ]
    }
   ],
   "source": [
    "# drop all null value from the current taxi dataframe\n",
    "taxi_df = taxi_df.dropna()\n",
    "taxi_df.count()"
   ]
  },
  {
   "cell_type": "code",
   "execution_count": 95,
   "id": "08d2f878-4a09-4874-8730-bc5c7162974e",
   "metadata": {
    "execution": {
     "iopub.execute_input": "2021-08-07T10:45:46.466598Z",
     "iopub.status.busy": "2021-08-07T10:45:46.466417Z",
     "iopub.status.idle": "2021-08-07T10:45:53.626115Z",
     "shell.execute_reply": "2021-08-07T10:45:53.625780Z",
     "shell.execute_reply.started": "2021-08-07T10:45:46.466582Z"
    },
    "tags": []
   },
   "outputs": [
    {
     "name": "stderr",
     "output_type": "stream",
     "text": [
      "[Stage 438:============================>                            (1 + 1) / 2]\r"
     ]
    },
    {
     "name": "stdout",
     "output_type": "stream",
     "text": [
      "+--------+--------------------+---------------------+---------------+-------------+----------+------------------+------------+------------+------------+-----------+-----+-------+----------+------------+---------------------+------------+--------------------+\n",
      "|VendorID|tpep_pickup_datetime|tpep_dropoff_datetime|passenger_count|trip_distance|RatecodeID|store_and_fwd_flag|PULocationID|DOLocationID|payment_type|fare_amount|extra|mta_tax|tip_amount|tolls_amount|improvement_surcharge|total_amount|congestion_surcharge|\n",
      "+--------+--------------------+---------------------+---------------+-------------+----------+------------------+------------+------------+------------+-----------+-----+-------+----------+------------+---------------------+------------+--------------------+\n",
      "|       1| 2019-01-01 07:01:20|  2019-01-31 14:29:21|              1|          1.2|         1|                 N|          48|         163|           2|        6.5|  0.0|    0.5|       0.0|         0.0|                  0.3|         7.3|                 0.0|\n",
      "|       1| 2019-01-03 21:43:46|  2019-01-03 21:45:47|              1|          0.6|         1|                 N|         263|         141|           1|        4.0|  0.0|    0.5|       1.5|         0.0|                  0.3|         6.3|                 0.0|\n",
      "|       1| 2019-01-03 21:49:22|  2019-01-03 21:59:12|              1|          2.2|         1|                 N|         263|         151|           1|       10.0|  0.0|    0.5|       1.0|         0.0|                  0.3|        11.8|                 0.0|\n",
      "|       1| 2019-01-03 22:04:40|  2019-01-03 22:16:15|              1|          2.5|         1|                 N|         238|         246|           1|       11.0|  0.0|    0.5|      2.35|         0.0|                  0.3|       14.15|                 0.0|\n",
      "|       1| 2019-01-03 22:24:36|  2019-01-27 10:41:17|              1|          1.1|         1|                 N|          50|         170|           1|        8.5|  0.0|    0.5|      1.85|         0.0|                  0.3|       11.15|                 0.0|\n",
      "|       1| 2019-01-05 03:36:02|  2019-01-05 03:38:17|              1|          0.4|         1|                 N|         217|         217|           1|        3.5|  0.5|    0.5|       0.0|         0.0|                  0.3|         4.8|                 0.0|\n",
      "|       1| 2019-01-05 03:50:35|  2019-01-05 04:00:41|              1|          1.9|         1|                 N|         148|         261|           1|        9.0|  0.5|    0.5|      2.05|         0.0|                  0.3|       12.35|                 0.0|\n",
      "|       1| 2019-01-05 04:09:40|  2019-01-05 04:14:28|              2|          0.3|         1|                 N|         113|         249|           1|        4.5|  0.5|    0.5|       1.4|         0.0|                  0.3|         7.2|                 0.0|\n",
      "|       1| 2019-01-05 04:21:40|  2019-01-27 01:53:46|              2|          3.9|         1|                 N|         114|         237|           1|       16.5|  0.5|    0.5|      3.55|         0.0|                  0.3|       21.35|                 0.0|\n",
      "|       1| 2019-01-15 20:33:57|  2019-01-15 20:38:13|              1|          1.0|         1|                 Y|         223|         223|           1|        5.5|  0.5|    0.5|       1.0|         0.0|                  0.3|         7.8|                 0.0|\n",
      "|       1| 2019-01-18 06:46:26|  2019-01-18 06:53:10|              1|          0.8|         1|                 Y|         163|         143|           2|        6.5|  0.0|    0.5|       0.0|         0.0|                  0.3|         7.3|                 0.0|\n",
      "|       1| 2019-01-18 07:06:46|  2019-01-18 07:14:40|              1|          1.2|         1|                 Y|         186|         161|           1|        7.5|  0.0|    0.5|      1.65|         0.0|                  0.3|        9.95|                 0.0|\n",
      "|       1| 2019-01-18 07:32:39|  2019-01-18 07:44:21|              1|          1.8|         1|                 Y|          68|         161|           1|        9.0|  0.0|    0.5|      1.95|         0.0|                  0.3|       11.75|                 0.0|\n",
      "|       1| 2019-01-18 07:50:53|  2019-01-18 07:57:27|              1|          1.1|         1|                 Y|         170|         237|           1|        6.5|  0.0|    0.5|      1.45|         0.0|                  0.3|        8.75|                 0.0|\n",
      "|       1| 2019-01-18 08:00:34|  2019-01-18 08:11:05|              1|          1.9|         1|                 Y|         237|         234|           2|        9.5|  0.0|    0.5|       0.0|         0.0|                  0.3|        10.3|                 0.0|\n",
      "|       1| 2019-01-18 08:12:22|  2019-01-18 08:15:18|              1|          0.5|         1|                 Y|         107|         170|           2|        4.0|  0.0|    0.5|       0.0|         0.0|                  0.3|         4.8|                 0.0|\n",
      "|       1| 2019-01-18 08:17:23|  2019-01-18 08:21:02|              1|          0.5|         1|                 Y|         137|         170|           1|        4.5|  0.0|    0.5|      1.05|         0.0|                  0.3|        6.35|                 0.0|\n",
      "|       1| 2019-01-18 08:23:10|  2019-01-18 08:27:51|              1|          0.8|         1|                 Y|         170|         100|           1|        5.0|  0.0|    0.5|      1.15|         0.0|                  0.3|        6.95|                 0.0|\n",
      "|       1| 2019-01-18 08:32:52|  2019-01-18 08:44:00|              1|          1.0|         1|                 Y|         186|         170|           1|        8.5|  0.0|    0.5|      1.85|         0.0|                  0.3|       11.15|                 0.0|\n",
      "|       1| 2019-01-18 08:46:37|  2019-01-18 09:03:46|              1|          2.3|         1|                 Y|         170|         249|           1|       12.5|  0.0|    0.5|       1.5|         0.0|                  0.3|        14.8|                 0.0|\n",
      "+--------+--------------------+---------------------+---------------+-------------+----------+------------------+------------+------------+------------+-----------+-----+-------+----------+------------+---------------------+------------+--------------------+\n",
      "only showing top 20 rows\n",
      "\n",
      "time: 7.16 s (started: 2021-08-07 20:45:46 +10:00)\n"
     ]
    },
    {
     "name": "stderr",
     "output_type": "stream",
     "text": [
      "                                                                                \r"
     ]
    }
   ],
   "source": [
    "# filter out rows with negative numerical attributes or abnormal field\n",
    "taxi_df_1 = taxi_df.filter((col(\"trip_distance\") > 0) # the trip distance at least greater than 0\n",
    "                & (col(\"passenger_count\").between(1, 6)) # passenger number is between 1 and 6\n",
    "                & (col('RatecodeID').between(1,6)) # remove unknown rate code 9\n",
    "                & (col('fare_amount') > 0) # the fare amount cannot be negative\n",
    "                & (col('extra') >= 0) # extra cannot be negative\n",
    "                & (col('mta_tax').between(0.5, 1)) # based on the dictionary, TLC only include 0.5$ and 1$ mta tax\n",
    "                & (col('tolls_amount') >= 0)  # tolls fee cannot be negative\n",
    "                & (col('improvement_surcharge') == 0.30) # the improvement surchage equal to $0.3 based on dictionary\n",
    "                & (col('total_amount') > 0) # total amount must greater than 0\n",
    "                & (col('congestion_surcharge') >= 0) # not appear in dictionary but it apparantly greater than 0\n",
    "                & (col('tpep_pickup_datetime').between('2018-01-01 00:00:00', '2019-12-31 23:59:59')) # filter out the datetime not in 2019\n",
    "                & (col('tpep_dropoff_datetime').between('2019-01-01 00:00:00', '2019-12-31 23:59:59')) \n",
    "                & (col('VendorID') != 4) # remove unknown VendorID 4\n",
    ")\n",
    "\n",
    "taxi_df_1.show()\n",
    "# see more explanation in README.md"
   ]
  },
  {
   "cell_type": "code",
   "execution_count": 96,
   "id": "cc939555-91db-4bff-83f4-736e8c7802ca",
   "metadata": {
    "execution": {
     "iopub.execute_input": "2021-08-07T10:45:53.629919Z",
     "iopub.status.busy": "2021-08-07T10:45:53.629792Z",
     "iopub.status.idle": "2021-08-07T10:49:35.900895Z",
     "shell.execute_reply": "2021-08-07T10:49:35.900547Z",
     "shell.execute_reply.started": "2021-08-07T10:45:53.629903Z"
    },
    "tags": []
   },
   "outputs": [
    {
     "name": "stderr",
     "output_type": "stream",
     "text": [
      "[Stage 439:======================================================>(59 + 1) / 60]\r"
     ]
    },
    {
     "name": "stdout",
     "output_type": "stream",
     "text": [
      "+-------+------------------+--------------------+---------------------+------------------+-----------------+-------------------+------------------+------------------+------------------+-------------------+-----------------+------------------+--------+------------------+-------------------+---------------------+-----------------+--------------------+\n",
      "|summary|          VendorID|tpep_pickup_datetime|tpep_dropoff_datetime|   passenger_count|    trip_distance|         RatecodeID|store_and_fwd_flag|      PULocationID|      DOLocationID|       payment_type|      fare_amount|             extra| mta_tax|        tip_amount|       tolls_amount|improvement_surcharge|     total_amount|congestion_surcharge|\n",
      "+-------+------------------+--------------------+---------------------+------------------+-----------------+-------------------+------------------+------------------+------------------+-------------------+-----------------+------------------+--------+------------------+-------------------+---------------------+-----------------+--------------------+\n",
      "|  count|          76487438|            76487438|             76487438|          76487438|         76487438|           76487438|          76487438|          76487438|          76487438|           76487438|         76487438|          76487438|76487438|          76487438|           76487438|             76487438|         76487438|            76487438|\n",
      "|   mean|1.6522171000158221|                null|                 null|1.5949679344731091|2.980291328100118| 1.0349666045815262|              null|163.14670886217942|161.41751185338435| 1.2813323149874625|13.02582855540278|1.1150255451097737|     0.5|2.1951144917413967|0.34317040819163674|   0.2999999999927671|18.93203711526008|   2.223965339249564|\n",
      "| stddev|0.4762666872964751|                null|                 null|1.2025549822446906|3.819688003028474|0.24006599400566542|              null| 65.87201689329899| 69.78902891562839|0.46488023793000044|94.37330125809795|1.2520696829514997|     0.0|2.6495431651281036| 1.5601610066328866|                  0.0|94.71706419070561|  0.7835057631057872|\n",
      "|    min|                 1| 2019-01-01 07:01:20|  2019-01-03 21:45:47|                 1|             0.01|                  1|                 N|                 1|                 1|                  1|             0.01|               0.0|     0.5|               0.0|                0.0|                  0.3|             0.81|                 0.0|\n",
      "|    max|                 2| 2019-12-31 23:59:07|  2019-12-31 23:59:59|                 6|            831.8|                  6|                 Y|               265|               265|                  5|        671123.14|             90.06|     0.5|           1624.64|             921.06|                  0.3|        671124.94|                 3.0|\n",
      "+-------+------------------+--------------------+---------------------+------------------+-----------------+-------------------+------------------+------------------+------------------+-------------------+-----------------+------------------+--------+------------------+-------------------+---------------------+-----------------+--------------------+\n",
      "\n",
      "time: 3min 42s (started: 2021-08-07 20:45:53 +10:00)\n"
     ]
    },
    {
     "name": "stderr",
     "output_type": "stream",
     "text": [
      "                                                                                \r"
     ]
    }
   ],
   "source": [
    "# show the descriptive statistics after first round cleanning process\n",
    "taxi_df_1.describe().show()"
   ]
  },
  {
   "cell_type": "markdown",
   "id": "09b59226-9fa5-4c23-8247-2fa5e8afd5df",
   "metadata": {},
   "source": [
    "Staging the Process File"
   ]
  },
  {
   "cell_type": "code",
   "execution_count": 113,
   "id": "223b1a28-9d20-4e7c-aed8-fda80dd49a56",
   "metadata": {
    "execution": {
     "iopub.execute_input": "2021-08-07T11:18:49.596749Z",
     "iopub.status.busy": "2021-08-07T11:18:49.596511Z",
     "iopub.status.idle": "2021-08-07T11:19:42.120787Z",
     "shell.execute_reply": "2021-08-07T11:19:42.120449Z",
     "shell.execute_reply.started": "2021-08-07T11:18:49.596732Z"
    },
    "tags": []
   },
   "outputs": [
    {
     "name": "stderr",
     "output_type": "stream",
     "text": [
      "                                                                                \r"
     ]
    },
    {
     "name": "stdout",
     "output_type": "stream",
     "text": [
      "time: 52.5 s (started: 2021-08-07 21:18:49 +10:00)\n"
     ]
    }
   ],
   "source": [
    "taxi_df_1.write.options(header=True).csv('./Preprocess/taxi_stage_1')"
   ]
  },
  {
   "cell_type": "markdown",
   "id": "7264fbd6-5c1c-4f90-9662-504477e49f2c",
   "metadata": {
    "tags": []
   },
   "source": [
    "#### Second Preprocessing Round"
   ]
  },
  {
   "cell_type": "markdown",
   "id": "e9ba059d-b4ab-4d27-a293-14410fd82f00",
   "metadata": {},
   "source": [
    "Aim to remove all extreme values, e.g. 671122.14 fare_amount looks like a rare case, cross state travel.\n",
    "\n",
    "Change the column names for convenience:"
   ]
  },
  {
   "cell_type": "code",
   "execution_count": 137,
   "id": "e727b948-d065-4239-ab8f-0d0c70aef2f9",
   "metadata": {
    "execution": {
     "iopub.execute_input": "2021-08-07T11:37:33.270011Z",
     "iopub.status.busy": "2021-08-07T11:37:33.269707Z",
     "iopub.status.idle": "2021-08-07T11:38:08.117873Z",
     "shell.execute_reply": "2021-08-07T11:38:08.117543Z",
     "shell.execute_reply.started": "2021-08-07T11:37:33.269984Z"
    },
    "tags": []
   },
   "outputs": [
    {
     "name": "stderr",
     "output_type": "stream",
     "text": [
      "[Stage 5:========================================================>(57 + 1) / 58]\r"
     ]
    },
    {
     "name": "stdout",
     "output_type": "stream",
     "text": [
      "time: 34.8 s (started: 2021-08-07 21:37:33 +10:00)\n"
     ]
    },
    {
     "name": "stderr",
     "output_type": "stream",
     "text": [
      "                                                                                \r"
     ]
    }
   ],
   "source": [
    "taxi_df_2 = spark.read.options(header=True, inferSchema=True).csv('./Preprocess/taxi_stage_1')"
   ]
  },
  {
   "cell_type": "code",
   "execution_count": 138,
   "id": "98936fc1-3cd8-4417-bc7b-b77bce6415b4",
   "metadata": {
    "execution": {
     "iopub.execute_input": "2021-08-07T11:38:08.300626Z",
     "iopub.status.busy": "2021-08-07T11:38:08.300390Z",
     "iopub.status.idle": "2021-08-07T11:38:08.360915Z",
     "shell.execute_reply": "2021-08-07T11:38:08.360481Z",
     "shell.execute_reply.started": "2021-08-07T11:38:08.300602Z"
    },
    "tags": []
   },
   "outputs": [
    {
     "name": "stdout",
     "output_type": "stream",
     "text": [
      "+--------+-------------------+-------------------+---------------+-------------+----------+------------------+------------+------------+------------+-----------+-----+-------+----------+------------+---------------------+------------+--------------------+\n",
      "|VendorID|          pickup_dt|         dropoff_dt|passenger_count|trip_distance|RatecodeID|store_and_fwd_flag|PULocationID|DOLocationID|payment_type|fare_amount|extra|mta_tax|tip_amount|tolls_amount|improvement_surcharge|total_amount|congestion_surcharge|\n",
      "+--------+-------------------+-------------------+---------------+-------------+----------+------------------+------------+------------+------------+-----------+-----+-------+----------+------------+---------------------+------------+--------------------+\n",
      "|       2|2019-01-25 17:01:30|2019-01-25 17:58:00|              1|        10.68|         1|                 N|         246|         223|           1|       42.5|  1.0|    0.5|      7.51|        5.76|                  0.3|       59.52|                 0.0|\n",
      "|       1|2019-01-25 17:25:41|2019-01-25 17:27:46|              1|          0.3|         1|                 N|         239|         239|           1|        3.5|  1.0|    0.5|       1.0|         0.0|                  0.3|         6.3|                 0.0|\n",
      "|       1|2019-01-25 17:33:04|2019-01-25 17:37:02|              1|          0.7|         1|                 N|         238|         166|           2|        5.0|  1.0|    0.5|       0.0|         0.0|                  0.3|         6.8|                 0.0|\n",
      "|       1|2019-01-25 17:54:48|2019-01-25 18:15:12|              1|          3.8|         1|                 N|         143|         158|           1|       16.5|  1.0|    0.5|      3.65|         0.0|                  0.3|       21.95|                 0.0|\n",
      "|       2|2019-01-25 17:22:35|2019-01-25 17:26:03|              4|         0.62|         1|                 N|         236|         236|           2|        4.5|  1.0|    0.5|       0.0|         0.0|                  0.3|         6.3|                 0.0|\n",
      "|       2|2019-01-25 17:47:00|2019-01-25 17:51:55|              4|         0.85|         1|                 N|         162|         237|           2|        5.5|  1.0|    0.5|       0.0|         0.0|                  0.3|         7.3|                 0.0|\n",
      "|       2|2019-01-25 17:56:08|2019-01-25 18:10:04|              4|         1.29|         1|                 N|         237|         230|           1|       10.0|  1.0|    0.5|       2.0|         0.0|                  0.3|        13.8|                 0.0|\n",
      "|       2|2019-01-25 17:00:19|2019-01-25 17:28:59|              1|          3.5|         1|                 N|         226|         164|           2|       18.5|  1.0|    0.5|       0.0|         0.0|                  0.3|        20.3|                 0.0|\n",
      "|       2|2019-01-25 17:32:37|2019-01-25 17:39:02|              1|          0.8|         1|                 N|         164|          90|           1|        6.0|  1.0|    0.5|       1.0|         0.0|                  0.3|         8.8|                 0.0|\n",
      "|       2|2019-01-25 17:48:59|2019-01-25 18:12:19|              1|         2.73|         1|                 N|         186|         140|           1|       16.0|  1.0|    0.5|      3.56|         0.0|                  0.3|       21.36|                 0.0|\n",
      "|       2|2019-01-25 17:05:05|2019-01-25 17:10:05|              5|          1.0|         1|                 N|         230|         186|           1|        5.5|  1.0|    0.5|      1.46|         0.0|                  0.3|        8.76|                 0.0|\n",
      "|       2|2019-01-25 17:13:07|2019-01-25 17:21:58|              5|         0.85|         1|                 N|         186|         246|           2|        6.5|  1.0|    0.5|       0.0|         0.0|                  0.3|         8.3|                 0.0|\n",
      "|       2|2019-01-25 17:33:25|2019-01-25 17:52:31|              5|         3.26|         1|                 N|          48|         236|           1|       14.5|  1.0|    0.5|      3.26|         0.0|                  0.3|       19.56|                 0.0|\n",
      "|       2|2019-01-25 17:54:52|2019-01-25 18:06:19|              5|         1.69|         1|                 N|         236|         237|           1|        9.5|  1.0|    0.5|       1.7|         0.0|                  0.3|        13.0|                 0.0|\n",
      "|       2|2019-01-25 17:01:22|2019-01-25 17:46:46|              1|         8.31|         1|                 N|         138|         230|           2|       35.0|  1.0|    0.5|       0.0|        5.76|                  0.3|       42.56|                 0.0|\n",
      "|       2|2019-01-25 17:54:09|2019-01-25 18:10:53|              1|         1.67|         1|                 N|         161|          48|           1|       11.5|  1.0|    0.5|      3.32|         0.0|                  0.3|       16.62|                 0.0|\n",
      "|       1|2019-01-25 17:00:30|2019-01-25 17:03:01|              3|          0.4|         1|                 N|         170|         161|           1|        4.0|  1.0|    0.5|      1.04|         0.0|                  0.3|        6.84|                 0.0|\n",
      "|       1|2019-01-25 17:12:39|2019-01-25 17:31:46|              2|          2.1|         1|                 N|         237|         234|           1|       13.0|  1.0|    0.5|       1.0|         0.0|                  0.3|        15.8|                 0.0|\n",
      "|       1|2019-01-25 17:32:48|2019-01-25 17:41:15|              1|          0.5|         1|                 N|         234|          90|           1|        7.0|  1.0|    0.5|       2.2|         0.0|                  0.3|        11.0|                 0.0|\n",
      "|       1|2019-01-25 17:44:58|2019-01-25 17:54:08|              1|          0.9|         1|                 N|          90|          48|           2|        7.5|  1.0|    0.5|       0.0|         0.0|                  0.3|         9.3|                 0.0|\n",
      "+--------+-------------------+-------------------+---------------+-------------+----------+------------------+------------+------------+------------+-----------+-----+-------+----------+------------+---------------------+------------+--------------------+\n",
      "only showing top 20 rows\n",
      "\n",
      "time: 58 ms (started: 2021-08-07 21:38:08 +10:00)\n"
     ]
    }
   ],
   "source": [
    "taxi_df_2 = taxi_df_2.withColumnRenamed('tpep_pickup_datetime', 'pickup_dt')\\\n",
    "    .withColumnRenamed('tpep_dropoff_datetime', 'dropoff_dt')\n",
    "taxi_df_2.show()"
   ]
  },
  {
   "cell_type": "code",
   "execution_count": 174,
   "id": "03cef3da-1938-44d7-b5a1-576396af7a41",
   "metadata": {
    "execution": {
     "iopub.execute_input": "2021-08-07T12:10:13.347923Z",
     "iopub.status.busy": "2021-08-07T12:10:13.347615Z",
     "iopub.status.idle": "2021-08-07T12:11:56.291242Z",
     "shell.execute_reply": "2021-08-07T12:11:56.290891Z",
     "shell.execute_reply.started": "2021-08-07T12:10:13.347904Z"
    },
    "tags": []
   },
   "outputs": [
    {
     "name": "stderr",
     "output_type": "stream",
     "text": [
      "[Stage 43:>                                                         (0 + 1) / 1]\r"
     ]
    },
    {
     "name": "stdout",
     "output_type": "stream",
     "text": [
      "+-------+------------------+------------------+------------------+------------------+------------------+------------------+--------------------+\n",
      "|summary|     trip_distance|       fare_amount|             extra|        tip_amount|      tolls_amount|      total_amount|congestion_surcharge|\n",
      "+-------+------------------+------------------+------------------+------------------+------------------+------------------+--------------------+\n",
      "|  count|          76487438|          76487438|          76487438|          76487438|          76487438|          76487438|            76487438|\n",
      "|   mean|2.9802913281001184|13.025828555402784|1.1150255451097737|2.1951144917414087|0.3431704081916386|18.932037115258847|   2.223965339249564|\n",
      "| stddev|3.8196880030284746| 94.37330125809798|   1.2520696829515|2.6495431651281023|1.5601610066328873| 94.71706419070561|   0.783505763105787|\n",
      "|    min|              0.01|              0.01|               0.0|               0.0|               0.0|              0.81|                 0.0|\n",
      "|    25%|               1.0|               6.5|               0.0|               0.0|               0.0|              11.3|                 2.5|\n",
      "|    50%|              1.65|               9.5|               0.5|              1.95|               0.0|             14.76|                 2.5|\n",
      "|    75%|              3.05|              14.5|               2.5|              2.96|               0.0|             20.75|                 2.5|\n",
      "|    max|             831.8|         671123.14|             90.06|           1624.64|            921.06|         671124.94|                 3.0|\n",
      "+-------+------------------+------------------+------------------+------------------+------------------+------------------+--------------------+\n",
      "\n",
      "time: 1min 42s (started: 2021-08-07 22:10:13 +10:00)\n"
     ]
    },
    {
     "name": "stderr",
     "output_type": "stream",
     "text": [
      "                                                                                \r"
     ]
    }
   ],
   "source": [
    "taxi_df_2_summary = taxi_df_2.drop('VendorID', 'dropoff_dt', 'pickup_dt', 'passenger_count','mta_tax',\n",
    "                                   'RatecodeID', 'store_and_fwd_flag', 'PULocationID', 'DOLocationID',\n",
    "                                   'payment_type', 'improvement_surcharge').summary()\n",
    "taxi_df_2_summary.show()"
   ]
  },
  {
   "cell_type": "code",
   "execution_count": 168,
   "id": "37e1f978-7bf2-459d-bd5e-7326ecbb3702",
   "metadata": {
    "collapsed": true,
    "execution": {
     "iopub.execute_input": "2021-08-07T12:06:49.183841Z",
     "iopub.status.busy": "2021-08-07T12:06:49.183654Z",
     "iopub.status.idle": "2021-08-07T12:07:10.469563Z",
     "shell.execute_reply": "2021-08-07T12:07:10.469190Z",
     "shell.execute_reply.started": "2021-08-07T12:06:49.183824Z"
    },
    "jupyter": {
     "outputs_hidden": true
    },
    "tags": []
   },
   "outputs": [
    {
     "name": "stderr",
     "output_type": "stream",
     "text": [
      "[Stage 31:================================>                    (121 + 16) / 200]\r"
     ]
    },
    {
     "name": "stdout",
     "output_type": "stream",
     "text": [
      "+-------------+-----+\n",
      "|trip_distance|count|\n",
      "+-------------+-----+\n",
      "|        831.8|    1|\n",
      "|        830.9|    1|\n",
      "|        701.5|    1|\n",
      "|        701.3|    1|\n",
      "|        603.5|    1|\n",
      "|       543.09|    1|\n",
      "|        401.4|    1|\n",
      "|       363.13|    1|\n",
      "|       311.56|    1|\n",
      "|       307.95|    1|\n",
      "|        307.5|    1|\n",
      "|        300.8|    1|\n",
      "|       294.07|    1|\n",
      "|       237.17|    1|\n",
      "|       226.45|    1|\n",
      "|        225.3|    1|\n",
      "|       214.01|    1|\n",
      "|       209.56|    1|\n",
      "|       209.38|    1|\n",
      "|       203.78|    1|\n",
      "+-------------+-----+\n",
      "only showing top 20 rows\n",
      "\n",
      "time: 21.3 s (started: 2021-08-07 22:06:49 +10:00)\n"
     ]
    },
    {
     "name": "stderr",
     "output_type": "stream",
     "text": [
      "                                                                                \r"
     ]
    }
   ],
   "source": [
    "taxi_df_2.groupby('trip_distance').count().orderBy(desc('trip_distance')).show(20)"
   ]
  },
  {
   "cell_type": "code",
   "execution_count": 164,
   "id": "87555a4b-4d90-4bc0-a9ca-f269ca1c760d",
   "metadata": {
    "collapsed": true,
    "execution": {
     "iopub.execute_input": "2021-08-07T11:58:45.340945Z",
     "iopub.status.busy": "2021-08-07T11:58:45.340755Z",
     "iopub.status.idle": "2021-08-07T11:59:03.379286Z",
     "shell.execute_reply": "2021-08-07T11:59:03.378926Z",
     "shell.execute_reply.started": "2021-08-07T11:58:45.340928Z"
    },
    "jupyter": {
     "outputs_hidden": true
    },
    "scrolled": true,
    "tags": []
   },
   "outputs": [
    {
     "name": "stderr",
     "output_type": "stream",
     "text": [
      "[Stage 23:==============================>                      (115 + 16) / 200]\r"
     ]
    },
    {
     "name": "stdout",
     "output_type": "stream",
     "text": [
      "+-----------+-----+\n",
      "|fare_amount|count|\n",
      "+-----------+-----+\n",
      "|  671123.14|    1|\n",
      "|  411042.01|    1|\n",
      "|  171862.12|    1|\n",
      "|  150998.39|    1|\n",
      "|     9434.0|    1|\n",
      "|     9022.0|    1|\n",
      "|    6666.65|    1|\n",
      "|     6012.5|    1|\n",
      "|     4016.5|    1|\n",
      "|    3035.49|    1|\n",
      "|     3019.5|    1|\n",
      "|     3008.5|    1|\n",
      "|     3004.0|    1|\n",
      "|     2253.5|    1|\n",
      "|     2154.5|    1|\n",
      "|     1988.0|    1|\n",
      "|     1574.0|    1|\n",
      "|     1552.0|    1|\n",
      "|     1472.0|    1|\n",
      "|     1382.5|    1|\n",
      "|     1167.0|    1|\n",
      "|     1143.0|    1|\n",
      "|      917.0|    1|\n",
      "|      907.0|    1|\n",
      "|      860.5|    1|\n",
      "|      805.5|    1|\n",
      "|      796.5|    1|\n",
      "|      794.5|    1|\n",
      "|      760.0|    1|\n",
      "|      743.0|    1|\n",
      "|      686.5|    1|\n",
      "|      674.0|    1|\n",
      "|      664.0|    1|\n",
      "|      661.5|    1|\n",
      "|      643.5|    1|\n",
      "|      620.0|    1|\n",
      "|      617.0|    1|\n",
      "|      616.0|    1|\n",
      "|      613.0|    1|\n",
      "|      612.0|    1|\n",
      "|      610.0|    1|\n",
      "|      609.5|    1|\n",
      "|      602.5|    1|\n",
      "|      585.0|    1|\n",
      "|      579.0|    1|\n",
      "|      577.5|    1|\n",
      "|      575.0|    1|\n",
      "|      572.5|    1|\n",
      "|      572.0|    1|\n",
      "|      560.5|    1|\n",
      "|      554.0|    2|\n",
      "|      553.0|    1|\n",
      "|      550.5|    1|\n",
      "|      548.5|    1|\n",
      "|      546.0|    1|\n",
      "|      545.5|    1|\n",
      "|      544.5|    1|\n",
      "|      541.5|    1|\n",
      "|      538.0|    1|\n",
      "|      534.0|    1|\n",
      "|      530.0|    1|\n",
      "|      529.0|    1|\n",
      "|      528.0|    1|\n",
      "|      526.5|    1|\n",
      "|      520.5|    2|\n",
      "|      514.5|    1|\n",
      "|      514.0|    1|\n",
      "|      508.0|    1|\n",
      "|      506.5|    1|\n",
      "|      505.5|    1|\n",
      "|      501.5|    1|\n",
      "|      499.0|    1|\n",
      "|      495.5|    1|\n",
      "|      495.0|    1|\n",
      "|      494.5|    1|\n",
      "|      493.5|    1|\n",
      "|      493.0|    1|\n",
      "|      492.5|    1|\n",
      "|      490.0|    3|\n",
      "|      489.0|    1|\n",
      "|      488.0|    1|\n",
      "|      487.0|    1|\n",
      "|      485.5|    1|\n",
      "|      480.0|    2|\n",
      "|      479.0|    1|\n",
      "|      478.0|    1|\n",
      "|      477.5|    1|\n",
      "|      475.5|    1|\n",
      "|      473.5|    1|\n",
      "|      473.0|    1|\n",
      "|      470.0|    2|\n",
      "|      468.0|    2|\n",
      "|      465.0|    2|\n",
      "|      462.5|    1|\n",
      "|      460.0|    3|\n",
      "|      458.5|    1|\n",
      "|      458.0|    4|\n",
      "|     455.92|    1|\n",
      "|      455.5|    1|\n",
      "|      455.0|    1|\n",
      "+-----------+-----+\n",
      "only showing top 100 rows\n",
      "\n",
      "time: 18 s (started: 2021-08-07 21:58:45 +10:00)\n"
     ]
    },
    {
     "name": "stderr",
     "output_type": "stream",
     "text": [
      "                                                                                \r"
     ]
    }
   ],
   "source": [
    "taxi_df_2.groupby('fare_amount').count().orderBy(desc('fare_amount')).show(100)"
   ]
  },
  {
   "cell_type": "code",
   "execution_count": 169,
   "id": "523a7ee2-4b54-45a3-a0b2-77186f99981f",
   "metadata": {
    "collapsed": true,
    "execution": {
     "iopub.execute_input": "2021-08-07T12:07:45.075841Z",
     "iopub.status.busy": "2021-08-07T12:07:45.075657Z",
     "iopub.status.idle": "2021-08-07T12:08:00.204724Z",
     "shell.execute_reply": "2021-08-07T12:08:00.204222Z",
     "shell.execute_reply.started": "2021-08-07T12:07:45.075825Z"
    },
    "jupyter": {
     "outputs_hidden": true
    },
    "scrolled": true,
    "tags": []
   },
   "outputs": [
    {
     "name": "stderr",
     "output_type": "stream",
     "text": [
      "[Stage 32:======================================================> (56 + 2) / 58]\r"
     ]
    },
    {
     "name": "stdout",
     "output_type": "stream",
     "text": [
      "+-----+-----+\n",
      "|extra|count|\n",
      "+-----+-----+\n",
      "|90.06|    1|\n",
      "|87.56|   10|\n",
      "| 62.5|    2|\n",
      "| 32.5|    1|\n",
      "| 30.8|    1|\n",
      "| 23.0|    1|\n",
      "|22.48|    1|\n",
      "| 20.6|    1|\n",
      "| 20.2|    3|\n",
      "| 20.1|    1|\n",
      "| 20.0|    1|\n",
      "| 12.5|    1|\n",
      "|12.48|    1|\n",
      "| 12.0|    3|\n",
      "| 11.8|    2|\n",
      "| 11.5|    1|\n",
      "|  9.5|   16|\n",
      "| 8.84|    1|\n",
      "|  8.5|    1|\n",
      "|  8.0|    1|\n",
      "+-----+-----+\n",
      "only showing top 20 rows\n",
      "\n",
      "time: 15.1 s (started: 2021-08-07 22:07:45 +10:00)\n"
     ]
    },
    {
     "name": "stderr",
     "output_type": "stream",
     "text": [
      "                                                                                \r"
     ]
    }
   ],
   "source": [
    "taxi_df_2.groupby('extra').count().orderBy(desc('extra')).show(20)"
   ]
  },
  {
   "cell_type": "code",
   "execution_count": 165,
   "id": "0376f4a9-31e6-4334-9ba2-fbe5e031d2bf",
   "metadata": {
    "collapsed": true,
    "execution": {
     "iopub.execute_input": "2021-08-07T11:59:03.390778Z",
     "iopub.status.busy": "2021-08-07T11:59:03.390591Z",
     "iopub.status.idle": "2021-08-07T11:59:22.107929Z",
     "shell.execute_reply": "2021-08-07T11:59:22.107432Z",
     "shell.execute_reply.started": "2021-08-07T11:59:03.390759Z"
    },
    "jupyter": {
     "outputs_hidden": true
    },
    "scrolled": true,
    "tags": []
   },
   "outputs": [
    {
     "name": "stderr",
     "output_type": "stream",
     "text": [
      "[Stage 25:=======================================>             (149 + 16) / 200]\r"
     ]
    },
    {
     "name": "stdout",
     "output_type": "stream",
     "text": [
      "+----------+-----+\n",
      "|tip_amount|count|\n",
      "+----------+-----+\n",
      "|   1624.64|    1|\n",
      "|     500.0|    2|\n",
      "|     484.0|    1|\n",
      "|    448.34|    1|\n",
      "|     444.8|    1|\n",
      "|    444.76|    1|\n",
      "|     444.0|    1|\n",
      "|    440.22|    1|\n",
      "|    438.11|    1|\n",
      "|    420.29|    1|\n",
      "|     420.0|    1|\n",
      "|    419.56|    1|\n",
      "|    411.38|    1|\n",
      "|    411.11|    1|\n",
      "|    408.18|    1|\n",
      "|    404.44|    1|\n",
      "|    400.26|    1|\n",
      "|     400.0|    3|\n",
      "|    397.52|    1|\n",
      "|    392.46|    1|\n",
      "|    388.12|    1|\n",
      "|    378.27|    1|\n",
      "|     378.1|    1|\n",
      "|    373.15|    1|\n",
      "|    372.36|    1|\n",
      "|    362.26|    1|\n",
      "|    357.31|    1|\n",
      "|     356.9|    1|\n",
      "|     355.0|    1|\n",
      "|     353.5|    1|\n",
      "|    352.86|    1|\n",
      "|    352.36|    1|\n",
      "|     350.5|    1|\n",
      "|    346.08|    1|\n",
      "|    342.34|    1|\n",
      "|    338.88|    1|\n",
      "|    335.69|    1|\n",
      "|     335.4|    1|\n",
      "|     335.0|    1|\n",
      "|    333.55|    1|\n",
      "|     333.5|    1|\n",
      "|    333.33|    1|\n",
      "|     333.2|    1|\n",
      "|     333.0|    5|\n",
      "|    332.28|    1|\n",
      "|    330.08|    1|\n",
      "|     330.0|    4|\n",
      "|     323.0|    2|\n",
      "|     310.0|    1|\n",
      "|     303.0|    2|\n",
      "|    301.37|    1|\n",
      "|     300.0|    7|\n",
      "|     298.8|    1|\n",
      "|     289.5|    1|\n",
      "|    289.45|    1|\n",
      "|    288.69|    1|\n",
      "|    287.52|    1|\n",
      "|    284.92|    1|\n",
      "|     280.2|    1|\n",
      "|     280.0|    1|\n",
      "|     277.0|    1|\n",
      "|    275.06|    1|\n",
      "|     275.0|    1|\n",
      "|     270.0|    1|\n",
      "|     266.6|    1|\n",
      "|     266.0|    1|\n",
      "|    265.74|    1|\n",
      "|     262.0|    1|\n",
      "|     260.0|    1|\n",
      "|     255.0|    1|\n",
      "|    254.95|    1|\n",
      "|     250.5|    1|\n",
      "|    250.08|    1|\n",
      "|    250.01|    1|\n",
      "|     250.0|    6|\n",
      "|    249.99|    1|\n",
      "|    246.93|    1|\n",
      "|    245.55|    1|\n",
      "|     245.3|    1|\n",
      "|    244.54|    1|\n",
      "|     244.0|    1|\n",
      "|    243.08|    1|\n",
      "|    242.47|    1|\n",
      "|    242.09|    1|\n",
      "|    241.98|    1|\n",
      "|     239.0|    1|\n",
      "|    236.53|    1|\n",
      "|     233.0|    1|\n",
      "|     232.6|    1|\n",
      "|     230.3|    1|\n",
      "|    230.07|    1|\n",
      "|     228.2|    1|\n",
      "|     228.0|    2|\n",
      "|     227.0|    1|\n",
      "|     226.1|    1|\n",
      "|    225.66|    1|\n",
      "|    225.15|    1|\n",
      "|     225.1|    1|\n",
      "|    224.59|    1|\n",
      "|    224.28|    1|\n",
      "+----------+-----+\n",
      "only showing top 100 rows\n",
      "\n",
      "time: 18.7 s (started: 2021-08-07 21:59:03 +10:00)\n"
     ]
    },
    {
     "name": "stderr",
     "output_type": "stream",
     "text": [
      "                                                                                \r"
     ]
    }
   ],
   "source": [
    "taxi_df_2.groupby('tip_amount').count().orderBy(desc('tip_amount')).show(100)"
   ]
  },
  {
   "cell_type": "code",
   "execution_count": 170,
   "id": "156e1214-63b6-4085-844f-733152e7adf7",
   "metadata": {
    "collapsed": true,
    "execution": {
     "iopub.execute_input": "2021-08-07T12:08:38.130941Z",
     "iopub.status.busy": "2021-08-07T12:08:38.130682Z",
     "iopub.status.idle": "2021-08-07T12:08:56.496759Z",
     "shell.execute_reply": "2021-08-07T12:08:56.496403Z",
     "shell.execute_reply.started": "2021-08-07T12:08:38.130922Z"
    },
    "jupyter": {
     "outputs_hidden": true
    },
    "scrolled": true,
    "tags": []
   },
   "outputs": [
    {
     "name": "stderr",
     "output_type": "stream",
     "text": [
      "[Stage 34:=======================================================>(57 + 1) / 58]\r"
     ]
    },
    {
     "name": "stdout",
     "output_type": "stream",
     "text": [
      "+------------+-----+\n",
      "|tolls_amount|count|\n",
      "+------------+-----+\n",
      "|      921.06|    1|\n",
      "|       910.5|    1|\n",
      "|      900.88|    1|\n",
      "|      900.09|    1|\n",
      "|      886.12|    1|\n",
      "|      812.59|    1|\n",
      "|      806.13|    1|\n",
      "|      805.76|    1|\n",
      "|      771.52|    1|\n",
      "|      766.66|    1|\n",
      "|      765.76|    2|\n",
      "|       760.0|    1|\n",
      "|      706.68|    1|\n",
      "|      706.13|    1|\n",
      "|      668.63|    1|\n",
      "|      651.12|    1|\n",
      "|      619.56|    1|\n",
      "|      618.12|    1|\n",
      "|       617.0|    1|\n",
      "|      612.66|    1|\n",
      "+------------+-----+\n",
      "only showing top 20 rows\n",
      "\n",
      "time: 18.4 s (started: 2021-08-07 22:08:38 +10:00)\n"
     ]
    },
    {
     "name": "stderr",
     "output_type": "stream",
     "text": [
      "                                                                                \r"
     ]
    }
   ],
   "source": [
    "taxi_df_2.groupby('tolls_amount').count().orderBy(desc('tolls_amount')).show(20)"
   ]
  },
  {
   "cell_type": "code",
   "execution_count": 173,
   "id": "06a654b7-2669-4267-96f6-bc1b6ec85f65",
   "metadata": {
    "collapsed": true,
    "execution": {
     "iopub.execute_input": "2021-08-07T12:09:52.011149Z",
     "iopub.status.busy": "2021-08-07T12:09:52.010897Z",
     "iopub.status.idle": "2021-08-07T12:10:12.808674Z",
     "shell.execute_reply": "2021-08-07T12:10:12.808155Z",
     "shell.execute_reply.started": "2021-08-07T12:09:52.011128Z"
    },
    "jupyter": {
     "outputs_hidden": true
    },
    "scrolled": true,
    "tags": []
   },
   "outputs": [
    {
     "name": "stderr",
     "output_type": "stream",
     "text": [
      "[Stage 41:======================================>              (144 + 18) / 200]\r"
     ]
    },
    {
     "name": "stdout",
     "output_type": "stream",
     "text": [
      "+------------+-----+\n",
      "|total_amount|count|\n",
      "+------------+-----+\n",
      "|   671124.94|    1|\n",
      "|   411042.81|    1|\n",
      "|   171862.92|    1|\n",
      "|   151007.81|    1|\n",
      "|    10650.44|    1|\n",
      "|      9435.8|    1|\n",
      "|     6667.45|    1|\n",
      "|      6015.8|    1|\n",
      "|      4020.3|    1|\n",
      "|     3036.29|    1|\n",
      "|      3022.8|    1|\n",
      "|      3012.8|    1|\n",
      "|      3007.3|    1|\n",
      "|      2254.3|    1|\n",
      "|      2155.8|    1|\n",
      "|      1988.8|    1|\n",
      "|      1587.8|    1|\n",
      "|      1582.8|    1|\n",
      "|      1472.8|    1|\n",
      "|      1386.3|    1|\n",
      "|      1170.3|    1|\n",
      "|     1150.06|    1|\n",
      "|       970.3|    1|\n",
      "|      960.68|    1|\n",
      "|      959.89|    1|\n",
      "|      952.92|    1|\n",
      "|      947.36|    1|\n",
      "|      922.54|    1|\n",
      "|       920.3|    1|\n",
      "|      905.49|    1|\n",
      "|      880.65|    1|\n",
      "|      867.42|    1|\n",
      "|      861.06|    1|\n",
      "|      845.39|    1|\n",
      "|      844.83|    1|\n",
      "|      843.36|    1|\n",
      "|      837.93|    1|\n",
      "|      826.92|    1|\n",
      "|      820.48|    1|\n",
      "|       807.8|    1|\n",
      "|      805.56|    1|\n",
      "|      804.56|    1|\n",
      "|      802.32|    1|\n",
      "|      799.06|    1|\n",
      "|       797.8|    1|\n",
      "|       792.3|    1|\n",
      "|      788.88|    1|\n",
      "|      785.06|    1|\n",
      "|      781.96|    1|\n",
      "|      780.16|    1|\n",
      "|       761.8|    1|\n",
      "|      761.43|    1|\n",
      "|      760.02|    1|\n",
      "|      750.07|    1|\n",
      "|       743.8|    1|\n",
      "|      739.98|    1|\n",
      "|      728.18|    1|\n",
      "|      723.93|    1|\n",
      "|      718.23|    1|\n",
      "|      709.28|    1|\n",
      "|      708.28|    1|\n",
      "|       692.9|    1|\n",
      "|       690.3|    1|\n",
      "|      688.14|    1|\n",
      "|      683.42|    1|\n",
      "|       675.3|    1|\n",
      "|      673.42|    1|\n",
      "|       671.8|    1|\n",
      "|      671.42|    1|\n",
      "|       669.3|    1|\n",
      "|      667.87|    1|\n",
      "|      667.42|    1|\n",
      "|      666.36|    1|\n",
      "|      665.42|    1|\n",
      "|      662.62|    1|\n",
      "|       662.3|    1|\n",
      "|      661.42|    1|\n",
      "|       656.8|    1|\n",
      "|      656.62|    1|\n",
      "|       655.3|    2|\n",
      "|       654.8|    1|\n",
      "|      650.42|    1|\n",
      "|      647.04|    1|\n",
      "|      646.58|    1|\n",
      "|      645.92|    1|\n",
      "|      641.12|    1|\n",
      "|      638.11|    1|\n",
      "|      636.06|    1|\n",
      "|      635.96|    1|\n",
      "|      635.36|    1|\n",
      "|       633.3|    1|\n",
      "|      631.96|    1|\n",
      "|       631.3|    1|\n",
      "|      631.28|    1|\n",
      "|       629.3|    1|\n",
      "|       628.3|    1|\n",
      "|       627.8|    1|\n",
      "|       627.5|    1|\n",
      "|       627.3|    1|\n",
      "|       623.8|    1|\n",
      "+------------+-----+\n",
      "only showing top 100 rows\n",
      "\n",
      "time: 20.8 s (started: 2021-08-07 22:09:52 +10:00)\n"
     ]
    },
    {
     "name": "stderr",
     "output_type": "stream",
     "text": [
      "                                                                                \r"
     ]
    }
   ],
   "source": [
    "taxi_df_2.groupby('total_amount').count().orderBy(desc('total_amount')).show(100)"
   ]
  },
  {
   "cell_type": "markdown",
   "id": "fd7e322f-baea-484b-a3f0-43fb804b3da3",
   "metadata": {},
   "source": [
    "From the group data, the fare amount, extra, tolls amount may include abnormal values,\n",
    "\n",
    "Sampling data based on different seed and plot the boxplot to show the distribution"
   ]
  },
  {
   "cell_type": "code",
   "execution_count": 271,
   "id": "570e175c-26cf-4036-8ab3-b45036274855",
   "metadata": {
    "execution": {
     "iopub.execute_input": "2021-08-08T05:42:55.800639Z",
     "iopub.status.busy": "2021-08-08T05:42:55.800451Z",
     "iopub.status.idle": "2021-08-08T05:44:32.984282Z",
     "shell.execute_reply": "2021-08-08T05:44:32.983666Z",
     "shell.execute_reply.started": "2021-08-08T05:42:55.800621Z"
    },
    "tags": []
   },
   "outputs": [
    {
     "name": "stderr",
     "output_type": "stream",
     "text": [
      "                                                                                \r"
     ]
    },
    {
     "name": "stdout",
     "output_type": "stream",
     "text": [
      "time: 1min 37s (started: 2021-08-08 15:42:55 +10:00)\n"
     ]
    }
   ],
   "source": [
    "# create sample dataframe\n",
    "taxi_df_2_s1 = taxi_df_2.sample(False, 0.01, 30022).toPandas()\n",
    "taxi_df_2_s2 = taxi_df_2.sample(False, 0.01, 30027).toPandas()\n",
    "taxi_df_2_s3 = taxi_df_2.sample(False, 0.01, 30034).toPandas()"
   ]
  },
  {
   "cell_type": "code",
   "execution_count": 272,
   "id": "0401f7b1-63fe-43c9-b78e-bed97eec7661",
   "metadata": {
    "execution": {
     "iopub.execute_input": "2021-08-08T05:44:35.295789Z",
     "iopub.status.busy": "2021-08-08T05:44:35.295560Z",
     "iopub.status.idle": "2021-08-08T05:44:36.319616Z",
     "shell.execute_reply": "2021-08-08T05:44:36.319221Z",
     "shell.execute_reply.started": "2021-08-08T05:44:35.295771Z"
    },
    "tags": []
   },
   "outputs": [
    {
     "data": {
      "text/plain": [
       "<AxesSubplot:>"
      ]
     },
     "execution_count": 272,
     "metadata": {},
     "output_type": "execute_result"
    },
    {
     "data": {
      "image/png": "[encoded data removed]",
      "text/plain": [
       "<Figure size 432x288 with 1 Axes>"
      ]
     },
     "metadata": {
      "needs_background": "light"
     },
     "output_type": "display_data"
    },
    {
     "name": "stdout",
     "output_type": "stream",
     "text": [
      "time: 1.02 s (started: 2021-08-08 15:44:35 +10:00)\n"
     ]
    }
   ],
   "source": [
    "# display boxplot for each sameple\n",
    "taxi_df_2_s1[['fare_amount']].boxplot()"
   ]
  },
  {
   "cell_type": "code",
   "execution_count": 273,
   "id": "bbcd7b1e-0852-43b4-9817-9a3ba57338d1",
   "metadata": {
    "execution": {
     "iopub.execute_input": "2021-08-08T05:44:37.312947Z",
     "iopub.status.busy": "2021-08-08T05:44:37.312785Z",
     "iopub.status.idle": "2021-08-08T05:44:38.329448Z",
     "shell.execute_reply": "2021-08-08T05:44:38.329108Z",
     "shell.execute_reply.started": "2021-08-08T05:44:37.312930Z"
    }
   },
   "outputs": [
    {
     "data": {
      "text/plain": [
       "<AxesSubplot:>"
      ]
     },
     "execution_count": 273,
     "metadata": {},
     "output_type": "execute_result"
    },
    {
     "data": {
      "image/png": "[encoded data removed]",
      "text/plain": [
       "<Figure size 432x288 with 1 Axes>"
      ]
     },
     "metadata": {
      "needs_background": "light"
     },
     "output_type": "display_data"
    },
    {
     "name": "stdout",
     "output_type": "stream",
     "text": [
      "time: 1.01 s (started: 2021-08-08 15:44:37 +10:00)\n"
     ]
    }
   ],
   "source": [
    "taxi_df_2_s2[['fare_amount']].boxplot()"
   ]
  },
  {
   "cell_type": "code",
   "execution_count": 274,
   "id": "01aeade7-d8c0-4ce5-8b94-1c6c735c877c",
   "metadata": {
    "execution": {
     "iopub.execute_input": "2021-08-08T05:44:38.538983Z",
     "iopub.status.busy": "2021-08-08T05:44:38.538594Z",
     "iopub.status.idle": "2021-08-08T05:44:39.525101Z",
     "shell.execute_reply": "2021-08-08T05:44:39.524697Z",
     "shell.execute_reply.started": "2021-08-08T05:44:38.538939Z"
    },
    "tags": []
   },
   "outputs": [
    {
     "data": {
      "text/plain": [
       "<AxesSubplot:>"
      ]
     },
     "execution_count": 274,
     "metadata": {},
     "output_type": "execute_result"
    },
    {
     "data": {
      "image/png": "[encoded data removed]",
      "text/plain": [
       "<Figure size 432x288 with 1 Axes>"
      ]
     },
     "metadata": {
      "needs_background": "light"
     },
     "output_type": "display_data"
    },
    {
     "name": "stdout",
     "output_type": "stream",
     "text": [
      "time: 983 ms (started: 2021-08-08 15:44:38 +10:00)\n"
     ]
    }
   ],
   "source": [
    "taxi_df_2_s3[['fare_amount']].boxplot()"
   ]
  },
  {
   "cell_type": "code",
   "execution_count": 275,
   "id": "a6fa5ec5-80d3-4c5f-a18e-28a8be5a2aee",
   "metadata": {
    "execution": {
     "iopub.execute_input": "2021-08-08T05:44:49.800850Z",
     "iopub.status.busy": "2021-08-08T05:44:49.800665Z",
     "iopub.status.idle": "2021-08-08T05:44:50.372108Z",
     "shell.execute_reply": "2021-08-08T05:44:50.371592Z",
     "shell.execute_reply.started": "2021-08-08T05:44:49.800831Z"
    }
   },
   "outputs": [
    {
     "data": {
      "text/plain": [
       "<AxesSubplot:>"
      ]
     },
     "execution_count": 275,
     "metadata": {},
     "output_type": "execute_result"
    },
    {
     "data": {
      "image/png": "[encoded data removed]",
      "text/plain": [
       "<Figure size 432x288 with 1 Axes>"
      ]
     },
     "metadata": {
      "needs_background": "light"
     },
     "output_type": "display_data"
    },
    {
     "name": "stdout",
     "output_type": "stream",
     "text": [
      "time: 569 ms (started: 2021-08-08 15:44:49 +10:00)\n"
     ]
    }
   ],
   "source": [
    "taxi_df_2_s1[['extra']].boxplot()"
   ]
  },
  {
   "cell_type": "code",
   "execution_count": 276,
   "id": "3bbdda77-5914-474f-a63a-6cabc3fbea79",
   "metadata": {
    "execution": {
     "iopub.execute_input": "2021-08-08T05:44:58.044069Z",
     "iopub.status.busy": "2021-08-08T05:44:58.043793Z",
     "iopub.status.idle": "2021-08-08T05:44:58.635719Z",
     "shell.execute_reply": "2021-08-08T05:44:58.635368Z",
     "shell.execute_reply.started": "2021-08-08T05:44:58.044036Z"
    }
   },
   "outputs": [
    {
     "data": {
      "text/plain": [
       "<AxesSubplot:>"
      ]
     },
     "execution_count": 276,
     "metadata": {},
     "output_type": "execute_result"
    },
    {
     "data": {
      "image/png": "[encoded data removed]",
      "text/plain": [
       "<Figure size 432x288 with 1 Axes>"
      ]
     },
     "metadata": {
      "needs_background": "light"
     },
     "output_type": "display_data"
    },
    {
     "name": "stdout",
     "output_type": "stream",
     "text": [
      "time: 590 ms (started: 2021-08-08 15:44:58 +10:00)\n"
     ]
    }
   ],
   "source": [
    "taxi_df_2_s2[['extra']].boxplot()"
   ]
  },
  {
   "cell_type": "code",
   "execution_count": 277,
   "id": "7664b24c-16d8-45ab-8c03-b23fa23bd9c3",
   "metadata": {
    "execution": {
     "iopub.execute_input": "2021-08-08T05:45:04.759675Z",
     "iopub.status.busy": "2021-08-08T05:45:04.759252Z",
     "iopub.status.idle": "2021-08-08T05:45:05.331951Z",
     "shell.execute_reply": "2021-08-08T05:45:05.331507Z",
     "shell.execute_reply.started": "2021-08-08T05:45:04.759652Z"
    }
   },
   "outputs": [
    {
     "data": {
      "text/plain": [
       "<AxesSubplot:>"
      ]
     },
     "execution_count": 277,
     "metadata": {},
     "output_type": "execute_result"
    },
    {
     "data": {
      "image/png": "[encoded data removed]",
      "text/plain": [
       "<Figure size 432x288 with 1 Axes>"
      ]
     },
     "metadata": {
      "needs_background": "light"
     },
     "output_type": "display_data"
    },
    {
     "name": "stdout",
     "output_type": "stream",
     "text": [
      "time: 570 ms (started: 2021-08-08 15:45:04 +10:00)\n"
     ]
    }
   ],
   "source": [
    "taxi_df_2_s3[['extra']].boxplot()"
   ]
  },
  {
   "cell_type": "code",
   "execution_count": 278,
   "id": "2dd85e10-c46b-4ad5-a440-e4f2c1931088",
   "metadata": {
    "execution": {
     "iopub.execute_input": "2021-08-08T05:45:19.984876Z",
     "iopub.status.busy": "2021-08-08T05:45:19.984669Z",
     "iopub.status.idle": "2021-08-08T05:45:22.947830Z",
     "shell.execute_reply": "2021-08-08T05:45:22.947485Z",
     "shell.execute_reply.started": "2021-08-08T05:45:19.984857Z"
    }
   },
   "outputs": [
    {
     "data": {
      "text/plain": [
       "<AxesSubplot:ylabel='Density'>"
      ]
     },
     "execution_count": 278,
     "metadata": {},
     "output_type": "execute_result"
    },
    {
     "data": {
      "image/png": "[encoded data removed]",
      "text/plain": [
       "<Figure size 432x288 with 1 Axes>"
      ]
     },
     "metadata": {
      "needs_background": "light"
     },
     "output_type": "display_data"
    },
    {
     "name": "stdout",
     "output_type": "stream",
     "text": [
      "time: 2.96 s (started: 2021-08-08 15:45:19 +10:00)\n"
     ]
    }
   ],
   "source": [
    "sns.distplot(taxi_df_2_s1[['fare_amount']]) # sample 1"
   ]
  },
  {
   "cell_type": "code",
   "execution_count": 279,
   "id": "aaf26d57-14eb-4ab4-9ae8-7b18dbee6066",
   "metadata": {
    "execution": {
     "iopub.execute_input": "2021-08-08T05:45:24.513060Z",
     "iopub.status.busy": "2021-08-08T05:45:24.512788Z",
     "iopub.status.idle": "2021-08-08T05:45:27.516790Z",
     "shell.execute_reply": "2021-08-08T05:45:27.516446Z",
     "shell.execute_reply.started": "2021-08-08T05:45:24.513041Z"
    }
   },
   "outputs": [
    {
     "data": {
      "text/plain": [
       "<AxesSubplot:ylabel='Density'>"
      ]
     },
     "execution_count": 279,
     "metadata": {},
     "output_type": "execute_result"
    },
    {
     "data": {
      "image/png": "[encoded data removed]",
      "text/plain": [
       "<Figure size 432x288 with 1 Axes>"
      ]
     },
     "metadata": {
      "needs_background": "light"
     },
     "output_type": "display_data"
    },
    {
     "name": "stdout",
     "output_type": "stream",
     "text": [
      "time: 3 s (started: 2021-08-08 15:45:24 +10:00)\n"
     ]
    }
   ],
   "source": [
    "sns.distplot(taxi_df_2_s2[['fare_amount']]) # sample 2"
   ]
  },
  {
   "cell_type": "code",
   "execution_count": 280,
   "id": "fd9f46ab-64b7-4f6a-803c-243f309f9937",
   "metadata": {
    "execution": {
     "iopub.execute_input": "2021-08-08T05:45:28.229446Z",
     "iopub.status.busy": "2021-08-08T05:45:28.228992Z",
     "iopub.status.idle": "2021-08-08T05:45:31.303301Z",
     "shell.execute_reply": "2021-08-08T05:45:31.302952Z",
     "shell.execute_reply.started": "2021-08-08T05:45:28.229420Z"
    }
   },
   "outputs": [
    {
     "data": {
      "text/plain": [
       "<AxesSubplot:ylabel='Density'>"
      ]
     },
     "execution_count": 280,
     "metadata": {},
     "output_type": "execute_result"
    },
    {
     "data": {
      "image/png": "[encoded data removed]",
      "text/plain": [
       "<Figure size 432x288 with 1 Axes>"
      ]
     },
     "metadata": {
      "needs_background": "light"
     },
     "output_type": "display_data"
    },
    {
     "name": "stdout",
     "output_type": "stream",
     "text": [
      "time: 3.07 s (started: 2021-08-08 15:45:28 +10:00)\n"
     ]
    }
   ],
   "source": [
    "sns.distplot(taxi_df_2_s3[['fare_amount']]) # sample 3"
   ]
  },
  {
   "cell_type": "code",
   "execution_count": 281,
   "id": "3586ab50-2825-44f8-b8ba-de3a4f38dc33",
   "metadata": {
    "execution": {
     "iopub.execute_input": "2021-08-08T05:45:31.354997Z",
     "iopub.status.busy": "2021-08-08T05:45:31.354781Z",
     "iopub.status.idle": "2021-08-08T05:45:33.916489Z",
     "shell.execute_reply": "2021-08-08T05:45:33.916139Z",
     "shell.execute_reply.started": "2021-08-08T05:45:31.354979Z"
    }
   },
   "outputs": [
    {
     "data": {
      "text/plain": [
       "<AxesSubplot:ylabel='Density'>"
      ]
     },
     "execution_count": 281,
     "metadata": {},
     "output_type": "execute_result"
    },
    {
     "data": {
      "image/png": "[encoded data removed]",
      "text/plain": [
       "<Figure size 432x288 with 1 Axes>"
      ]
     },
     "metadata": {
      "needs_background": "light"
     },
     "output_type": "display_data"
    },
    {
     "name": "stdout",
     "output_type": "stream",
     "text": [
      "time: 2.56 s (started: 2021-08-08 15:45:31 +10:00)\n"
     ]
    }
   ],
   "source": [
    "sns.distplot(taxi_df_2_s1[['extra']]) # sample 1"
   ]
  },
  {
   "cell_type": "code",
   "execution_count": 282,
   "id": "b180f6a3-ee66-421e-8c46-5f45abf77de3",
   "metadata": {
    "execution": {
     "iopub.execute_input": "2021-08-08T05:45:33.973359Z",
     "iopub.status.busy": "2021-08-08T05:45:33.973144Z",
     "iopub.status.idle": "2021-08-08T05:45:36.498781Z",
     "shell.execute_reply": "2021-08-08T05:45:36.498104Z",
     "shell.execute_reply.started": "2021-08-08T05:45:33.973341Z"
    }
   },
   "outputs": [
    {
     "data": {
      "text/plain": [
       "<AxesSubplot:ylabel='Density'>"
      ]
     },
     "execution_count": 282,
     "metadata": {},
     "output_type": "execute_result"
    },
    {
     "data": {
      "image/png": "[encoded data removed]",
      "text/plain": [
       "<Figure size 432x288 with 1 Axes>"
      ]
     },
     "metadata": {
      "needs_background": "light"
     },
     "output_type": "display_data"
    },
    {
     "name": "stdout",
     "output_type": "stream",
     "text": [
      "time: 2.52 s (started: 2021-08-08 15:45:33 +10:00)\n"
     ]
    }
   ],
   "source": [
    "sns.distplot(taxi_df_2_s2[['extra']]) # sample 2"
   ]
  },
  {
   "cell_type": "code",
   "execution_count": 283,
   "id": "a25cfe26-0e69-49a3-8193-28a1ade7b8b5",
   "metadata": {
    "execution": {
     "iopub.execute_input": "2021-08-08T05:45:36.616321Z",
     "iopub.status.busy": "2021-08-08T05:45:36.616147Z",
     "iopub.status.idle": "2021-08-08T05:45:39.602461Z",
     "shell.execute_reply": "2021-08-08T05:45:39.602025Z",
     "shell.execute_reply.started": "2021-08-08T05:45:36.616304Z"
    }
   },
   "outputs": [
    {
     "data": {
      "text/plain": [
       "<AxesSubplot:ylabel='Density'>"
      ]
     },
     "execution_count": 283,
     "metadata": {},
     "output_type": "execute_result"
    },
    {
     "data": {
      "image/png": "[encoded data removed]",
      "text/plain": [
       "<Figure size 432x288 with 1 Axes>"
      ]
     },
     "metadata": {
      "needs_background": "light"
     },
     "output_type": "display_data"
    },
    {
     "name": "stdout",
     "output_type": "stream",
     "text": [
      "time: 2.98 s (started: 2021-08-08 15:45:36 +10:00)\n"
     ]
    }
   ],
   "source": [
    "sns.distplot(taxi_df_2_s3[['extra']]) # sample 3"
   ]
  },
  {
   "cell_type": "code",
   "execution_count": 321,
   "id": "b21e72d1-6db4-43c4-9146-a6884d4f8000",
   "metadata": {
    "execution": {
     "iopub.execute_input": "2021-08-08T06:36:19.405404Z",
     "iopub.status.busy": "2021-08-08T06:36:19.405201Z",
     "iopub.status.idle": "2021-08-08T06:36:35.912175Z",
     "shell.execute_reply": "2021-08-08T06:36:35.911787Z",
     "shell.execute_reply.started": "2021-08-08T06:36:19.405385Z"
    },
    "tags": []
   },
   "outputs": [
    {
     "name": "stderr",
     "output_type": "stream",
     "text": [
      "[Stage 189:======================================================>(57 + 1) / 58]\r"
     ]
    },
    {
     "name": "stdout",
     "output_type": "stream",
     "text": [
      "+-----+-----+\n",
      "|extra|count|\n",
      "+-----+-----+\n",
      "|90.06|    1|\n",
      "|87.56|   10|\n",
      "| 62.5|    2|\n",
      "| 32.5|    1|\n",
      "| 30.8|    1|\n",
      "| 23.0|    1|\n",
      "|22.48|    1|\n",
      "| 20.6|    1|\n",
      "| 20.2|    3|\n",
      "| 20.1|    1|\n",
      "| 20.0|    1|\n",
      "| 12.5|    1|\n",
      "|12.48|    1|\n",
      "| 12.0|    3|\n",
      "| 11.8|    2|\n",
      "| 11.5|    1|\n",
      "|  9.5|   16|\n",
      "| 8.84|    1|\n",
      "|  8.5|    1|\n",
      "|  8.0|    1|\n",
      "+-----+-----+\n",
      "only showing top 20 rows\n",
      "\n",
      "time: 16.5 s (started: 2021-08-08 16:36:19 +10:00)\n"
     ]
    },
    {
     "name": "stderr",
     "output_type": "stream",
     "text": [
      "                                                                                \r"
     ]
    }
   ],
   "source": [
    "taxi_df_2.groupby('extra').count().orderBy(desc('extra')).show()"
   ]
  },
  {
   "cell_type": "markdown",
   "id": "d1446abd-0905-4150-a6c6-ad3478312789",
   "metadata": {},
   "source": [
    "According to the boxplot, fare_amount are most likely distributed in range 0 to 500 with a right skewed Gaussian distribution\n",
    "\n",
    "the extra has a multi modal distribution, \n",
    "\n",
    "hence apply z-score outlier detection on fare_amount to lower the tail effects and \n",
    "\n",
    "It seems like there are less extreme value of extra attribute, keep extrema values on extra (too avoid model overfit if target on traveling price)"
   ]
  },
  {
   "cell_type": "code",
   "execution_count": 301,
   "id": "827cb1b2-b130-4930-8c9d-fb2b097258d7",
   "metadata": {
    "execution": {
     "iopub.execute_input": "2021-08-08T05:57:14.415619Z",
     "iopub.status.busy": "2021-08-08T05:57:14.415435Z",
     "iopub.status.idle": "2021-08-08T05:57:14.448492Z",
     "shell.execute_reply": "2021-08-08T05:57:14.447940Z",
     "shell.execute_reply.started": "2021-08-08T05:57:14.415602Z"
    },
    "tags": []
   },
   "outputs": [
    {
     "name": "stdout",
     "output_type": "stream",
     "text": [
      "time: 30.1 ms (started: 2021-08-08 15:57:14 +10:00)\n"
     ]
    }
   ],
   "source": [
    "# remove extreme value in fare_amount by applying z-score\n",
    "mean_fare_amount = taxi_df_2_summary.select('fare_amount').collect()[1]['fare_amount']\n",
    "std_fare_amount = taxi_df_2_summary.select('fare_amount').collect()[2]['fare_amount']\n",
    "\n",
    "taxi_df_3 = taxi_df_2.withColumn('z_fare_amount', (col('fare_amount') - mean_fare_amount) / std_fare_amount).filter((col('z_fare_amount') < 3))"
   ]
  },
  {
   "cell_type": "code",
   "execution_count": 302,
   "id": "23b0103a-ad7a-4363-b6a4-d70db572755b",
   "metadata": {
    "execution": {
     "iopub.execute_input": "2021-08-08T05:57:26.819877Z",
     "iopub.status.busy": "2021-08-08T05:57:26.819610Z",
     "iopub.status.idle": "2021-08-08T05:57:40.000412Z",
     "shell.execute_reply": "2021-08-08T05:57:40.000027Z",
     "shell.execute_reply.started": "2021-08-08T05:57:26.819857Z"
    }
   },
   "outputs": [
    {
     "name": "stdout",
     "output_type": "stream",
     "text": [
      "+--------+-------------------+-------------------+---------------+-------------+----------+------------------+------------+------------+------------+-----------+-----+-------+----------+------------+---------------------+------------+--------------------+--------------------+\n",
      "|VendorID|          pickup_dt|         dropoff_dt|passenger_count|trip_distance|RatecodeID|store_and_fwd_flag|PULocationID|DOLocationID|payment_type|fare_amount|extra|mta_tax|tip_amount|tolls_amount|improvement_surcharge|total_amount|congestion_surcharge|       z_fare_amount|\n",
      "+--------+-------------------+-------------------+---------------+-------------+----------+------------------+------------+------------+------------+-----------+-----+-------+----------+------------+---------------------+------------+--------------------+--------------------+\n",
      "|       2|2019-01-25 17:01:30|2019-01-25 17:58:00|              1|        10.68|         1|                 N|         246|         223|           1|       42.5|  1.0|    0.5|      7.51|        5.76|                  0.3|       59.52|                 0.0|  0.3123147230379217|\n",
      "|       1|2019-01-25 17:25:41|2019-01-25 17:27:46|              1|          0.3|         1|                 N|         239|         239|           1|        3.5|  1.0|    0.5|       1.0|         0.0|                  0.3|         6.3|                 0.0|-0.10093774858369058|\n",
      "|       1|2019-01-25 17:33:04|2019-01-25 17:37:02|              1|          0.7|         1|                 N|         238|         166|           2|        5.0|  1.0|    0.5|       0.0|         0.0|                  0.3|         6.8|                 0.0| -0.0850434227520901|\n",
      "|       1|2019-01-25 17:54:48|2019-01-25 18:15:12|              1|          3.8|         1|                 N|         143|         158|           1|       16.5|  1.0|    0.5|      3.65|         0.0|                  0.3|       21.95|                 0.0| 0.03681307529018017|\n",
      "|       2|2019-01-25 17:22:35|2019-01-25 17:26:03|              4|         0.62|         1|                 N|         236|         236|           2|        4.5|  1.0|    0.5|       0.0|         0.0|                  0.3|         6.3|                 0.0| -0.0903415313626236|\n",
      "|       2|2019-01-25 17:47:00|2019-01-25 17:51:55|              4|         0.85|         1|                 N|         162|         237|           2|        5.5|  1.0|    0.5|       0.0|         0.0|                  0.3|         7.3|                 0.0|-0.07974531414155661|\n",
      "|       2|2019-01-25 17:56:08|2019-01-25 18:10:04|              4|         1.29|         1|                 N|         237|         230|           1|       10.0|  1.0|    0.5|       2.0|         0.0|                  0.3|        13.8|                 0.0| -0.0320623366467552|\n",
      "|       2|2019-01-25 17:00:19|2019-01-25 17:28:59|              1|          3.5|         1|                 N|         226|         164|           2|       18.5|  1.0|    0.5|       0.0|         0.0|                  0.3|        20.3|                 0.0| 0.05800550973231413|\n",
      "|       2|2019-01-25 17:32:37|2019-01-25 17:39:02|              1|          0.8|         1|                 N|         164|          90|           1|        6.0|  1.0|    0.5|       1.0|         0.0|                  0.3|         8.8|                 0.0|-0.07444720553102313|\n",
      "|       2|2019-01-25 17:48:59|2019-01-25 18:12:19|              1|         2.73|         1|                 N|         186|         140|           1|       16.0|  1.0|    0.5|      3.56|         0.0|                  0.3|       21.36|                 0.0| 0.03151496667964668|\n",
      "|       2|2019-01-25 17:05:05|2019-01-25 17:10:05|              5|          1.0|         1|                 N|         230|         186|           1|        5.5|  1.0|    0.5|      1.46|         0.0|                  0.3|        8.76|                 0.0|-0.07974531414155661|\n",
      "|       2|2019-01-25 17:13:07|2019-01-25 17:21:58|              5|         0.85|         1|                 N|         186|         246|           2|        6.5|  1.0|    0.5|       0.0|         0.0|                  0.3|         8.3|                 0.0|-0.06914909692048964|\n",
      "|       2|2019-01-25 17:33:25|2019-01-25 17:52:31|              5|         3.26|         1|                 N|          48|         236|           1|       14.5|  1.0|    0.5|      3.26|         0.0|                  0.3|       19.56|                 0.0| 0.01562064084804621|\n",
      "|       2|2019-01-25 17:54:52|2019-01-25 18:06:19|              5|         1.69|         1|                 N|         236|         237|           1|        9.5|  1.0|    0.5|       1.7|         0.0|                  0.3|        13.0|                 0.0|-0.03736044525728...|\n",
      "|       2|2019-01-25 17:01:22|2019-01-25 17:46:46|              1|         8.31|         1|                 N|         138|         230|           2|       35.0|  1.0|    0.5|       0.0|        5.76|                  0.3|       42.56|                 0.0| 0.23284309387991933|\n",
      "|       2|2019-01-25 17:54:09|2019-01-25 18:10:53|              1|         1.67|         1|                 N|         161|          48|           1|       11.5|  1.0|    0.5|      3.32|         0.0|                  0.3|       16.62|                 0.0|-0.01616801081515...|\n",
      "|       1|2019-01-25 17:00:30|2019-01-25 17:03:01|              3|          0.4|         1|                 N|         170|         161|           1|        4.0|  1.0|    0.5|      1.04|         0.0|                  0.3|        6.84|                 0.0| -0.0956396399731571|\n",
      "|       1|2019-01-25 17:12:39|2019-01-25 17:31:46|              2|          2.1|         1|                 N|         237|         234|           1|       13.0|  1.0|    0.5|       1.0|         0.0|                  0.3|        15.8|                 0.0|-2.73684983554261...|\n",
      "|       1|2019-01-25 17:32:48|2019-01-25 17:41:15|              1|          0.5|         1|                 N|         234|          90|           1|        7.0|  1.0|    0.5|       2.2|         0.0|                  0.3|        11.0|                 0.0|-0.06385098830995614|\n",
      "|       1|2019-01-25 17:44:58|2019-01-25 17:54:08|              1|          0.9|         1|                 N|          90|          48|           2|        7.5|  1.0|    0.5|       0.0|         0.0|                  0.3|         9.3|                 0.0|-0.05855287969942...|\n",
      "+--------+-------------------+-------------------+---------------+-------------+----------+------------------+------------+------------+------------+-----------+-----+-------+----------+------------+---------------------+------------+--------------------+--------------------+\n",
      "only showing top 20 rows\n",
      "\n"
     ]
    },
    {
     "name": "stderr",
     "output_type": "stream",
     "text": [
      "                                                                                \r"
     ]
    },
    {
     "data": {
      "text/plain": [
       "76486691"
      ]
     },
     "execution_count": 302,
     "metadata": {},
     "output_type": "execute_result"
    },
    {
     "name": "stdout",
     "output_type": "stream",
     "text": [
      "time: 13.2 s (started: 2021-08-08 15:57:26 +10:00)\n"
     ]
    }
   ],
   "source": [
    "taxi_df_3.show()\n",
    "taxi_df_3.count()"
   ]
  },
  {
   "cell_type": "markdown",
   "id": "66b8cb61-46b6-464f-8252-52cfccc5406a",
   "metadata": {},
   "source": [
    "Remove duplicate rows and performance summary statistic"
   ]
  },
  {
   "cell_type": "code",
   "execution_count": 317,
   "id": "22172ae2-70ed-46f7-9b37-5f1ab6b4e7ee",
   "metadata": {
    "execution": {
     "iopub.execute_input": "2021-08-08T06:27:52.938998Z",
     "iopub.status.busy": "2021-08-08T06:27:52.938807Z",
     "iopub.status.idle": "2021-08-08T06:27:52.946394Z",
     "shell.execute_reply": "2021-08-08T06:27:52.945880Z",
     "shell.execute_reply.started": "2021-08-08T06:27:52.938981Z"
    },
    "tags": []
   },
   "outputs": [
    {
     "name": "stdout",
     "output_type": "stream",
     "text": [
      "time: 4.69 ms (started: 2021-08-08 16:27:52 +10:00)\n"
     ]
    }
   ],
   "source": [
    "taxi_df_4 = taxi_df_3.drop('z_fare_amount').dropDuplicates()"
   ]
  },
  {
   "cell_type": "code",
   "execution_count": 319,
   "id": "9bdb07c1-2f11-4c9d-b215-0d1431cda9ca",
   "metadata": {
    "execution": {
     "iopub.execute_input": "2021-08-08T06:28:05.913943Z",
     "iopub.status.busy": "2021-08-08T06:28:05.913652Z",
     "iopub.status.idle": "2021-08-08T06:36:18.299611Z",
     "shell.execute_reply": "2021-08-08T06:36:18.298895Z",
     "shell.execute_reply.started": "2021-08-08T06:28:05.913919Z"
    },
    "tags": []
   },
   "outputs": [
    {
     "name": "stderr",
     "output_type": "stream",
     "text": [
      "[Stage 188:>                                                        (0 + 1) / 1]\r"
     ]
    },
    {
     "name": "stdout",
     "output_type": "stream",
     "text": [
      "time: 8min 12s (started: 2021-08-08 16:28:05 +10:00)\n"
     ]
    },
    {
     "name": "stderr",
     "output_type": "stream",
     "text": [
      "                                                                                \r"
     ]
    }
   ],
   "source": [
    "taxi_df_4_summary = taxi_df_4.drop('VendorID', 'dropoff_dt', 'pickup_dt', 'passenger_count','mta_tax',\n",
    "                                   'RatecodeID', 'store_and_fwd_flag', 'PULocationID', 'DOLocationID',\n",
    "                                   'payment_type', 'improvement_surcharge').summary()"
   ]
  },
  {
   "cell_type": "code",
   "execution_count": 320,
   "id": "afa4edff-3846-4cb9-863a-b9fd54d08eb6",
   "metadata": {
    "execution": {
     "iopub.execute_input": "2021-08-08T06:36:18.701815Z",
     "iopub.status.busy": "2021-08-08T06:36:18.701629Z",
     "iopub.status.idle": "2021-08-08T06:36:18.718216Z",
     "shell.execute_reply": "2021-08-08T06:36:18.717820Z",
     "shell.execute_reply.started": "2021-08-08T06:36:18.701796Z"
    },
    "tags": []
   },
   "outputs": [
    {
     "name": "stdout",
     "output_type": "stream",
     "text": [
      "+-------+-----------------+------------------+------------------+------------------+------------------+------------------+--------------------+\n",
      "|summary|    trip_distance|       fare_amount|             extra|        tip_amount|      tolls_amount|      total_amount|congestion_surcharge|\n",
      "+-------+-----------------+------------------+------------------+------------------+------------------+------------------+--------------------+\n",
      "|  count|         76486620|          76486620|          76486620|          76486620|          76486620|          76486620|            76486620|\n",
      "|   mean|2.979664223886488|13.003219038963945|1.1150110684718444|2.1948682241416337|0.3430861110086012|18.909093098445233|  2.2239816650284716|\n",
      "| stddev| 3.81152876570615|10.927142829218184|1.2515593337859199| 2.635320897046094|  1.55943115900408|13.560242991479958|  0.7834854765929999|\n",
      "|    min|             0.01|              0.01|               0.0|               0.0|               0.0|              0.81|                 0.0|\n",
      "|    25%|              1.0|               6.5|               0.0|               0.0|               0.0|              11.3|                 2.5|\n",
      "|    50%|             1.65|               9.5|               0.5|              1.95|               0.0|             14.76|                 2.5|\n",
      "|    75%|             3.05|              14.5|               2.5|              2.96|               0.0|             20.75|                 2.5|\n",
      "|    max|            831.8|             296.0|               7.0|             500.0|            921.06|             970.3|                 3.0|\n",
      "+-------+-----------------+------------------+------------------+------------------+------------------+------------------+--------------------+\n",
      "\n",
      "time: 14.3 ms (started: 2021-08-08 16:36:18 +10:00)\n"
     ]
    }
   ],
   "source": [
    "taxi_df_5_summary.show()"
   ]
  },
  {
   "cell_type": "code",
   "execution_count": 323,
   "id": "88aac81c-674b-4e76-b117-e2fb1e8f3105",
   "metadata": {
    "execution": {
     "iopub.execute_input": "2021-08-08T06:44:35.731867Z",
     "iopub.status.busy": "2021-08-08T06:44:35.731671Z",
     "iopub.status.idle": "2021-08-08T06:46:25.632329Z",
     "shell.execute_reply": "2021-08-08T06:46:25.631394Z",
     "shell.execute_reply.started": "2021-08-08T06:44:35.731850Z"
    }
   },
   "outputs": [
    {
     "name": "stderr",
     "output_type": "stream",
     "text": [
      "                                                                                \r"
     ]
    },
    {
     "name": "stdout",
     "output_type": "stream",
     "text": [
      "time: 1min 49s (started: 2021-08-08 16:44:35 +10:00)\n"
     ]
    }
   ],
   "source": [
    "# staging the cleaning process\n",
    "taxi_df_4.write.options(header=True).csv('./Preprocess/taxi_stage_2')"
   ]
  },
  {
   "cell_type": "markdown",
   "id": "99ea2b9c-ada0-4384-b524-88d610f8c199",
   "metadata": {
    "tags": []
   },
   "source": [
    "#### Thrid Preprocessing Round"
   ]
  },
  {
   "cell_type": "code",
   "execution_count": 4,
   "id": "2b6d63b9-c80b-496e-8763-c4abfdeebc38",
   "metadata": {
    "execution": {
     "iopub.execute_input": "2021-08-08T06:55:12.462816Z",
     "iopub.status.busy": "2021-08-08T06:55:12.462625Z",
     "iopub.status.idle": "2021-08-08T06:55:47.963163Z",
     "shell.execute_reply": "2021-08-08T06:55:47.962564Z",
     "shell.execute_reply.started": "2021-08-08T06:55:12.462798Z"
    },
    "tags": []
   },
   "outputs": [
    {
     "name": "stderr",
     "output_type": "stream",
     "text": [
      "                                                                                \r"
     ]
    },
    {
     "name": "stdout",
     "output_type": "stream",
     "text": [
      "+--------+-------------------+-------------------+---------------+-------------+----------+------------------+------------+------------+------------+-----------+-----+-------+----------+------------+---------------------+------------+--------------------+\n",
      "|VendorID|          pickup_dt|         dropoff_dt|passenger_count|trip_distance|RatecodeID|store_and_fwd_flag|PULocationID|DOLocationID|payment_type|fare_amount|extra|mta_tax|tip_amount|tolls_amount|improvement_surcharge|total_amount|congestion_surcharge|\n",
      "+--------+-------------------+-------------------+---------------+-------------+----------+------------------+------------+------------+------------+-----------+-----+-------+----------+------------+---------------------+------------+--------------------+\n",
      "|       1|2019-01-30 23:03:35|2019-01-30 23:32:05|              1|         12.6|         1|                 N|         140|           3|           2|       35.5|  0.5|    0.5|       0.0|         0.0|                  0.3|        36.8|                 0.0|\n",
      "|       1|2019-01-28 00:55:49|2019-01-28 00:58:43|              1|          0.4|         1|                 N|           4|           4|           1|        4.0|  0.5|    0.5|       0.7|         0.0|                  0.3|         6.0|                 0.0|\n",
      "|       2|2019-01-27 01:30:36|2019-01-27 01:43:34|              2|         4.81|         1|                 N|          52|           4|           1|       15.5|  0.5|    0.5|      3.36|         0.0|                  0.3|       20.16|                 0.0|\n",
      "|       2|2019-01-30 20:59:03|2019-01-30 21:15:34|              3|         2.12|         1|                 N|          68|           4|           1|       12.0|  0.5|    0.5|      2.66|         0.0|                  0.3|       15.96|                 0.0|\n",
      "|       2|2019-01-30 21:11:50|2019-01-30 21:23:57|              5|         2.21|         1|                 N|          68|           4|           2|       10.0|  0.5|    0.5|       0.0|         0.0|                  0.3|        11.3|                 0.0|\n",
      "|       1|2019-01-27 01:16:02|2019-01-27 01:19:41|              1|          0.6|         1|                 N|          79|           4|           1|        4.5|  0.5|    0.5|       1.0|         0.0|                  0.3|         6.8|                 0.0|\n",
      "|       2|2019-01-27 20:01:21|2019-01-27 20:07:32|              1|         0.88|         1|                 N|          79|           4|           1|        6.0|  0.5|    0.5|      1.46|         0.0|                  0.3|        8.76|                 0.0|\n",
      "|       1|2019-01-29 01:43:30|2019-01-29 01:47:32|              1|          0.9|         1|                 N|          79|           4|           1|        5.0|  0.5|    0.5|      1.25|         0.0|                  0.3|        7.55|                 0.0|\n",
      "|       2|2019-01-30 19:51:10|2019-01-30 19:57:45|              2|         1.02|         1|                 N|          79|           4|           1|        6.5|  1.0|    0.5|      1.66|         0.0|                  0.3|        9.96|                 0.0|\n",
      "|       1|2019-01-29 21:29:01|2019-01-29 21:35:52|              1|          1.2|         1|                 N|          79|           4|           2|        6.5|  0.5|    0.5|       0.0|         0.0|                  0.3|         7.8|                 0.0|\n",
      "|       2|2019-01-26 21:34:46|2019-01-26 21:43:25|              1|         2.81|         1|                 N|          87|           4|           1|       10.5|  0.5|    0.5|      2.36|         0.0|                  0.3|       14.16|                 0.0|\n",
      "|       2|2019-01-30 18:29:05|2019-01-30 18:38:02|              1|          1.2|         1|                 N|         107|           4|           1|        7.5|  1.0|    0.5|      2.79|         0.0|                  0.3|       12.09|                 0.0|\n",
      "|       2|2019-01-30 00:07:08|2019-01-30 00:12:07|              1|         0.98|         1|                 N|         113|           4|           1|        5.5|  0.5|    0.5|       0.0|         0.0|                  0.3|         6.8|                 0.0|\n",
      "|       2|2019-01-25 19:58:57|2019-01-25 20:07:47|              1|         1.01|         1|                 N|         113|           4|           1|        7.0|  1.0|    0.5|      1.32|         0.0|                  0.3|       10.12|                 0.0|\n",
      "|       2|2019-01-28 15:51:32|2019-01-28 15:58:34|              1|         1.06|         1|                 N|         113|           4|           1|        6.5|  0.0|    0.5|       1.5|         0.0|                  0.3|         8.8|                 0.0|\n",
      "|       2|2019-01-31 01:23:57|2019-01-31 01:37:40|              1|         1.54|         1|                 N|         114|           4|           2|       10.0|  0.5|    0.5|       0.0|         0.0|                  0.3|        11.3|                 0.0|\n",
      "|       2|2019-01-26 05:42:40|2019-01-26 05:46:53|              1|         1.43|         1|                 N|         137|           4|           2|        6.0|  0.5|    0.5|       0.0|         0.0|                  0.3|         7.3|                 0.0|\n",
      "|       1|2019-01-26 22:11:01|2019-01-26 22:24:57|              1|          3.9|         1|                 N|         140|           4|           1|       15.0|  0.5|    0.5|       1.5|         0.0|                  0.3|        17.8|                 0.0|\n",
      "|       1|2019-01-26 18:33:05|2019-01-26 18:48:58|              1|          3.2|         1|                 N|         141|           4|           1|       13.5|  0.0|    0.5|      2.15|         0.0|                  0.3|       16.45|                 0.0|\n",
      "|       2|2019-01-27 20:46:17|2019-01-27 20:56:39|              1|         4.64|         1|                 N|         141|           4|           1|       14.5|  0.5|    0.5|       1.5|         0.0|                  0.3|        17.3|                 0.0|\n",
      "+--------+-------------------+-------------------+---------------+-------------+----------+------------------+------------+------------+------------+-----------+-----+-------+----------+------------+---------------------+------------+--------------------+\n",
      "only showing top 20 rows\n",
      "\n",
      "time: 35.5 s (started: 2021-08-08 16:55:12 +10:00)\n"
     ]
    }
   ],
   "source": [
    "taxi_df = spark.read.options(header=True, inferSchema=True).csv('./Preprocess/taxi_stage_2')\n",
    "taxi_df.show()"
   ]
  },
  {
   "cell_type": "code",
   "execution_count": 5,
   "id": "dfc98598-8978-477e-9551-ab86e9e07527",
   "metadata": {
    "execution": {
     "iopub.execute_input": "2021-08-08T06:56:09.633875Z",
     "iopub.status.busy": "2021-08-08T06:56:09.633612Z",
     "iopub.status.idle": "2021-08-08T06:56:13.643910Z",
     "shell.execute_reply": "2021-08-08T06:56:13.643386Z",
     "shell.execute_reply.started": "2021-08-08T06:56:09.633856Z"
    }
   },
   "outputs": [
    {
     "name": "stderr",
     "output_type": "stream",
     "text": [
      "                                                                                \r"
     ]
    },
    {
     "data": {
      "text/plain": [
       "76486688"
      ]
     },
     "execution_count": 5,
     "metadata": {},
     "output_type": "execute_result"
    },
    {
     "name": "stdout",
     "output_type": "stream",
     "text": [
      "time: 4.01 s (started: 2021-08-08 16:56:09 +10:00)\n"
     ]
    }
   ],
   "source": [
    "taxi_df.count()"
   ]
  },
  {
   "cell_type": "markdown",
   "id": "6b8d7bb2-c826-489e-883d-dd3579a7c402",
   "metadata": {},
   "source": [
    "According to [Taxi Calculator](https://www.taxi-calculator.com/taxi-fare-new-york-city/259), the base fare is \\$2.5, \\$1.56 per kilometers.\n",
    "\n",
    "If trip occurs on weekend, the basic fee will be \\$3.00 and \\$30 per hour for waiting time.\n",
    "\n",
    "According to data dictionary, trip_distance has a unit mile, after that, we want to remove all unreasonable trip fare amount data, \n",
    "\n",
    "For example, the taxi pickup and dropoff a passenger in a minute but charge $50 of fare amount, this type of data appears unreasonable, consider removed."
   ]
  },
  {
   "cell_type": "code",
   "execution_count": 26,
   "id": "f11d26c6-20bd-48b9-acba-b03f0df15a1a",
   "metadata": {
    "execution": {
     "iopub.execute_input": "2021-08-08T08:01:43.204214Z",
     "iopub.status.busy": "2021-08-08T08:01:43.203757Z",
     "iopub.status.idle": "2021-08-08T08:01:43.230240Z",
     "shell.execute_reply": "2021-08-08T08:01:43.229848Z",
     "shell.execute_reply.started": "2021-08-08T08:01:43.204188Z"
    },
    "tags": []
   },
   "outputs": [
    {
     "name": "stdout",
     "output_type": "stream",
     "text": [
      "time: 23.4 ms (started: 2021-08-08 18:01:43 +10:00)\n"
     ]
    }
   ],
   "source": [
    "# convert pickup_dt and dropoff_dt with a datatime datatype\n",
    "# create a new column to display travelling time in minutes\n",
    "\n",
    "taxi_df_2 = taxi_df.withColumn('pickup_dt', to_timestamp(col('pickup_dt')))\\\n",
    "        .withColumn('dropoff_dt', to_timestamp(col('dropoff_dt')))\\\n",
    "        .withColumn('travel_time', (col('dropoff_dt').cast('long') - col('pickup_dt').cast('long'))/60)"
   ]
  },
  {
   "cell_type": "code",
   "execution_count": 27,
   "id": "db447fb9-f89c-4d47-a7dc-6792d3466004",
   "metadata": {
    "execution": {
     "iopub.execute_input": "2021-08-08T08:01:46.129887Z",
     "iopub.status.busy": "2021-08-08T08:01:46.129635Z",
     "iopub.status.idle": "2021-08-08T08:01:50.874644Z",
     "shell.execute_reply": "2021-08-08T08:01:50.874102Z",
     "shell.execute_reply.started": "2021-08-08T08:01:46.129868Z"
    },
    "tags": []
   },
   "outputs": [
    {
     "name": "stdout",
     "output_type": "stream",
     "text": [
      "+--------+-------------------+-------------------+---------------+-------------+----------+------------------+------------+------------+------------+-----------+-----+-------+----------+------------+---------------------+------------+--------------------+------------------+\n",
      "|VendorID|          pickup_dt|         dropoff_dt|passenger_count|trip_distance|RatecodeID|store_and_fwd_flag|PULocationID|DOLocationID|payment_type|fare_amount|extra|mta_tax|tip_amount|tolls_amount|improvement_surcharge|total_amount|congestion_surcharge|       travel_time|\n",
      "+--------+-------------------+-------------------+---------------+-------------+----------+------------------+------------+------------+------------+-----------+-----+-------+----------+------------+---------------------+------------+--------------------+------------------+\n",
      "|       1|2019-01-30 23:03:35|2019-01-30 23:32:05|              1|         12.6|         1|                 N|         140|           3|           2|       35.5|  0.5|    0.5|       0.0|         0.0|                  0.3|        36.8|                 0.0|              28.5|\n",
      "|       1|2019-01-28 00:55:49|2019-01-28 00:58:43|              1|          0.4|         1|                 N|           4|           4|           1|        4.0|  0.5|    0.5|       0.7|         0.0|                  0.3|         6.0|                 0.0|               2.9|\n",
      "|       2|2019-01-27 01:30:36|2019-01-27 01:43:34|              2|         4.81|         1|                 N|          52|           4|           1|       15.5|  0.5|    0.5|      3.36|         0.0|                  0.3|       20.16|                 0.0|12.966666666666667|\n",
      "|       2|2019-01-30 20:59:03|2019-01-30 21:15:34|              3|         2.12|         1|                 N|          68|           4|           1|       12.0|  0.5|    0.5|      2.66|         0.0|                  0.3|       15.96|                 0.0|16.516666666666666|\n",
      "|       2|2019-01-30 21:11:50|2019-01-30 21:23:57|              5|         2.21|         1|                 N|          68|           4|           2|       10.0|  0.5|    0.5|       0.0|         0.0|                  0.3|        11.3|                 0.0|12.116666666666667|\n",
      "|       1|2019-01-27 01:16:02|2019-01-27 01:19:41|              1|          0.6|         1|                 N|          79|           4|           1|        4.5|  0.5|    0.5|       1.0|         0.0|                  0.3|         6.8|                 0.0|              3.65|\n",
      "|       2|2019-01-27 20:01:21|2019-01-27 20:07:32|              1|         0.88|         1|                 N|          79|           4|           1|        6.0|  0.5|    0.5|      1.46|         0.0|                  0.3|        8.76|                 0.0| 6.183333333333334|\n",
      "|       1|2019-01-29 01:43:30|2019-01-29 01:47:32|              1|          0.9|         1|                 N|          79|           4|           1|        5.0|  0.5|    0.5|      1.25|         0.0|                  0.3|        7.55|                 0.0| 4.033333333333333|\n",
      "|       2|2019-01-30 19:51:10|2019-01-30 19:57:45|              2|         1.02|         1|                 N|          79|           4|           1|        6.5|  1.0|    0.5|      1.66|         0.0|                  0.3|        9.96|                 0.0| 6.583333333333333|\n",
      "|       1|2019-01-29 21:29:01|2019-01-29 21:35:52|              1|          1.2|         1|                 N|          79|           4|           2|        6.5|  0.5|    0.5|       0.0|         0.0|                  0.3|         7.8|                 0.0|              6.85|\n",
      "|       2|2019-01-26 21:34:46|2019-01-26 21:43:25|              1|         2.81|         1|                 N|          87|           4|           1|       10.5|  0.5|    0.5|      2.36|         0.0|                  0.3|       14.16|                 0.0|              8.65|\n",
      "|       2|2019-01-30 18:29:05|2019-01-30 18:38:02|              1|          1.2|         1|                 N|         107|           4|           1|        7.5|  1.0|    0.5|      2.79|         0.0|                  0.3|       12.09|                 0.0|              8.95|\n",
      "|       2|2019-01-30 00:07:08|2019-01-30 00:12:07|              1|         0.98|         1|                 N|         113|           4|           1|        5.5|  0.5|    0.5|       0.0|         0.0|                  0.3|         6.8|                 0.0| 4.983333333333333|\n",
      "|       2|2019-01-25 19:58:57|2019-01-25 20:07:47|              1|         1.01|         1|                 N|         113|           4|           1|        7.0|  1.0|    0.5|      1.32|         0.0|                  0.3|       10.12|                 0.0| 8.833333333333334|\n",
      "|       2|2019-01-28 15:51:32|2019-01-28 15:58:34|              1|         1.06|         1|                 N|         113|           4|           1|        6.5|  0.0|    0.5|       1.5|         0.0|                  0.3|         8.8|                 0.0| 7.033333333333333|\n",
      "|       2|2019-01-31 01:23:57|2019-01-31 01:37:40|              1|         1.54|         1|                 N|         114|           4|           2|       10.0|  0.5|    0.5|       0.0|         0.0|                  0.3|        11.3|                 0.0|13.716666666666667|\n",
      "|       2|2019-01-26 05:42:40|2019-01-26 05:46:53|              1|         1.43|         1|                 N|         137|           4|           2|        6.0|  0.5|    0.5|       0.0|         0.0|                  0.3|         7.3|                 0.0| 4.216666666666667|\n",
      "|       1|2019-01-26 22:11:01|2019-01-26 22:24:57|              1|          3.9|         1|                 N|         140|           4|           1|       15.0|  0.5|    0.5|       1.5|         0.0|                  0.3|        17.8|                 0.0|13.933333333333334|\n",
      "|       1|2019-01-26 18:33:05|2019-01-26 18:48:58|              1|          3.2|         1|                 N|         141|           4|           1|       13.5|  0.0|    0.5|      2.15|         0.0|                  0.3|       16.45|                 0.0|15.883333333333333|\n",
      "|       2|2019-01-27 20:46:17|2019-01-27 20:56:39|              1|         4.64|         1|                 N|         141|           4|           1|       14.5|  0.5|    0.5|       1.5|         0.0|                  0.3|        17.3|                 0.0|10.366666666666667|\n",
      "+--------+-------------------+-------------------+---------------+-------------+----------+------------------+------------+------------+------------+-----------+-----+-------+----------+------------+---------------------+------------+--------------------+------------------+\n",
      "only showing top 20 rows\n",
      "\n"
     ]
    },
    {
     "name": "stderr",
     "output_type": "stream",
     "text": [
      "                                                                                \r"
     ]
    },
    {
     "data": {
      "text/plain": [
       "76486688"
      ]
     },
     "execution_count": 27,
     "metadata": {},
     "output_type": "execute_result"
    },
    {
     "name": "stdout",
     "output_type": "stream",
     "text": [
      "time: 4.74 s (started: 2021-08-08 18:01:46 +10:00)\n"
     ]
    }
   ],
   "source": [
    "taxi_df_2.show()\n",
    "taxi_df_2.count()"
   ]
  },
  {
   "cell_type": "code",
   "execution_count": 28,
   "id": "b467f5da-0cdf-48c1-bfd6-fe834ac9a33b",
   "metadata": {
    "execution": {
     "iopub.execute_input": "2021-08-08T08:01:50.955803Z",
     "iopub.status.busy": "2021-08-08T08:01:50.955572Z",
     "iopub.status.idle": "2021-08-08T08:02:42.268277Z",
     "shell.execute_reply": "2021-08-08T08:02:42.267885Z",
     "shell.execute_reply.started": "2021-08-08T08:01:50.955783Z"
    },
    "tags": []
   },
   "outputs": [
    {
     "name": "stderr",
     "output_type": "stream",
     "text": [
      "                                                                                \r"
     ]
    },
    {
     "data": {
      "text/plain": [
       "76486337"
      ]
     },
     "execution_count": 28,
     "metadata": {},
     "output_type": "execute_result"
    },
    {
     "name": "stderr",
     "output_type": "stream",
     "text": [
      "[Stage 35:======================================================> (65 + 2) / 67]\r"
     ]
    },
    {
     "name": "stdout",
     "output_type": "stream",
     "text": [
      "+--------+-------------------+-------------------+---------------+-------------+----------+------------------+------------+------------+------------+-----------+-----+-------+----------+------------+---------------------+------------+--------------------+--------------------+\n",
      "|VendorID|          pickup_dt|         dropoff_dt|passenger_count|trip_distance|RatecodeID|store_and_fwd_flag|PULocationID|DOLocationID|payment_type|fare_amount|extra|mta_tax|tip_amount|tolls_amount|improvement_surcharge|total_amount|congestion_surcharge|         travel_time|\n",
      "+--------+-------------------+-------------------+---------------+-------------+----------+------------------+------------+------------+------------+-----------+-----+-------+----------+------------+---------------------+------------+--------------------+--------------------+\n",
      "|       2|2019-01-29 22:35:09|2019-01-29 22:35:31|              6|         0.02|         1|                 N|         238|         238|           1|        2.5|  0.5|    0.5|      0.95|         0.0|                  0.3|        4.75|                 0.0| 0.36666666666666664|\n",
      "|       2|2019-02-09 13:17:35|2019-02-09 13:18:07|              1|          0.1|         1|                 N|          50|          50|           1|        2.5|  0.0|    0.5|       1.5|         0.0|                  0.3|         7.3|                 2.5|  0.5333333333333333|\n",
      "|       2|2019-01-27 14:07:13|2019-01-27 14:07:18|              1|         0.01|         1|                 N|         249|         249|           2|        2.5|  0.0|    0.5|       0.0|         0.0|                  0.3|         3.3|                 0.0| 0.08333333333333333|\n",
      "|       2|2019-01-28 10:11:57|2019-01-28 10:12:03|              1|         0.07|         1|                 N|         264|          61|           2|        2.5|  0.0|    0.5|       0.0|         0.0|                  0.3|         3.3|                 0.0|                 0.1|\n",
      "|       2|2019-01-26 01:59:56|2019-01-26 02:00:01|              1|         0.03|         1|                 N|         234|         264|           2|        2.5|  0.5|    0.5|       0.0|         0.0|                  0.3|         3.8|                 0.0| 0.08333333333333333|\n",
      "|       2|2019-01-28 14:48:31|2019-01-28 14:48:44|              1|         0.01|         1|                 N|         132|         132|           2|        2.5|  0.0|    0.5|       0.0|         0.0|                  0.3|         3.3|                 0.0| 0.21666666666666667|\n",
      "|       2|2019-01-28 20:49:04|2019-01-28 20:49:09|              1|         0.02|         1|                 N|         264|         264|           2|        2.5|  0.5|    0.5|       0.0|         0.0|                  0.3|         3.8|                 0.0| 0.08333333333333333|\n",
      "|       2|2019-01-30 11:31:29|2019-01-30 11:31:36|              1|         0.01|         1|                 N|         148|         148|           1|        2.5|  0.0|    0.5|       5.0|         0.0|                  0.3|         8.3|                 0.0| 0.11666666666666667|\n",
      "|       2|2019-02-06 09:44:03|2019-02-06 09:44:28|              2|         0.03|         1|                 N|          68|          68|           2|        2.5|  0.0|    0.5|       0.0|         0.0|                  0.3|         5.8|                 2.5|  0.4166666666666667|\n",
      "|       2|2019-01-28 08:47:47|2019-01-28 08:48:11|              1|         0.16|         1|                 N|         161|         161|           1|        2.5|  0.0|    0.5|       0.0|         0.0|                  0.3|         3.3|                 0.0|                 0.4|\n",
      "|       1|2019-02-05 08:10:51|2019-02-05 08:11:34|              1|          1.7|         1|                 N|          90|          90|           3|        2.5|  2.5|    0.5|       0.0|         0.0|                  0.3|         5.8|                 2.5|  0.7166666666666667|\n",
      "|       1|2019-01-28 08:10:43|2019-01-28 08:11:31|              1|          0.1|         1|                 N|         170|         162|           3|        2.5|  0.0|    0.5|       0.0|         0.0|                  0.3|         3.3|                 0.0|                 0.8|\n",
      "|       2|2019-02-02 10:19:44|2019-02-02 10:20:20|              1|         0.04|         1|                 N|         113|         113|           2|        2.5|  0.0|    0.5|       0.0|         0.0|                  0.3|         3.3|                 0.0|                 0.6|\n",
      "|       1|2019-02-02 02:03:45|2019-02-02 02:04:07|              1|          6.9|         1|                 N|         148|         148|           1|        2.5|  0.5|    0.5|      0.75|         0.0|                  0.3|        4.55|                 0.0| 0.36666666666666664|\n",
      "|       1|2019-02-04 12:29:39|2019-02-04 12:30:02|              1|          0.6|         1|                 N|         161|         161|           4|        2.5|  2.5|    0.5|       0.0|         0.0|                  0.3|         5.8|                 2.5| 0.38333333333333336|\n",
      "|       1|2019-01-28 18:04:29|2019-01-28 18:04:39|              1|         19.6|         1|                 N|          25|          25|           3|        2.5|  1.0|    0.5|       0.0|         0.0|                  0.3|         4.3|                 0.0| 0.16666666666666666|\n",
      "|       2|2019-02-01 04:54:54|2019-02-01 04:55:03|              1|         0.16|         1|                 N|         175|         175|           2|        2.5|  0.5|    0.5|       0.0|         0.0|                  0.3|         3.8|                 0.0|                0.15|\n",
      "|       1|2019-01-27 15:06:38|2019-01-27 15:06:39|              1|          2.2|         1|                 N|         132|         132|           1|        2.5|  0.0|    0.5|      20.0|         0.0|                  0.3|        23.3|                 0.0|0.016666666666666666|\n",
      "|       2|2019-02-04 15:47:41|2019-02-04 15:48:26|              1|         0.02|         1|                 N|         242|         242|           2|        2.5|  0.0|    0.5|       0.0|         0.0|                  0.3|         3.3|                 0.0|                0.75|\n",
      "|       2|2019-01-29 19:30:29|2019-01-29 19:30:36|              2|         0.01|         1|                 N|         162|         162|           2|        2.5|  1.0|    0.5|       0.0|         0.0|                  0.3|         4.3|                 0.0| 0.11666666666666667|\n",
      "+--------+-------------------+-------------------+---------------+-------------+----------+------------------+------------+------------+------------+-----------+-----+-------+----------+------------+---------------------+------------+--------------------+--------------------+\n",
      "only showing top 20 rows\n",
      "\n",
      "time: 51.3 s (started: 2021-08-08 18:01:50 +10:00)\n"
     ]
    },
    {
     "name": "stderr",
     "output_type": "stream",
     "text": [
      "                                                                                \r"
     ]
    }
   ],
   "source": [
    "# remove fare_amount less than $2.5 (minimum amount)\n",
    "taxi_df_2 = taxi_df_2.filter(col('fare_amount') >= 2.5)\n",
    "taxi_df_2.count()\n",
    "taxi_df_2.orderBy(col('fare_amount')).show()"
   ]
  },
  {
   "cell_type": "code",
   "execution_count": 38,
   "id": "e82fbb8a-c349-4482-8657-e6b6ed367cbf",
   "metadata": {
    "execution": {
     "iopub.execute_input": "2021-08-08T08:18:13.769438Z",
     "iopub.status.busy": "2021-08-08T08:18:13.769192Z",
     "iopub.status.idle": "2021-08-08T08:18:13.777814Z",
     "shell.execute_reply": "2021-08-08T08:18:13.777252Z",
     "shell.execute_reply.started": "2021-08-08T08:18:13.769420Z"
    },
    "tags": []
   },
   "outputs": [
    {
     "name": "stdout",
     "output_type": "stream",
     "text": [
      "time: 6.12 ms (started: 2021-08-08 18:18:13 +10:00)\n"
     ]
    }
   ],
   "source": [
    "taxi_df_2 = taxi_df_2.filter(col('travel_time') > 0)"
   ]
  },
  {
   "cell_type": "code",
   "execution_count": 39,
   "id": "b3ee8369-3f10-4e0d-aefb-037486df5a05",
   "metadata": {
    "execution": {
     "iopub.execute_input": "2021-08-08T08:18:22.148436Z",
     "iopub.status.busy": "2021-08-08T08:18:22.148167Z",
     "iopub.status.idle": "2021-08-08T08:19:00.748610Z",
     "shell.execute_reply": "2021-08-08T08:19:00.748040Z",
     "shell.execute_reply.started": "2021-08-08T08:18:22.148400Z"
    }
   },
   "outputs": [
    {
     "name": "stderr",
     "output_type": "stream",
     "text": [
      "[Stage 42:=======================================================>(66 + 1) / 67]\r"
     ]
    },
    {
     "name": "stdout",
     "output_type": "stream",
     "text": [
      "+--------+-------------------+-------------------+---------------+-------------+----------+------------------+------------+------------+------------+-----------+-----+-------+----------+------------+---------------------+------------+--------------------+--------------------+\n",
      "|VendorID|          pickup_dt|         dropoff_dt|passenger_count|trip_distance|RatecodeID|store_and_fwd_flag|PULocationID|DOLocationID|payment_type|fare_amount|extra|mta_tax|tip_amount|tolls_amount|improvement_surcharge|total_amount|congestion_surcharge|         travel_time|\n",
      "+--------+-------------------+-------------------+---------------+-------------+----------+------------------+------------+------------+------------+-----------+-----+-------+----------+------------+---------------------+------------+--------------------+--------------------+\n",
      "|       2|2019-03-05 09:25:07|2019-03-05 09:25:08|              2|         1.33|         1|                 N|         229|         140|           2|       14.5|  0.0|    0.5|       0.0|         0.0|                  0.3|        17.8|                 2.5|0.016666666666666666|\n",
      "|       2|2019-03-05 07:49:51|2019-03-05 07:49:52|              1|         1.64|         1|                 N|         107|         162|           1|        9.0|  0.0|    0.5|      2.46|         0.0|                  0.3|       14.76|                 2.5|0.016666666666666666|\n",
      "|       1|2019-03-11 11:14:55|2019-03-11 11:14:56|              1|          1.5|         1|                 N|         142|         142|           1|        2.5|  2.5|    0.5|       2.0|         0.0|                  0.3|         7.8|                 2.5|0.016666666666666666|\n",
      "|       2|2019-03-09 14:41:43|2019-03-09 14:41:44|              3|         2.54|         1|                 N|         170|         144|           1|       14.5|  0.0|    0.5|      0.05|         0.0|                  0.3|       17.85|                 2.5|0.016666666666666666|\n",
      "|       2|2019-03-27 09:15:12|2019-03-27 09:15:13|              1|         8.69|         1|                 N|         262|         138|           1|       25.0|  0.0|    0.5|       5.0|        5.76|                  0.3|       39.06|                 2.5|0.016666666666666666|\n",
      "|       2|2019-03-23 16:37:29|2019-03-23 16:37:30|              1|         0.01|         5|                 N|         230|         264|           1|       10.0|  0.0|    0.5|      2.16|         0.0|                  0.3|       12.96|                 0.0|0.016666666666666666|\n",
      "|       2|2019-04-02 23:56:27|2019-04-02 23:56:28|              1|         0.95|         5|                 N|         132|         264|           1|       50.0|  0.0|    0.5|      1.88|         0.0|                  0.3|       52.68|                 0.0|0.016666666666666666|\n",
      "|       1|2019-04-25 18:26:22|2019-04-25 18:26:23|              1|         19.7|         2|                 N|         138|         138|           1|       52.0|  4.5|    0.5|       8.0|         0.0|                  0.3|        65.3|                 0.0|0.016666666666666666|\n",
      "|       2|2019-06-08 13:42:11|2019-06-08 13:42:12|              1|         0.02|         5|                 N|         264|         264|           1|       63.0|  0.0|    0.5|     12.76|         0.0|                  0.3|       76.56|                 0.0|0.016666666666666666|\n",
      "|       1|2019-07-10 13:42:31|2019-07-10 13:42:32|              1|          7.2|         1|                 N|         130|         130|           3|        2.5|  0.0|    0.5|       0.0|         0.0|                  0.3|         3.3|                 0.0|0.016666666666666666|\n",
      "|       2|2019-06-29 23:36:05|2019-06-29 23:36:06|              1|         4.55|         1|                 N|          75|         264|           1|       16.5|  0.5|    0.5|      3.56|         0.0|                  0.3|       21.36|                 0.0|0.016666666666666666|\n",
      "|       1|2019-08-09 22:08:47|2019-08-09 22:08:48|              1|          0.6|         1|                 N|         164|         164|           3|        2.5|  3.0|    0.5|       0.0|         0.0|                  0.3|         6.3|                 2.5|0.016666666666666666|\n",
      "|       2|2019-08-12 19:29:28|2019-08-12 19:29:29|              1|         0.05|         1|                 N|         264|         264|           2|        2.5|  1.0|    0.5|       0.0|         0.0|                  0.3|         4.3|                 0.0|0.016666666666666666|\n",
      "|       1|2019-08-19 14:30:52|2019-08-19 14:30:53|              1|          3.7|         1|                 N|         216|         216|           3|        2.5|  0.0|    0.5|       0.0|         0.0|                  0.3|         3.3|                 0.0|0.016666666666666666|\n",
      "|       2|2019-10-06 10:09:33|2019-10-06 10:09:34|              1|         0.16|         5|                 N|         132|         264|           1|       62.0|  0.0|    0.5|      15.7|         0.0|                  0.3|        78.5|                 0.0|0.016666666666666666|\n",
      "|       2|2019-02-20 16:30:59|2019-02-20 16:31:00|              1|         2.33|         1|                 N|         163|         236|           2|       13.0|  1.0|    0.5|       0.0|         0.0|                  0.3|        17.3|                 2.5|0.016666666666666666|\n",
      "|       1|2019-06-15 15:13:04|2019-06-15 15:13:05|              1|          2.4|         1|                 N|          79|          79|           2|        2.5|  2.5|    0.5|       0.0|         0.0|                  0.3|         5.8|                 2.5|0.016666666666666666|\n",
      "|       2|2019-10-12 20:34:33|2019-10-12 20:34:34|              5|         2.22|         1|                 N|         264|         264|           2|       11.0|  0.5|    0.5|       0.0|         0.0|                  0.3|        12.3|                 0.0|0.016666666666666666|\n",
      "|       2|2019-12-03 16:41:30|2019-12-03 16:41:31|              1|         0.31|         5|                 N|         264|         264|           1|      65.92|  0.0|    0.5|     20.02|         0.0|                  0.3|       86.74|                 0.0|0.016666666666666666|\n",
      "|       2|2019-12-13 12:11:00|2019-12-13 12:11:01|              1|         0.04|         2|                 N|         264|         264|           2|       52.0|  0.0|    0.5|       0.0|         0.0|                  0.3|        52.8|                 0.0|0.016666666666666666|\n",
      "+--------+-------------------+-------------------+---------------+-------------+----------+------------------+------------+------------+------------+-----------+-----+-------+----------+------------+---------------------+------------+--------------------+--------------------+\n",
      "only showing top 20 rows\n",
      "\n",
      "time: 38.6 s (started: 2021-08-08 18:18:22 +10:00)\n"
     ]
    },
    {
     "name": "stderr",
     "output_type": "stream",
     "text": [
      "                                                                                \r"
     ]
    }
   ],
   "source": [
    "taxi_df_2.orderBy('travel_time').show()"
   ]
  },
  {
   "cell_type": "markdown",
   "id": "ed44ade8-28b2-4915-b40d-a83d20701204",
   "metadata": {},
   "source": [
    "According to TLC web site, yellow cab only take 4 or 5 passengers, remove pasenger number greater than 5."
   ]
  },
  {
   "cell_type": "code",
   "execution_count": 43,
   "id": "36776228-4307-4b27-9026-2a28d660785b",
   "metadata": {
    "execution": {
     "iopub.execute_input": "2021-08-08T08:24:49.776313Z",
     "iopub.status.busy": "2021-08-08T08:24:49.776129Z",
     "iopub.status.idle": "2021-08-08T08:24:49.785385Z",
     "shell.execute_reply": "2021-08-08T08:24:49.784939Z",
     "shell.execute_reply.started": "2021-08-08T08:24:49.776297Z"
    },
    "tags": []
   },
   "outputs": [
    {
     "name": "stdout",
     "output_type": "stream",
     "text": [
      "time: 6.76 ms (started: 2021-08-08 18:24:49 +10:00)\n"
     ]
    }
   ],
   "source": [
    "taxi_df_3 = taxi_df_2.filter(col('passenger_count') < 6)"
   ]
  },
  {
   "cell_type": "code",
   "execution_count": 48,
   "id": "df60917a-e5c7-4f81-bbe8-9e416c182edb",
   "metadata": {
    "execution": {
     "iopub.execute_input": "2021-08-08T08:26:02.752090Z",
     "iopub.status.busy": "2021-08-08T08:26:02.751876Z",
     "iopub.status.idle": "2021-08-08T08:26:02.829868Z",
     "shell.execute_reply": "2021-08-08T08:26:02.829405Z",
     "shell.execute_reply.started": "2021-08-08T08:26:02.752061Z"
    },
    "tags": []
   },
   "outputs": [
    {
     "name": "stdout",
     "output_type": "stream",
     "text": [
      "+--------+-------------------+-------------------+---------------+-------------+----------+------------------+------------+------------+------------+-----------+-----+-------+----------+------------+---------------------+------------+--------------------+------------------+\n",
      "|VendorID|          pickup_dt|         dropoff_dt|passenger_count|trip_distance|RatecodeID|store_and_fwd_flag|PULocationID|DOLocationID|payment_type|fare_amount|extra|mta_tax|tip_amount|tolls_amount|improvement_surcharge|total_amount|congestion_surcharge|       travel_time|\n",
      "+--------+-------------------+-------------------+---------------+-------------+----------+------------------+------------+------------+------------+-----------+-----+-------+----------+------------+---------------------+------------+--------------------+------------------+\n",
      "|       1|2019-01-30 23:03:35|2019-01-30 23:32:05|              1|         12.6|         1|                 N|         140|           3|           2|       35.5|  0.5|    0.5|       0.0|         0.0|                  0.3|        36.8|                 0.0|              28.5|\n",
      "|       1|2019-01-28 00:55:49|2019-01-28 00:58:43|              1|          0.4|         1|                 N|           4|           4|           1|        4.0|  0.5|    0.5|       0.7|         0.0|                  0.3|         6.0|                 0.0|               2.9|\n",
      "|       2|2019-01-27 01:30:36|2019-01-27 01:43:34|              2|         4.81|         1|                 N|          52|           4|           1|       15.5|  0.5|    0.5|      3.36|         0.0|                  0.3|       20.16|                 0.0|12.966666666666667|\n",
      "|       2|2019-01-30 20:59:03|2019-01-30 21:15:34|              3|         2.12|         1|                 N|          68|           4|           1|       12.0|  0.5|    0.5|      2.66|         0.0|                  0.3|       15.96|                 0.0|16.516666666666666|\n",
      "|       2|2019-01-30 21:11:50|2019-01-30 21:23:57|              5|         2.21|         1|                 N|          68|           4|           2|       10.0|  0.5|    0.5|       0.0|         0.0|                  0.3|        11.3|                 0.0|12.116666666666667|\n",
      "|       1|2019-01-27 01:16:02|2019-01-27 01:19:41|              1|          0.6|         1|                 N|          79|           4|           1|        4.5|  0.5|    0.5|       1.0|         0.0|                  0.3|         6.8|                 0.0|              3.65|\n",
      "|       2|2019-01-27 20:01:21|2019-01-27 20:07:32|              1|         0.88|         1|                 N|          79|           4|           1|        6.0|  0.5|    0.5|      1.46|         0.0|                  0.3|        8.76|                 0.0| 6.183333333333334|\n",
      "|       1|2019-01-29 01:43:30|2019-01-29 01:47:32|              1|          0.9|         1|                 N|          79|           4|           1|        5.0|  0.5|    0.5|      1.25|         0.0|                  0.3|        7.55|                 0.0| 4.033333333333333|\n",
      "|       2|2019-01-30 19:51:10|2019-01-30 19:57:45|              2|         1.02|         1|                 N|          79|           4|           1|        6.5|  1.0|    0.5|      1.66|         0.0|                  0.3|        9.96|                 0.0| 6.583333333333333|\n",
      "|       1|2019-01-29 21:29:01|2019-01-29 21:35:52|              1|          1.2|         1|                 N|          79|           4|           2|        6.5|  0.5|    0.5|       0.0|         0.0|                  0.3|         7.8|                 0.0|              6.85|\n",
      "|       2|2019-01-26 21:34:46|2019-01-26 21:43:25|              1|         2.81|         1|                 N|          87|           4|           1|       10.5|  0.5|    0.5|      2.36|         0.0|                  0.3|       14.16|                 0.0|              8.65|\n",
      "|       2|2019-01-30 18:29:05|2019-01-30 18:38:02|              1|          1.2|         1|                 N|         107|           4|           1|        7.5|  1.0|    0.5|      2.79|         0.0|                  0.3|       12.09|                 0.0|              8.95|\n",
      "|       2|2019-01-30 00:07:08|2019-01-30 00:12:07|              1|         0.98|         1|                 N|         113|           4|           1|        5.5|  0.5|    0.5|       0.0|         0.0|                  0.3|         6.8|                 0.0| 4.983333333333333|\n",
      "|       2|2019-01-25 19:58:57|2019-01-25 20:07:47|              1|         1.01|         1|                 N|         113|           4|           1|        7.0|  1.0|    0.5|      1.32|         0.0|                  0.3|       10.12|                 0.0| 8.833333333333334|\n",
      "|       2|2019-01-28 15:51:32|2019-01-28 15:58:34|              1|         1.06|         1|                 N|         113|           4|           1|        6.5|  0.0|    0.5|       1.5|         0.0|                  0.3|         8.8|                 0.0| 7.033333333333333|\n",
      "|       2|2019-01-31 01:23:57|2019-01-31 01:37:40|              1|         1.54|         1|                 N|         114|           4|           2|       10.0|  0.5|    0.5|       0.0|         0.0|                  0.3|        11.3|                 0.0|13.716666666666667|\n",
      "|       2|2019-01-26 05:42:40|2019-01-26 05:46:53|              1|         1.43|         1|                 N|         137|           4|           2|        6.0|  0.5|    0.5|       0.0|         0.0|                  0.3|         7.3|                 0.0| 4.216666666666667|\n",
      "|       1|2019-01-26 22:11:01|2019-01-26 22:24:57|              1|          3.9|         1|                 N|         140|           4|           1|       15.0|  0.5|    0.5|       1.5|         0.0|                  0.3|        17.8|                 0.0|13.933333333333334|\n",
      "|       1|2019-01-26 18:33:05|2019-01-26 18:48:58|              1|          3.2|         1|                 N|         141|           4|           1|       13.5|  0.0|    0.5|      2.15|         0.0|                  0.3|       16.45|                 0.0|15.883333333333333|\n",
      "|       2|2019-01-27 20:46:17|2019-01-27 20:56:39|              1|         4.64|         1|                 N|         141|           4|           1|       14.5|  0.5|    0.5|       1.5|         0.0|                  0.3|        17.3|                 0.0|10.366666666666667|\n",
      "+--------+-------------------+-------------------+---------------+-------------+----------+------------------+------------+------------+------------+-----------+-----+-------+----------+------------+---------------------+------------+--------------------+------------------+\n",
      "only showing top 20 rows\n",
      "\n",
      "time: 75.5 ms (started: 2021-08-08 18:26:02 +10:00)\n"
     ]
    }
   ],
   "source": [
    "taxi_df_3.show()"
   ]
  },
  {
   "cell_type": "code",
   "execution_count": 52,
   "id": "63582d93-1891-4b6d-9e5e-15edddd6219e",
   "metadata": {
    "collapsed": true,
    "execution": {
     "iopub.execute_input": "2021-08-08T08:40:34.219682Z",
     "iopub.status.busy": "2021-08-08T08:40:34.219487Z",
     "iopub.status.idle": "2021-08-08T08:41:02.326867Z",
     "shell.execute_reply": "2021-08-08T08:41:02.326510Z",
     "shell.execute_reply.started": "2021-08-08T08:40:34.219666Z"
    },
    "jupyter": {
     "outputs_hidden": true
    },
    "scrolled": true,
    "tags": []
   },
   "outputs": [
    {
     "name": "stderr",
     "output_type": "stream",
     "text": [
      "[Stage 61:======================================================> (65 + 2) / 67]\r"
     ]
    },
    {
     "name": "stdout",
     "output_type": "stream",
     "text": [
      "+-------------+-----------+--------------------+\n",
      "|trip_distance|fare_amount|         travel_time|\n",
      "+-------------+-----------+--------------------+\n",
      "|         0.01|      275.0|   2.683333333333333|\n",
      "|         0.01|      253.0| 0.11666666666666667|\n",
      "|         0.01|      240.0|  27.483333333333334|\n",
      "|         0.01|      225.0| 0.11666666666666667|\n",
      "|         0.01|      224.0|                0.25|\n",
      "|         0.01|      217.0|  0.3333333333333333|\n",
      "|         0.01|      200.0|                 6.4|\n",
      "|         0.01|      200.0|                0.05|\n",
      "|         0.01|      188.0|0.016666666666666666|\n",
      "|         0.01|      187.0| 0.31666666666666665|\n",
      "|         0.01|      185.0| 0.03333333333333333|\n",
      "|         0.01|      183.0| 0.08333333333333333|\n",
      "|         0.01|      180.0|                12.1|\n",
      "|         0.01|      180.0|                 2.6|\n",
      "|         0.01|      180.0| 0.18333333333333332|\n",
      "|         0.01|      179.5| 0.06666666666666667|\n",
      "|         0.01|      176.2|  1.4333333333333333|\n",
      "|         0.01|      176.0|                 0.1|\n",
      "|         0.01|      175.0|  12.633333333333333|\n",
      "|         0.01|      175.0|  3.0833333333333335|\n",
      "|         0.01|      175.0| 0.06666666666666667|\n",
      "|         0.01|      172.0| 0.16666666666666666|\n",
      "|         0.01|      170.0|                 0.3|\n",
      "|         0.01|      169.0|  0.5666666666666667|\n",
      "|         0.01|     166.12|  2.1166666666666667|\n",
      "|         0.01|      160.0| 0.08333333333333333|\n",
      "|         0.01|      160.0| 0.03333333333333333|\n",
      "|         0.01|      159.0| 0.06666666666666667|\n",
      "|         0.01|      157.0| 0.23333333333333334|\n",
      "|         0.01|      152.0| 0.06666666666666667|\n",
      "|         0.01|      150.0|                 7.0|\n",
      "|         0.01|      150.0|                1.45|\n",
      "|         0.01|      150.0|  0.4166666666666667|\n",
      "|         0.01|      150.0|  0.2833333333333333|\n",
      "|         0.01|      150.0|                 0.2|\n",
      "|         0.01|      150.0|                 0.2|\n",
      "|         0.01|      150.0| 0.18333333333333332|\n",
      "|         0.01|      150.0|                0.15|\n",
      "|         0.01|      150.0| 0.13333333333333333|\n",
      "|         0.01|      150.0| 0.08333333333333333|\n",
      "|         0.01|      150.0| 0.08333333333333333|\n",
      "|         0.01|      150.0| 0.06666666666666667|\n",
      "|         0.01|      150.0| 0.06666666666666667|\n",
      "|         0.01|      149.0|                0.15|\n",
      "|         0.01|      149.0| 0.13333333333333333|\n",
      "|         0.01|      148.0|   4.633333333333334|\n",
      "|         0.01|      146.0|                0.15|\n",
      "|         0.01|      145.0| 0.43333333333333335|\n",
      "|         0.01|      145.0| 0.23333333333333334|\n",
      "|         0.01|      144.0| 0.06666666666666667|\n",
      "|         0.01|      143.0|   5.233333333333333|\n",
      "|         0.01|      140.0|                0.55|\n",
      "|         0.01|      140.0|  0.4166666666666667|\n",
      "|         0.01|      140.0| 0.18333333333333332|\n",
      "|         0.01|      140.0| 0.11666666666666667|\n",
      "|         0.01|      140.0| 0.06666666666666667|\n",
      "|         0.01|      140.0|                0.05|\n",
      "|         0.01|      140.0| 0.03333333333333333|\n",
      "|         0.01|      135.0|  3.1666666666666665|\n",
      "|         0.01|      135.0| 0.38333333333333336|\n",
      "|         0.01|      135.0| 0.08333333333333333|\n",
      "|         0.01|      135.0|                0.05|\n",
      "|         0.01|      133.0|  0.8833333333333333|\n",
      "|         0.01|      132.0|                0.65|\n",
      "|         0.01|     130.24| 0.08333333333333333|\n",
      "|         0.01|      130.0|   33.86666666666667|\n",
      "|         0.01|      130.0|  1.0166666666666666|\n",
      "|         0.01|     127.75|  1.1833333333333333|\n",
      "|         0.01|      127.0| 0.06666666666666667|\n",
      "|         0.01|     126.54| 0.08333333333333333|\n",
      "|         0.01|      126.0|  3.7666666666666666|\n",
      "|         0.01|      125.0|   8.066666666666666|\n",
      "|         0.01|      125.0| 0.16666666666666666|\n",
      "|         0.01|      125.0| 0.11666666666666667|\n",
      "|         0.01|      124.0|                0.15|\n",
      "|         0.01|      124.0| 0.06666666666666667|\n",
      "|         0.01|     122.25|  0.4166666666666667|\n",
      "|         0.01|      122.0| 0.08333333333333333|\n",
      "|         0.01|      122.0| 0.08333333333333333|\n",
      "|         0.01|      122.0|                0.05|\n",
      "|         0.01|      120.0|  10.216666666666667|\n",
      "|         0.01|      120.0|  0.5833333333333334|\n",
      "|         0.01|      120.0|                0.55|\n",
      "|         0.01|      120.0|  0.5333333333333333|\n",
      "|         0.01|      120.0|                0.25|\n",
      "|         0.01|      120.0| 0.21666666666666667|\n",
      "|         0.01|      120.0| 0.06666666666666667|\n",
      "|         0.01|      120.0|                0.05|\n",
      "|         0.01|      120.0|                0.05|\n",
      "|         0.01|      120.0| 0.03333333333333333|\n",
      "|         0.01|      118.0| 0.03333333333333333|\n",
      "|         0.01|      115.0| 0.08333333333333333|\n",
      "|         0.01|      115.0|                0.05|\n",
      "|         0.01|     111.11| 0.38333333333333336|\n",
      "|         0.01|      111.0| 0.03333333333333333|\n",
      "|         0.01|      110.0|                3.05|\n",
      "|         0.01|      110.0|                0.85|\n",
      "|         0.01|      110.0|  0.8333333333333334|\n",
      "|         0.01|      110.0|                 0.3|\n",
      "|         0.01|      110.0| 0.08333333333333333|\n",
      "|         0.01|      110.0| 0.06666666666666667|\n",
      "|         0.01|      110.0| 0.06666666666666667|\n",
      "|         0.01|      110.0| 0.06666666666666667|\n",
      "|         0.01|      110.0|                0.05|\n",
      "|         0.01|      110.0|                0.05|\n",
      "|         0.01|      110.0| 0.03333333333333333|\n",
      "|         0.01|      110.0| 0.03333333333333333|\n",
      "|         0.01|      110.0| 0.03333333333333333|\n",
      "|         0.01|      109.0| 0.08333333333333333|\n",
      "|         0.01|      109.0| 0.03333333333333333|\n",
      "|         0.01|      108.0| 0.08333333333333333|\n",
      "|         0.01|     107.55| 0.13333333333333333|\n",
      "|         0.01|     105.76|                0.05|\n",
      "|         0.01|      105.0|                0.75|\n",
      "|         0.01|      105.0| 0.11666666666666667|\n",
      "|         0.01|      104.0|                1.25|\n",
      "|         0.01|      103.0|  0.8833333333333333|\n",
      "|         0.01|      103.0| 0.03333333333333333|\n",
      "|         0.01|      103.0| 0.03333333333333333|\n",
      "|         0.01|      100.0|  11.483333333333333|\n",
      "|         0.01|      100.0|                4.15|\n",
      "|         0.01|      100.0|  2.1333333333333333|\n",
      "|         0.01|      100.0|  0.9166666666666666|\n",
      "|         0.01|      100.0|  0.7333333333333333|\n",
      "|         0.01|      100.0|  0.7166666666666667|\n",
      "|         0.01|      100.0|  0.7166666666666667|\n",
      "|         0.01|      100.0|  0.6666666666666666|\n",
      "|         0.01|      100.0|  0.3333333333333333|\n",
      "|         0.01|      100.0|  0.2833333333333333|\n",
      "|         0.01|      100.0|                0.25|\n",
      "|         0.01|      100.0| 0.18333333333333332|\n",
      "|         0.01|      100.0| 0.18333333333333332|\n",
      "|         0.01|      100.0|                0.15|\n",
      "|         0.01|      100.0| 0.11666666666666667|\n",
      "|         0.01|      100.0| 0.06666666666666667|\n",
      "|         0.01|      100.0|                0.05|\n",
      "|         0.01|      100.0| 0.03333333333333333|\n",
      "|         0.01|      100.0| 0.03333333333333333|\n",
      "|         0.01|      100.0| 0.03333333333333333|\n",
      "|         0.01|       98.0|                 1.1|\n",
      "|         0.01|       98.0|  0.5333333333333333|\n",
      "|         0.01|       97.0|                0.25|\n",
      "|         0.01|       97.0| 0.18333333333333332|\n",
      "|         0.01|       96.0|                 5.0|\n",
      "|         0.01|       96.0|                 3.1|\n",
      "|         0.01|       96.0|  1.4333333333333333|\n",
      "|         0.01|       96.0|  0.2833333333333333|\n",
      "|         0.01|       96.0|                0.15|\n",
      "|         0.01|      95.55|                0.05|\n",
      "|         0.01|       95.5| 0.03333333333333333|\n",
      "|         0.01|       95.3|                4.65|\n",
      "|         0.01|       95.0|                 8.0|\n",
      "|         0.01|       95.0|  2.5166666666666666|\n",
      "|         0.01|       95.0|  1.4833333333333334|\n",
      "|         0.01|       95.0|  1.1666666666666667|\n",
      "|         0.01|       95.0|  0.9333333333333333|\n",
      "|         0.01|       95.0| 0.48333333333333334|\n",
      "|         0.01|       95.0| 0.31666666666666665|\n",
      "|         0.01|       95.0|  0.2833333333333333|\n",
      "|         0.01|       95.0|  0.2833333333333333|\n",
      "|         0.01|       95.0| 0.21666666666666667|\n",
      "|         0.01|       95.0|                 0.2|\n",
      "|         0.01|       95.0|                0.15|\n",
      "|         0.01|       95.0| 0.08333333333333333|\n",
      "|         0.01|       95.0| 0.06666666666666667|\n",
      "|         0.01|       95.0| 0.06666666666666667|\n",
      "|         0.01|       95.0| 0.06666666666666667|\n",
      "|         0.01|       95.0|                0.05|\n",
      "|         0.01|       95.0|                0.05|\n",
      "|         0.01|       95.0| 0.03333333333333333|\n",
      "|         0.01|       95.0| 0.03333333333333333|\n",
      "|         0.01|       95.0| 0.03333333333333333|\n",
      "|         0.01|       94.5| 0.16666666666666666|\n",
      "|         0.01|       94.0|  0.5166666666666667|\n",
      "|         0.01|       93.0| 0.43333333333333335|\n",
      "|         0.01|       93.0| 0.06666666666666667|\n",
      "|         0.01|       90.0|                 5.8|\n",
      "|         0.01|       90.0|                 2.8|\n",
      "|         0.01|       90.0|  2.2333333333333334|\n",
      "|         0.01|       90.0|                 1.3|\n",
      "|         0.01|       90.0|  0.6833333333333333|\n",
      "|         0.01|       90.0| 0.43333333333333335|\n",
      "|         0.01|       90.0|  0.2833333333333333|\n",
      "|         0.01|       90.0| 0.23333333333333334|\n",
      "|         0.01|       90.0|                 0.2|\n",
      "|         0.01|       90.0| 0.16666666666666666|\n",
      "|         0.01|       90.0|                0.15|\n",
      "|         0.01|       90.0| 0.11666666666666667|\n",
      "|         0.01|       90.0|                 0.1|\n",
      "|         0.01|       90.0|                 0.1|\n",
      "|         0.01|       90.0| 0.08333333333333333|\n",
      "|         0.01|       90.0| 0.06666666666666667|\n",
      "|         0.01|       90.0| 0.06666666666666667|\n",
      "|         0.01|       90.0| 0.03333333333333333|\n",
      "|         0.01|       89.2| 0.08333333333333333|\n",
      "|         0.01|       89.0|  0.2833333333333333|\n",
      "|         0.01|       89.0| 0.13333333333333333|\n",
      "|         0.01|       88.0| 0.06666666666666667|\n",
      "|         0.01|      87.06| 0.06666666666666667|\n",
      "|         0.01|      87.02| 0.06666666666666667|\n",
      "|         0.01|       87.0|  15.366666666666667|\n",
      "|         0.01|       87.0| 0.06666666666666667|\n",
      "|         0.01|       87.0|                0.05|\n",
      "|         0.01|      86.12|                 0.1|\n",
      "|         0.01|      86.07|                0.05|\n",
      "|         0.01|       86.0|                0.05|\n",
      "|         0.01|       86.0| 0.03333333333333333|\n",
      "|         0.01|       85.5| 0.06666666666666667|\n",
      "|         0.01|       85.0|                7.95|\n",
      "|         0.01|       85.0|   2.066666666666667|\n",
      "|         0.01|       85.0|  0.8333333333333334|\n",
      "|         0.01|       85.0|  0.4166666666666667|\n",
      "|         0.01|       85.0|                0.35|\n",
      "|         0.01|       85.0|  0.3333333333333333|\n",
      "|         0.01|       85.0|  0.2833333333333333|\n",
      "|         0.01|       85.0| 0.26666666666666666|\n",
      "|         0.01|       85.0| 0.21666666666666667|\n",
      "|         0.01|       85.0| 0.21666666666666667|\n",
      "|         0.01|       85.0|                 0.2|\n",
      "|         0.01|       85.0| 0.16666666666666666|\n",
      "|         0.01|       85.0| 0.11666666666666667|\n",
      "|         0.01|       85.0| 0.08333333333333333|\n",
      "|         0.01|       85.0| 0.08333333333333333|\n",
      "|         0.01|       85.0| 0.08333333333333333|\n",
      "|         0.01|       85.0| 0.06666666666666667|\n",
      "|         0.01|       85.0|                0.05|\n",
      "|         0.01|       85.0|                0.05|\n",
      "|         0.01|       85.0|                0.05|\n",
      "|         0.01|       85.0|                0.05|\n",
      "|         0.01|       85.0|                0.05|\n",
      "|         0.01|       85.0|                0.05|\n",
      "|         0.01|       85.0|                0.05|\n",
      "|         0.01|       85.0| 0.03333333333333333|\n",
      "|         0.01|       85.0| 0.03333333333333333|\n",
      "|         0.01|       85.0| 0.03333333333333333|\n",
      "|         0.01|       85.0| 0.03333333333333333|\n",
      "|         0.01|       85.0| 0.03333333333333333|\n",
      "|         0.01|       85.0| 0.03333333333333333|\n",
      "|         0.01|       85.0| 0.03333333333333333|\n",
      "|         0.01|       85.0| 0.03333333333333333|\n",
      "|         0.01|       84.5| 0.11666666666666667|\n",
      "|         0.01|       84.5| 0.08333333333333333|\n",
      "|         0.01|       84.0|                0.05|\n",
      "|         0.01|       83.5|               11.25|\n",
      "|         0.01|       83.5| 0.06666666666666667|\n",
      "|         0.01|       83.0|                0.05|\n",
      "|         0.01|       83.0|0.016666666666666666|\n",
      "|         0.01|       82.8| 0.08333333333333333|\n",
      "|         0.01|       82.5| 0.21666666666666667|\n",
      "|         0.01|       82.0|                 0.1|\n",
      "|         0.01|       81.0|                0.05|\n",
      "|         0.01|       80.0|               34.95|\n",
      "|         0.01|       80.0|   6.433333333333334|\n",
      "|         0.01|       80.0|   3.283333333333333|\n",
      "|         0.01|       80.0|   2.033333333333333|\n",
      "|         0.01|       80.0|                1.85|\n",
      "|         0.01|       80.0|                0.85|\n",
      "|         0.01|       80.0|                0.75|\n",
      "|         0.01|       80.0|  0.6166666666666667|\n",
      "|         0.01|       80.0|  0.5333333333333333|\n",
      "|         0.01|       80.0| 0.38333333333333336|\n",
      "|         0.01|       80.0| 0.36666666666666664|\n",
      "|         0.01|       80.0| 0.23333333333333334|\n",
      "|         0.01|       80.0| 0.18333333333333332|\n",
      "|         0.01|       80.0| 0.18333333333333332|\n",
      "|         0.01|       80.0| 0.18333333333333332|\n",
      "|         0.01|       80.0| 0.16666666666666666|\n",
      "|         0.01|       80.0| 0.16666666666666666|\n",
      "|         0.01|       80.0| 0.13333333333333333|\n",
      "|         0.01|       80.0| 0.08333333333333333|\n",
      "|         0.01|       80.0| 0.06666666666666667|\n",
      "|         0.01|       80.0| 0.06666666666666667|\n",
      "|         0.01|       80.0|                0.05|\n",
      "|         0.01|       80.0|                0.05|\n",
      "|         0.01|       80.0|                0.05|\n",
      "|         0.01|       80.0|                0.05|\n",
      "|         0.01|       80.0|                0.05|\n",
      "|         0.01|       80.0|                0.05|\n",
      "|         0.01|       80.0| 0.03333333333333333|\n",
      "|         0.01|       80.0| 0.03333333333333333|\n",
      "|         0.01|       80.0| 0.03333333333333333|\n",
      "|         0.01|       80.0|0.016666666666666666|\n",
      "|         0.01|       79.5| 0.43333333333333335|\n",
      "|         0.01|       79.5|                 0.2|\n",
      "|         0.01|       79.5|0.016666666666666666|\n",
      "|         0.01|      79.12|                0.05|\n",
      "|         0.01|      79.12|                0.05|\n",
      "|         0.01|      79.12| 0.03333333333333333|\n",
      "|         0.01|       79.0|                 8.0|\n",
      "|         0.01|       79.0| 0.31666666666666665|\n",
      "|         0.01|       79.0|                0.25|\n",
      "|         0.01|       79.0| 0.16666666666666666|\n",
      "|         0.01|       79.0| 0.13333333333333333|\n",
      "|         0.01|       79.0| 0.13333333333333333|\n",
      "|         0.01|       79.0| 0.11666666666666667|\n",
      "|         0.01|       79.0| 0.08333333333333333|\n",
      "|         0.01|       79.0| 0.08333333333333333|\n",
      "|         0.01|       79.0| 0.08333333333333333|\n",
      "|         0.01|       79.0| 0.06666666666666667|\n",
      "|         0.01|       79.0|                0.05|\n",
      "|         0.01|       79.0|                0.05|\n",
      "|         0.01|       79.0|                0.05|\n",
      "|         0.01|       79.0| 0.03333333333333333|\n",
      "|         0.01|       79.0|0.016666666666666666|\n",
      "|         0.01|       78.8| 0.03333333333333333|\n",
      "|         0.01|       78.5| 0.03333333333333333|\n",
      "|         0.01|       78.0|  2.0166666666666666|\n",
      "|         0.01|       78.0|  1.4333333333333333|\n",
      "|         0.01|       78.0|                0.55|\n",
      "|         0.01|       78.0|                0.15|\n",
      "|         0.01|       78.0|                0.05|\n",
      "|         0.01|       78.0|                0.05|\n",
      "|         0.01|       78.0|                0.05|\n",
      "|         0.01|       78.0|0.016666666666666666|\n",
      "|         0.01|       77.5|  0.9333333333333333|\n",
      "|         0.01|       77.5|0.016666666666666666|\n",
      "|         0.01|      76.46|                5.35|\n",
      "|         0.01|      76.16|  1.1666666666666667|\n",
      "|         0.01|      76.07|  0.7666666666666667|\n",
      "|         0.01|       76.0|   33.78333333333333|\n",
      "|         0.01|       76.0|  1.6666666666666667|\n",
      "|         0.01|       76.0| 0.06666666666666667|\n",
      "|         0.01|       76.0|                0.05|\n",
      "|         0.01|      75.92| 0.13333333333333333|\n",
      "|         0.01|      75.55| 0.16666666666666666|\n",
      "|         0.01|      75.25|                 9.0|\n",
      "|         0.01|      75.12|                0.05|\n",
      "|         0.01|      75.12|                0.05|\n",
      "|         0.01|       75.0|  1437.5333333333333|\n",
      "|         0.01|       75.0|                7.95|\n",
      "|         0.01|       75.0|                5.65|\n",
      "|         0.01|       75.0|   4.116666666666666|\n",
      "|         0.01|       75.0|                 4.0|\n",
      "|         0.01|       75.0|   3.783333333333333|\n",
      "|         0.01|       75.0|   3.183333333333333|\n",
      "|         0.01|       75.0|                2.95|\n",
      "|         0.01|       75.0|                 2.4|\n",
      "|         0.01|       75.0|   2.183333333333333|\n",
      "|         0.01|       75.0|                 1.8|\n",
      "|         0.01|       75.0|  0.7666666666666667|\n",
      "|         0.01|       75.0|                 0.7|\n",
      "|         0.01|       75.0|  0.6666666666666666|\n",
      "|         0.01|       75.0|  0.5833333333333334|\n",
      "|         0.01|       75.0|                0.55|\n",
      "|         0.01|       75.0|                0.45|\n",
      "|         0.01|       75.0|                0.35|\n",
      "|         0.01|       75.0| 0.31666666666666665|\n",
      "|         0.01|       75.0|                 0.3|\n",
      "|         0.01|       75.0|                0.25|\n",
      "|         0.01|       75.0| 0.23333333333333334|\n",
      "|         0.01|       75.0| 0.21666666666666667|\n",
      "|         0.01|       75.0|                 0.2|\n",
      "|         0.01|       75.0| 0.16666666666666666|\n",
      "|         0.01|       75.0| 0.16666666666666666|\n",
      "|         0.01|       75.0|                 0.1|\n",
      "|         0.01|       75.0|                 0.1|\n",
      "|         0.01|       75.0| 0.06666666666666667|\n",
      "|         0.01|       75.0| 0.06666666666666667|\n",
      "|         0.01|       75.0| 0.06666666666666667|\n",
      "|         0.01|       75.0|                0.05|\n",
      "|         0.01|       75.0|                0.05|\n",
      "|         0.01|       75.0|                0.05|\n",
      "|         0.01|       75.0|                0.05|\n",
      "|         0.01|       75.0|                0.05|\n",
      "|         0.01|       75.0|                0.05|\n",
      "|         0.01|       75.0|                0.05|\n",
      "|         0.01|       75.0|                0.05|\n",
      "|         0.01|       75.0|                0.05|\n",
      "|         0.01|       75.0|                0.05|\n",
      "|         0.01|       75.0|                0.05|\n",
      "|         0.01|       75.0|                0.05|\n",
      "|         0.01|       75.0|                0.05|\n",
      "|         0.01|       75.0|                0.05|\n",
      "|         0.01|       75.0|                0.05|\n",
      "|         0.01|       75.0|                0.05|\n",
      "|         0.01|       75.0| 0.03333333333333333|\n",
      "|         0.01|       75.0| 0.03333333333333333|\n",
      "|         0.01|       75.0| 0.03333333333333333|\n",
      "|         0.01|       75.0| 0.03333333333333333|\n",
      "|         0.01|       75.0| 0.03333333333333333|\n",
      "|         0.01|       75.0| 0.03333333333333333|\n",
      "|         0.01|       75.0| 0.03333333333333333|\n",
      "|         0.01|       75.0| 0.03333333333333333|\n",
      "|         0.01|       75.0| 0.03333333333333333|\n",
      "|         0.01|      74.99| 0.38333333333333336|\n",
      "|         0.01|       74.5| 0.23333333333333334|\n",
      "|         0.01|       74.5| 0.21666666666666667|\n",
      "|         0.01|       74.5| 0.03333333333333333|\n",
      "|         0.01|      74.16|  1.4166666666666667|\n",
      "|         0.01|      74.06|                0.05|\n",
      "|         0.01|      74.06| 0.03333333333333333|\n",
      "|         0.01|       74.0|                 0.8|\n",
      "|         0.01|       74.0|  0.4166666666666667|\n",
      "|         0.01|       74.0| 0.21666666666666667|\n",
      "|         0.01|       74.0| 0.06666666666666667|\n",
      "|         0.01|       74.0|                0.05|\n",
      "|         0.01|       74.0|                0.05|\n",
      "|         0.01|       74.0| 0.03333333333333333|\n",
      "|         0.01|       73.8|  0.6666666666666666|\n",
      "|         0.01|      73.56|                 8.0|\n",
      "|         0.01|       73.2|                 0.1|\n",
      "|         0.01|       73.0| 0.13333333333333333|\n",
      "|         0.01|       73.0| 0.11666666666666667|\n",
      "|         0.01|       73.0|                0.05|\n",
      "|         0.01|       73.0| 0.03333333333333333|\n",
      "|         0.01|       73.0| 0.03333333333333333|\n",
      "|         0.01|       73.0| 0.03333333333333333|\n",
      "|         0.01|      72.92| 0.11666666666666667|\n",
      "|         0.01|       72.5|                0.05|\n",
      "|         0.01|      72.25|   4.083333333333333|\n",
      "|         0.01|      72.25|  0.7833333333333333|\n",
      "|         0.01|      72.21|                0.55|\n",
      "|         0.01|       72.0|                 2.9|\n",
      "|         0.01|       72.0|                 0.8|\n",
      "|         0.01|       72.0|                 0.7|\n",
      "|         0.01|       72.0| 0.11666666666666667|\n",
      "|         0.01|       72.0| 0.08333333333333333|\n",
      "|         0.01|       72.0| 0.08333333333333333|\n",
      "|         0.01|       72.0| 0.06666666666666667|\n",
      "|         0.01|       72.0| 0.06666666666666667|\n",
      "|         0.01|       72.0|                0.05|\n",
      "|         0.01|       72.0|                0.05|\n",
      "|         0.01|       72.0| 0.03333333333333333|\n",
      "|         0.01|       72.0| 0.03333333333333333|\n",
      "|         0.01|       72.0|0.016666666666666666|\n",
      "|         0.01|       72.0|0.016666666666666666|\n",
      "|         0.01|       72.0|0.016666666666666666|\n",
      "|         0.01|       71.8|                0.75|\n",
      "|         0.01|       71.8| 0.03333333333333333|\n",
      "|         0.01|       71.7| 0.26666666666666666|\n",
      "|         0.01|      71.59|   9.833333333333334|\n",
      "|         0.01|       71.5| 0.11666666666666667|\n",
      "|         0.01|       71.5|                0.05|\n",
      "|         0.01|       71.3|                0.05|\n",
      "|         0.01|      71.12| 0.03333333333333333|\n",
      "|         0.01|       71.0|   7.383333333333334|\n",
      "|         0.01|       71.0|                0.05|\n",
      "|         0.01|       71.0|                0.05|\n",
      "|         0.01|       71.0|                0.05|\n",
      "|         0.01|       71.0|                0.05|\n",
      "|         0.01|       71.0| 0.03333333333333333|\n",
      "|         0.01|       71.0| 0.03333333333333333|\n",
      "|         0.01|       71.0| 0.03333333333333333|\n",
      "|         0.01|      70.62|                 0.5|\n",
      "|         0.01|       70.0|  19.966666666666665|\n",
      "|         0.01|       70.0|                5.85|\n",
      "|         0.01|       70.0|  1.7166666666666666|\n",
      "|         0.01|       70.0|  1.4333333333333333|\n",
      "|         0.01|       70.0|  1.1833333333333333|\n",
      "|         0.01|       70.0|  1.1333333333333333|\n",
      "|         0.01|       70.0|  0.9333333333333333|\n",
      "|         0.01|       70.0|                 0.4|\n",
      "|         0.01|       70.0| 0.31666666666666665|\n",
      "|         0.01|       70.0|                 0.3|\n",
      "|         0.01|       70.0|                 0.3|\n",
      "|         0.01|       70.0| 0.26666666666666666|\n",
      "|         0.01|       70.0| 0.26666666666666666|\n",
      "|         0.01|       70.0| 0.23333333333333334|\n",
      "|         0.01|       70.0| 0.23333333333333334|\n",
      "|         0.01|       70.0|                 0.2|\n",
      "|         0.01|       70.0|                 0.2|\n",
      "|         0.01|       70.0| 0.18333333333333332|\n",
      "|         0.01|       70.0| 0.16666666666666666|\n",
      "|         0.01|       70.0| 0.16666666666666666|\n",
      "|         0.01|       70.0|                0.15|\n",
      "|         0.01|       70.0|                0.15|\n",
      "|         0.01|       70.0| 0.11666666666666667|\n",
      "|         0.01|       70.0| 0.11666666666666667|\n",
      "|         0.01|       70.0| 0.11666666666666667|\n",
      "|         0.01|       70.0|                 0.1|\n",
      "|         0.01|       70.0| 0.08333333333333333|\n",
      "|         0.01|       70.0| 0.08333333333333333|\n",
      "|         0.01|       70.0| 0.08333333333333333|\n",
      "|         0.01|       70.0| 0.08333333333333333|\n",
      "|         0.01|       70.0| 0.08333333333333333|\n",
      "|         0.01|       70.0| 0.06666666666666667|\n",
      "|         0.01|       70.0| 0.06666666666666667|\n",
      "|         0.01|       70.0| 0.06666666666666667|\n",
      "|         0.01|       70.0| 0.06666666666666667|\n",
      "|         0.01|       70.0| 0.06666666666666667|\n",
      "|         0.01|       70.0| 0.06666666666666667|\n",
      "|         0.01|       70.0|                0.05|\n",
      "|         0.01|       70.0|                0.05|\n",
      "|         0.01|       70.0|                0.05|\n",
      "|         0.01|       70.0|                0.05|\n",
      "|         0.01|       70.0|                0.05|\n",
      "|         0.01|       70.0|                0.05|\n",
      "|         0.01|       70.0|                0.05|\n",
      "|         0.01|       70.0|                0.05|\n",
      "|         0.01|       70.0|                0.05|\n",
      "|         0.01|       70.0|                0.05|\n",
      "|         0.01|       70.0|                0.05|\n",
      "|         0.01|       70.0|                0.05|\n",
      "|         0.01|       70.0|                0.05|\n",
      "|         0.01|       70.0|                0.05|\n",
      "|         0.01|       70.0|                0.05|\n",
      "|         0.01|       70.0|                0.05|\n",
      "|         0.01|       70.0| 0.03333333333333333|\n",
      "|         0.01|       70.0| 0.03333333333333333|\n",
      "|         0.01|       70.0| 0.03333333333333333|\n",
      "+-------------+-----------+--------------------+\n",
      "only showing top 500 rows\n",
      "\n",
      "time: 28.1 s (started: 2021-08-08 18:40:34 +10:00)\n"
     ]
    },
    {
     "name": "stderr",
     "output_type": "stream",
     "text": [
      "                                                                                \r"
     ]
    }
   ],
   "source": [
    "# check irregular trip distance, fare_amount and travel_time\n",
    "taxi_df_3.select(['trip_distance', 'fare_amount', 'travel_time']).orderBy(asc('trip_distance'), desc('fare_amount'), desc('travel_time')).show(500)"
   ]
  },
  {
   "cell_type": "code",
   "execution_count": 54,
   "id": "dc23c16b-68ae-4033-8d1b-4acfad074a61",
   "metadata": {
    "collapsed": true,
    "execution": {
     "iopub.execute_input": "2021-08-08T08:43:46.411774Z",
     "iopub.status.busy": "2021-08-08T08:43:46.411544Z",
     "iopub.status.idle": "2021-08-08T08:44:17.018765Z",
     "shell.execute_reply": "2021-08-08T08:44:17.018319Z",
     "shell.execute_reply.started": "2021-08-08T08:43:46.411756Z"
    },
    "jupyter": {
     "outputs_hidden": true
    },
    "tags": []
   },
   "outputs": [
    {
     "name": "stderr",
     "output_type": "stream",
     "text": [
      "[Stage 65:====================================>                (136 + 16) / 200]\r"
     ]
    },
    {
     "name": "stdout",
     "output_type": "stream",
     "text": [
      "+-------------+------+\n",
      "|trip_distance| count|\n",
      "+-------------+------+\n",
      "|         0.01| 31721|\n",
      "|         0.02| 22119|\n",
      "|         0.03| 17357|\n",
      "|         0.04| 13953|\n",
      "|         0.05| 12375|\n",
      "|         0.06| 10838|\n",
      "|         0.07| 10252|\n",
      "|         0.08|  9681|\n",
      "|         0.09|  8970|\n",
      "|          0.1| 68776|\n",
      "|         0.11|  8861|\n",
      "|         0.12|  9173|\n",
      "|         0.13|  9382|\n",
      "|         0.14|  9791|\n",
      "|         0.15| 10496|\n",
      "|         0.16| 11080|\n",
      "|         0.17| 11860|\n",
      "|         0.18| 13099|\n",
      "|         0.19| 14382|\n",
      "|          0.2|158563|\n",
      "|         0.21| 17488|\n",
      "|         0.22| 19377|\n",
      "|         0.23| 21358|\n",
      "|         0.24| 23455|\n",
      "|         0.25| 25891|\n",
      "|         0.26| 28223|\n",
      "|         0.27| 31456|\n",
      "|         0.28| 34918|\n",
      "|         0.29| 37863|\n",
      "|          0.3|378826|\n",
      "|         0.31| 44917|\n",
      "|         0.32| 48956|\n",
      "|         0.33| 52797|\n",
      "|         0.34| 56690|\n",
      "|         0.35| 61547|\n",
      "|         0.36| 66279|\n",
      "|         0.37| 69588|\n",
      "|         0.38| 74324|\n",
      "|         0.39| 78852|\n",
      "|          0.4|679400|\n",
      "|         0.41| 88107|\n",
      "|         0.42| 92227|\n",
      "|         0.43| 97315|\n",
      "|         0.44|101872|\n",
      "|         0.45|106780|\n",
      "|         0.46|110844|\n",
      "|         0.47|114799|\n",
      "|         0.48|121586|\n",
      "|         0.49|124741|\n",
      "|          0.5|978351|\n",
      "+-------------+------+\n",
      "only showing top 50 rows\n",
      "\n",
      "time: 30.6 s (started: 2021-08-08 18:43:46 +10:00)\n"
     ]
    },
    {
     "name": "stderr",
     "output_type": "stream",
     "text": [
      "                                                                                \r"
     ]
    }
   ],
   "source": [
    "# check travel distance data\n",
    "taxi_df_3.groupby('trip_distance').count().orderBy('trip_distance').show(50)"
   ]
  },
  {
   "cell_type": "code",
   "execution_count": 57,
   "id": "24358fbb-c68f-475b-b248-60795ce1e264",
   "metadata": {
    "execution": {
     "iopub.execute_input": "2021-08-08T09:04:23.951787Z",
     "iopub.status.busy": "2021-08-08T09:04:23.951525Z",
     "iopub.status.idle": "2021-08-08T09:04:23.972355Z",
     "shell.execute_reply": "2021-08-08T09:04:23.971981Z",
     "shell.execute_reply.started": "2021-08-08T09:04:23.951758Z"
    },
    "tags": []
   },
   "outputs": [
    {
     "name": "stdout",
     "output_type": "stream",
     "text": [
      "time: 18 ms (started: 2021-08-08 19:04:23 +10:00)\n"
     ]
    }
   ],
   "source": [
    "# calculate the average travelling speed per hour\n",
    "taxi_df_4 = taxi_df_3.withColumn('travel_mile_per_hour', col('trip_distance') / col('travel_time')).orderBy(desc('travel_mile_per_hour')).filter(col('travel_mile_per_hour') <= 50)"
   ]
  },
  {
   "cell_type": "code",
   "execution_count": 58,
   "id": "7f671962-7fe5-4836-91c0-3b70a5334837",
   "metadata": {
    "execution": {
     "iopub.execute_input": "2021-08-08T09:04:35.368397Z",
     "iopub.status.busy": "2021-08-08T09:04:35.368198Z",
     "iopub.status.idle": "2021-08-08T09:05:52.616012Z",
     "shell.execute_reply": "2021-08-08T09:05:52.615501Z",
     "shell.execute_reply.started": "2021-08-08T09:04:35.368381Z"
    }
   },
   "outputs": [
    {
     "name": "stderr",
     "output_type": "stream",
     "text": [
      "                                                                                \r"
     ]
    },
    {
     "data": {
      "text/plain": [
       "74577787"
      ]
     },
     "execution_count": 58,
     "metadata": {},
     "output_type": "execute_result"
    },
    {
     "name": "stderr",
     "output_type": "stream",
     "text": [
      "[Stage 71:======================================================> (65 + 2) / 67]\r"
     ]
    },
    {
     "name": "stdout",
     "output_type": "stream",
     "text": [
      "+--------+-------------------+-------------------+---------------+-------------+----------+------------------+------------+------------+------------+-----------+-----+-------+----------+------------+---------------------+------------+--------------------+-----------+--------------------+\n",
      "|VendorID|          pickup_dt|         dropoff_dt|passenger_count|trip_distance|RatecodeID|store_and_fwd_flag|PULocationID|DOLocationID|payment_type|fare_amount|extra|mta_tax|tip_amount|tolls_amount|improvement_surcharge|total_amount|congestion_surcharge|travel_time|travel_mile_per_hour|\n",
      "+--------+-------------------+-------------------+---------------+-------------+----------+------------------+------------+------------+------------+-----------+-----+-------+----------+------------+---------------------+------------+--------------------+-----------+--------------------+\n",
      "|       1|2019-07-13 12:05:30|2019-07-13 12:05:33|              1|          2.5|         1|                 N|         231|         231|           1|        2.5|  2.5|    0.5|       4.0|         0.0|                  0.3|         9.8|                 2.5|       0.05|                50.0|\n",
      "|       1|2019-10-19 02:52:41|2019-10-19 02:52:44|              3|          2.5|         1|                 N|         231|         231|           1|       11.0|  3.0|    0.5|      2.95|         0.0|                  0.3|       17.75|                 2.5|       0.05|                50.0|\n",
      "|       1|2019-05-18 18:18:12|2019-05-18 18:18:15|              1|          2.5|         1|                 N|         148|         148|           1|       12.5|  2.5|    0.5|      3.15|         0.0|                  0.3|       18.95|                 2.5|       0.05|                50.0|\n",
      "|       1|2019-03-30 21:19:50|2019-03-30 21:20:02|              1|         10.0|         1|                 N|          10|          10|           4|        2.5|  0.5|    0.5|       0.0|         0.0|                  0.3|         3.8|                 0.0|        0.2|                50.0|\n",
      "|       1|2019-09-02 11:13:00|2019-09-02 11:13:03|              4|          2.5|         1|                 N|          43|          43|           2|       12.5|  2.5|    0.5|       0.0|         0.0|                  0.3|        15.8|                 2.5|       0.05|                50.0|\n",
      "|       1|2019-02-21 11:26:58|2019-02-21 11:27:01|              1|          2.5|         1|                 N|         230|         230|           1|        2.5|  2.5|    0.5|      1.15|         0.0|                  0.3|        6.95|                 2.5|       0.05|                50.0|\n",
      "|       1|2019-11-10 12:32:08|2019-11-10 12:32:11|              3|          2.5|         1|                 N|         231|         231|           3|        2.5|  2.5|    0.5|       0.0|         0.0|                  0.3|         5.8|                 2.5|       0.05|                50.0|\n",
      "|       1|2019-02-02 18:47:20|2019-02-02 18:47:23|              1|          2.5|         1|                 Y|          48|          48|           2|        2.5|  2.5|    0.5|       0.0|         0.0|                  0.3|         5.8|                 2.5|       0.05|                50.0|\n",
      "|       1|2019-02-17 14:58:49|2019-02-17 14:58:52|              1|          2.5|         1|                 N|         231|         231|           3|        2.5|  2.5|    0.5|       0.0|         0.0|                  0.3|         5.8|                 2.5|       0.05|                50.0|\n",
      "|       1|2019-12-12 17:05:39|2019-12-12 17:05:42|              1|          2.5|         1|                 N|         163|         163|           3|        2.5|  3.5|    0.5|       0.0|         0.0|                  0.3|         6.8|                 2.5|       0.05|                50.0|\n",
      "|       1|2019-10-30 21:49:11|2019-10-30 21:49:20|              1|          7.5|         2|                 N|         113|         113|           1|       52.0|  2.5|    0.5|     12.25|        6.12|                  0.3|       73.67|                 2.5|       0.15|                50.0|\n",
      "|       1|2019-04-04 14:50:51|2019-04-04 14:50:54|              1|          2.5|         1|                 N|         230|         230|           2|        2.5|  2.5|    0.5|       0.0|         0.0|                  0.3|         5.8|                 2.5|       0.05|                50.0|\n",
      "|       1|2019-07-24 10:17:57|2019-07-24 10:18:00|              1|          2.5|         1|                 N|         144|         144|           1|       13.0|  2.5|    0.5|      3.25|         0.0|                  0.3|       19.55|                 2.5|       0.05|                50.0|\n",
      "|       1|2019-02-15 19:26:06|2019-02-15 19:26:18|              1|         10.0|         1|                 N|          48|          48|           3|        2.5|  3.5|    0.5|       0.0|         0.0|                  0.3|         6.8|                 2.5|        0.2|                50.0|\n",
      "|       1|2019-10-27 06:14:36|2019-10-27 06:14:39|              1|          2.5|         2|                 N|         261|         261|           3|       52.0|  2.5|    0.5|       0.0|         0.0|                  0.3|        55.3|                 2.5|       0.05|                50.0|\n",
      "|       1|2019-02-10 09:02:50|2019-02-10 09:03:05|              1|         12.5|         1|                 N|         170|         170|           3|        2.5|  2.5|    0.5|       0.0|         0.0|                  0.3|         5.8|                 2.5|       0.25|                50.0|\n",
      "|       1|2019-02-23 01:28:51|2019-02-23 01:28:54|              1|          2.5|         2|                 N|         265|         265|           1|       52.0|  0.0|    0.5|     10.55|         0.0|                  0.3|       63.35|                 0.0|       0.05|                50.0|\n",
      "|       1|2019-03-20 17:02:30|2019-03-20 17:02:33|              1|          2.5|         1|                 N|         132|         132|           1|        2.5|  1.0|    0.5|      12.0|         0.0|                  0.3|        16.3|                 0.0|       0.05|                50.0|\n",
      "|       1|2019-03-23 05:56:59|2019-03-23 05:57:20|              1|         17.5|         2|                 N|         148|         148|           1|       52.0|  2.5|    0.5|     11.05|         0.0|                  0.3|       66.35|                 2.5|       0.35|                50.0|\n",
      "|       1|2019-05-12 22:24:10|2019-05-12 22:24:13|              1|          2.5|         1|                 N|         186|         186|           2|       11.5|  3.0|    0.5|       0.0|         0.0|                  0.3|        15.3|                 2.5|       0.05|                50.0|\n",
      "+--------+-------------------+-------------------+---------------+-------------+----------+------------------+------------+------------+------------+-----------+-----+-------+----------+------------+---------------------+------------+--------------------+-----------+--------------------+\n",
      "only showing top 20 rows\n",
      "\n",
      "time: 1min 17s (started: 2021-08-08 19:04:35 +10:00)\n"
     ]
    },
    {
     "name": "stderr",
     "output_type": "stream",
     "text": [
      "                                                                                \r"
     ]
    }
   ],
   "source": [
    "taxi_df_4.count()\n",
    "taxi_df_4.show()"
   ]
  },
  {
   "cell_type": "markdown",
   "id": "4060c784-747d-4fad-80ad-7cfdf88c430c",
   "metadata": {},
   "source": [
    "It is quite impossible to travel with days or weeks in new york city, hence removed all travel_time greater than 2 hours (focused on the city operation). "
   ]
  },
  {
   "cell_type": "code",
   "execution_count": 59,
   "id": "2be40c23-430f-4997-a5c0-6c0927d21ceb",
   "metadata": {
    "execution": {
     "iopub.execute_input": "2021-08-08T09:08:22.781403Z",
     "iopub.status.busy": "2021-08-08T09:08:22.781146Z",
     "iopub.status.idle": "2021-08-08T09:09:10.864921Z",
     "shell.execute_reply": "2021-08-08T09:09:10.864308Z",
     "shell.execute_reply.started": "2021-08-08T09:08:22.781385Z"
    }
   },
   "outputs": [
    {
     "name": "stderr",
     "output_type": "stream",
     "text": [
      "[Stage 72:======================================================> (65 + 2) / 67]\r"
     ]
    },
    {
     "name": "stdout",
     "output_type": "stream",
     "text": [
      "+--------+-------------------+-------------------+---------------+-------------+----------+------------------+------------+------------+------------+-----------+-----+-------+----------+------------+---------------------+------------+--------------------+------------------+--------------------+\n",
      "|VendorID|          pickup_dt|         dropoff_dt|passenger_count|trip_distance|RatecodeID|store_and_fwd_flag|PULocationID|DOLocationID|payment_type|fare_amount|extra|mta_tax|tip_amount|tolls_amount|improvement_surcharge|total_amount|congestion_surcharge|       travel_time|travel_mile_per_hour|\n",
      "+--------+-------------------+-------------------+---------------+-------------+----------+------------------+------------+------------+------------+-----------+-----+-------+----------+------------+---------------------+------------+--------------------+------------------+--------------------+\n",
      "|       1|2019-01-01 07:01:20|2019-01-31 14:29:21|              1|          1.2|         1|                 N|          48|         163|           2|        6.5|  0.0|    0.5|       0.0|         0.0|                  0.3|         7.3|                 0.0| 43648.01666666667|2.749265812383227...|\n",
      "|       1|2019-09-01 06:10:26|2019-09-30 06:45:51|              1|          1.8|         1|                 N|         142|         229|           1|        9.5|  2.5|    0.5|      2.55|         0.0|                  0.3|       15.35|                 2.5|41795.416666666664|4.306692320728947...|\n",
      "|       1|2019-08-05 07:20:18|2019-08-30 15:41:29|              1|          1.9|         1|                 N|         246|         161|           2|       10.0|  2.5|    0.5|       0.0|         0.0|                  0.3|        13.3|                 2.5|36501.183333333334|5.205310695406678E-5|\n",
      "|       1|2019-01-03 22:24:36|2019-01-27 10:41:17|              1|          1.1|         1|                 N|          50|         170|           1|        8.5|  0.0|    0.5|      1.85|         0.0|                  0.3|       11.15|                 0.0|33856.683333333334|3.248989244368788E-5|\n",
      "|       1|2019-01-05 04:21:40|2019-01-27 01:53:46|              2|          3.9|         1|                 N|         114|         237|           1|       16.5|  0.5|    0.5|      3.55|         0.0|                  0.3|       21.35|                 0.0|           31532.1|1.236834844491803...|\n",
      "|       1|2019-03-01 06:12:03|2019-03-20 07:46:50|              1|          4.4|         1|                 N|         238|         238|           1|       21.0|  2.5|    0.5|       0.0|         0.0|                  0.3|        24.3|                 2.5|27454.783333333333|1.602635120655963...|\n",
      "|       1|2019-02-07 07:28:18|2019-02-25 08:36:17|              1|          3.4|         1|                 N|         186|         261|           2|       15.0|  2.5|    0.5|       0.0|         0.0|                  0.3|        18.3|                 2.5|25987.983333333334|1.308296975717623...|\n",
      "|       2|2019-03-22 08:54:13|2019-03-28 08:04:33|              1|         1.22|         1|                 N|         132|         161|           2|        9.0|  0.0|    0.5|       0.0|         0.0|                  0.3|        12.3|                 2.5| 8590.333333333334|1.420201001125295...|\n",
      "|       2|2019-08-08 21:23:23|2019-08-13 22:46:39|              1|        16.54|         1|                 N|         132|         255|           1|       47.5|  0.5|    0.5|       4.0|         0.0|                  0.3|        52.8|                 0.0| 7283.266666666666|0.002270959001913...|\n",
      "|       2|2019-08-08 21:23:23|2019-08-13 22:09:23|              1|        10.31|         1|                 N|         132|          22|           2|       77.5|  0.5|    0.5|       0.0|         0.0|                  0.3|        78.8|                 0.0|            7246.0|0.001422853988407...|\n",
      "|       2|2019-12-02 09:45:39|2019-12-06 15:40:26|              1|         1.55|         1|                 N|         264|         193|           2|      187.0|  0.0|    0.5|       0.0|         0.0|                  0.3|       187.8|                 0.0| 6114.783333333334|2.534840427706623...|\n",
      "|       2|2019-09-21 14:01:14|2019-09-25 18:47:18|              1|         1.22|         1|                 N|         238|         141|           2|        7.0|  1.0|    0.5|       0.0|         0.0|                  0.3|        11.3|                 2.5| 6046.066666666667|2.017840800079390...|\n",
      "|       2|2019-09-21 14:01:14|2019-09-25 18:39:59|              1|         0.15|         1|                 N|         238|         238|           2|       12.5|  0.0|    0.5|       0.0|         0.0|                  0.3|        15.8|                 2.5|           6038.75|2.483957772717863...|\n",
      "|       2|2019-12-23 19:36:45|2019-12-27 15:01:45|              1|         1.27|         1|                 N|         132|         170|           2|        6.5|  0.0|    0.5|       0.0|         0.0|                  0.3|         9.8|                 2.5|            5485.0|2.315405651777575...|\n",
      "|       2|2019-12-23 19:36:45|2019-12-27 14:55:31|              2|         0.01|         2|                 N|         132|         132|           2|       52.0|  4.5|    0.5|       0.0|         0.0|                  0.3|        57.3|                 0.0| 5478.766666666666|1.825228305640564E-6|\n",
      "|       2|2019-08-10 16:32:11|2019-08-13 14:46:52|              1|         1.58|         1|                 N|         138|         264|           2|        6.5|  0.0|    0.5|       0.0|         0.0|                  0.3|         7.3|                 0.0| 4214.683333333333|3.748798842143142...|\n",
      "|       2|2019-03-15 17:08:55|2019-03-18 12:08:46|              1|         0.04|         1|                 N|         264|         193|           2|       75.5|  1.0|    0.5|       0.0|         0.0|                  0.3|        79.8|                 2.5|           4019.85|9.950620048011742E-6|\n",
      "|       2|2019-05-09 01:13:23|2019-05-11 17:42:48|              2|         1.42|         1|                 N|          68|         264|           2|       11.0|  0.5|    0.5|       0.0|         0.0|                  0.3|        12.3|                 0.0|3869.4166666666665|3.669803803329528...|\n",
      "|       1|2019-02-03 03:37:50|2019-02-05 11:25:38|              1|          1.2|         1|                 N|          88|          13|           1|        7.5|  2.5|    0.5|      2.15|         0.0|                  0.3|       12.95|                 2.5|            3347.8|3.584443515144273...|\n",
      "|       2|2019-11-27 13:14:54|2019-11-29 17:23:55|              1|          2.7|         1|                 N|         186|         142|           2|       13.0|  1.0|    0.5|       0.0|         0.0|                  0.3|        17.3|                 2.5| 3129.016666666667|8.628908975663281E-4|\n",
      "+--------+-------------------+-------------------+---------------+-------------+----------+------------------+------------+------------+------------+-----------+-----+-------+----------+------------+---------------------+------------+--------------------+------------------+--------------------+\n",
      "only showing top 20 rows\n",
      "\n",
      "time: 48.1 s (started: 2021-08-08 19:08:22 +10:00)\n"
     ]
    },
    {
     "name": "stderr",
     "output_type": "stream",
     "text": [
      "                                                                                \r"
     ]
    }
   ],
   "source": [
    "taxi_df_4.orderBy(desc('travel_time')).show()"
   ]
  },
  {
   "cell_type": "code",
   "execution_count": 61,
   "id": "4823c211-b1ca-4487-91b1-af74a3c943ba",
   "metadata": {
    "execution": {
     "iopub.execute_input": "2021-08-08T09:15:01.632639Z",
     "iopub.status.busy": "2021-08-08T09:15:01.632355Z",
     "iopub.status.idle": "2021-08-08T09:15:01.642532Z",
     "shell.execute_reply": "2021-08-08T09:15:01.641784Z",
     "shell.execute_reply.started": "2021-08-08T09:15:01.632603Z"
    },
    "tags": []
   },
   "outputs": [
    {
     "name": "stdout",
     "output_type": "stream",
     "text": [
      "time: 6.57 ms (started: 2021-08-08 19:15:01 +10:00)\n"
     ]
    }
   ],
   "source": [
    "taxi_df_5 = taxi_df_4.filter(col('travel_time') <= 120)"
   ]
  },
  {
   "cell_type": "code",
   "execution_count": 62,
   "id": "7ae6670e-0061-429d-8b4d-087616d30fe0",
   "metadata": {
    "execution": {
     "iopub.execute_input": "2021-08-08T09:15:13.552080Z",
     "iopub.status.busy": "2021-08-08T09:15:13.551879Z",
     "iopub.status.idle": "2021-08-08T09:16:45.028044Z",
     "shell.execute_reply": "2021-08-08T09:16:45.027627Z",
     "shell.execute_reply.started": "2021-08-08T09:15:13.552063Z"
    }
   },
   "outputs": [
    {
     "name": "stderr",
     "output_type": "stream",
     "text": [
      "                                                                                \r"
     ]
    },
    {
     "data": {
      "text/plain": [
       "74373715"
      ]
     },
     "execution_count": 62,
     "metadata": {},
     "output_type": "execute_result"
    },
    {
     "name": "stderr",
     "output_type": "stream",
     "text": [
      "[Stage 77:======================================================> (65 + 2) / 67]\r"
     ]
    },
    {
     "name": "stdout",
     "output_type": "stream",
     "text": [
      "+--------+-------------------+-------------------+---------------+-------------+----------+------------------+------------+------------+------------+-----------+-----+-------+----------+------------+---------------------+------------+--------------------+-----------+--------------------+\n",
      "|VendorID|          pickup_dt|         dropoff_dt|passenger_count|trip_distance|RatecodeID|store_and_fwd_flag|PULocationID|DOLocationID|payment_type|fare_amount|extra|mta_tax|tip_amount|tolls_amount|improvement_surcharge|total_amount|congestion_surcharge|travel_time|travel_mile_per_hour|\n",
      "+--------+-------------------+-------------------+---------------+-------------+----------+------------------+------------+------------+------------+-----------+-----+-------+----------+------------+---------------------+------------+--------------------+-----------+--------------------+\n",
      "|       1|2019-06-20 13:21:00|2019-06-20 13:21:03|              1|          2.5|         1|                 N|         151|         151|           3|        2.5|  2.5|    0.5|       0.0|         0.0|                  0.3|         5.8|                 0.0|       0.05|                50.0|\n",
      "|       1|2019-11-10 12:32:08|2019-11-10 12:32:11|              3|          2.5|         1|                 N|         231|         231|           3|        2.5|  2.5|    0.5|       0.0|         0.0|                  0.3|         5.8|                 2.5|       0.05|                50.0|\n",
      "|       1|2019-05-18 18:18:12|2019-05-18 18:18:15|              1|          2.5|         1|                 N|         148|         148|           1|       12.5|  2.5|    0.5|      3.15|         0.0|                  0.3|       18.95|                 2.5|       0.05|                50.0|\n",
      "|       1|2019-10-19 02:52:41|2019-10-19 02:52:44|              3|          2.5|         1|                 N|         231|         231|           1|       11.0|  3.0|    0.5|      2.95|         0.0|                  0.3|       17.75|                 2.5|       0.05|                50.0|\n",
      "|       1|2019-02-21 11:26:58|2019-02-21 11:27:01|              1|          2.5|         1|                 N|         230|         230|           1|        2.5|  2.5|    0.5|      1.15|         0.0|                  0.3|        6.95|                 2.5|       0.05|                50.0|\n",
      "|       1|2019-02-15 19:26:06|2019-02-15 19:26:18|              1|         10.0|         1|                 N|          48|          48|           3|        2.5|  3.5|    0.5|       0.0|         0.0|                  0.3|         6.8|                 2.5|        0.2|                50.0|\n",
      "|       1|2019-09-02 11:13:00|2019-09-02 11:13:03|              4|          2.5|         1|                 N|          43|          43|           2|       12.5|  2.5|    0.5|       0.0|         0.0|                  0.3|        15.8|                 2.5|       0.05|                50.0|\n",
      "|       1|2019-02-02 18:47:20|2019-02-02 18:47:23|              1|          2.5|         1|                 Y|          48|          48|           2|        2.5|  2.5|    0.5|       0.0|         0.0|                  0.3|         5.8|                 2.5|       0.05|                50.0|\n",
      "|       1|2019-04-04 14:50:51|2019-04-04 14:50:54|              1|          2.5|         1|                 N|         230|         230|           2|        2.5|  2.5|    0.5|       0.0|         0.0|                  0.3|         5.8|                 2.5|       0.05|                50.0|\n",
      "|       1|2019-02-17 14:58:49|2019-02-17 14:58:52|              1|          2.5|         1|                 N|         231|         231|           3|        2.5|  2.5|    0.5|       0.0|         0.0|                  0.3|         5.8|                 2.5|       0.05|                50.0|\n",
      "|       1|2019-03-30 21:19:50|2019-03-30 21:20:02|              1|         10.0|         1|                 N|          10|          10|           4|        2.5|  0.5|    0.5|       0.0|         0.0|                  0.3|         3.8|                 0.0|        0.2|                50.0|\n",
      "|       1|2019-10-30 21:49:11|2019-10-30 21:49:20|              1|          7.5|         2|                 N|         113|         113|           1|       52.0|  2.5|    0.5|     12.25|        6.12|                  0.3|       73.67|                 2.5|       0.15|                50.0|\n",
      "|       1|2019-03-23 05:56:59|2019-03-23 05:57:20|              1|         17.5|         2|                 N|         148|         148|           1|       52.0|  2.5|    0.5|     11.05|         0.0|                  0.3|       66.35|                 2.5|       0.35|                50.0|\n",
      "|       1|2019-02-10 09:02:50|2019-02-10 09:03:05|              1|         12.5|         1|                 N|         170|         170|           3|        2.5|  2.5|    0.5|       0.0|         0.0|                  0.3|         5.8|                 2.5|       0.25|                50.0|\n",
      "|       1|2019-12-12 17:05:39|2019-12-12 17:05:42|              1|          2.5|         1|                 N|         163|         163|           3|        2.5|  3.5|    0.5|       0.0|         0.0|                  0.3|         6.8|                 2.5|       0.05|                50.0|\n",
      "|       1|2019-07-24 10:17:57|2019-07-24 10:18:00|              1|          2.5|         1|                 N|         144|         144|           1|       13.0|  2.5|    0.5|      3.25|         0.0|                  0.3|       19.55|                 2.5|       0.05|                50.0|\n",
      "|       1|2019-05-12 22:24:10|2019-05-12 22:24:13|              1|          2.5|         1|                 N|         186|         186|           2|       11.5|  3.0|    0.5|       0.0|         0.0|                  0.3|        15.3|                 2.5|       0.05|                50.0|\n",
      "|       1|2019-03-20 17:02:30|2019-03-20 17:02:33|              1|          2.5|         1|                 N|         132|         132|           1|        2.5|  1.0|    0.5|      12.0|         0.0|                  0.3|        16.3|                 0.0|       0.05|                50.0|\n",
      "|       1|2019-10-27 06:14:36|2019-10-27 06:14:39|              1|          2.5|         2|                 N|         261|         261|           3|       52.0|  2.5|    0.5|       0.0|         0.0|                  0.3|        55.3|                 2.5|       0.05|                50.0|\n",
      "|       1|2019-02-23 01:28:51|2019-02-23 01:28:54|              1|          2.5|         2|                 N|         265|         265|           1|       52.0|  0.0|    0.5|     10.55|         0.0|                  0.3|       63.35|                 0.0|       0.05|                50.0|\n",
      "+--------+-------------------+-------------------+---------------+-------------+----------+------------------+------------+------------+------------+-----------+-----+-------+----------+------------+---------------------+------------+--------------------+-----------+--------------------+\n",
      "only showing top 20 rows\n",
      "\n",
      "time: 1min 31s (started: 2021-08-08 19:15:13 +10:00)\n"
     ]
    },
    {
     "name": "stderr",
     "output_type": "stream",
     "text": [
      "                                                                                \r"
     ]
    }
   ],
   "source": [
    "taxi_df_5.count()\n",
    "taxi_df_5.show()"
   ]
  },
  {
   "cell_type": "markdown",
   "id": "391e400e-e128-4e81-b1c7-7754de219130",
   "metadata": {},
   "source": [
    "According to [tripsavvy](https://www.tripsavvy.com/guide-to-tipping-in-new-york-city-4177115), it should tip about 10%-20% for cab drivers,\n",
    "\n",
    "consider it may have some extreme cases or region different (wealth suburb), therefore, we removed data records have tips which more than twice fare_amount "
   ]
  },
  {
   "cell_type": "code",
   "execution_count": 66,
   "id": "4a26a97a-d283-4efe-bf6e-7ea4233b81ec",
   "metadata": {
    "execution": {
     "iopub.execute_input": "2021-08-08T09:32:01.386674Z",
     "iopub.status.busy": "2021-08-08T09:32:01.386482Z",
     "iopub.status.idle": "2021-08-08T09:32:01.404335Z",
     "shell.execute_reply": "2021-08-08T09:32:01.403766Z",
     "shell.execute_reply.started": "2021-08-08T09:32:01.386657Z"
    },
    "tags": []
   },
   "outputs": [
    {
     "name": "stdout",
     "output_type": "stream",
     "text": [
      "time: 14.7 ms (started: 2021-08-08 19:32:01 +10:00)\n"
     ]
    }
   ],
   "source": [
    "def over_tipped(fare_amount, tip_amount):\n",
    "    # return true if over tipped, else false\n",
    "    if fare_amount >= 2 * tip_amount:\n",
    "        return 'no'\n",
    "    else:\n",
    "        return 'yes'\n",
    "\n",
    "over_tipped_udf = udf(lambda x, y: over_tipped(x, y), StringType())\n",
    "\n",
    "taxi_df_6 = taxi_df_5.withColumn('over_tipped', over_tipped_udf(col('fare_amount'), col('tip_amount')))"
   ]
  },
  {
   "cell_type": "code",
   "execution_count": 67,
   "id": "8a802cc1-ddd1-4715-8573-908ef1db57b5",
   "metadata": {
    "execution": {
     "iopub.execute_input": "2021-08-08T09:32:02.364521Z",
     "iopub.status.busy": "2021-08-08T09:32:02.364337Z",
     "iopub.status.idle": "2021-08-08T09:32:02.373178Z",
     "shell.execute_reply": "2021-08-08T09:32:02.372638Z",
     "shell.execute_reply.started": "2021-08-08T09:32:02.364505Z"
    },
    "tags": []
   },
   "outputs": [
    {
     "name": "stdout",
     "output_type": "stream",
     "text": [
      "time: 6.36 ms (started: 2021-08-08 19:32:02 +10:00)\n"
     ]
    }
   ],
   "source": [
    "taxi_df_7 = taxi_df_6.filter(col('over_tipped') == 'no')"
   ]
  },
  {
   "cell_type": "code",
   "execution_count": 82,
   "id": "57661856-0ce5-49f9-907e-5cf199568ac2",
   "metadata": {
    "execution": {
     "iopub.execute_input": "2021-08-08T09:54:02.532011Z",
     "iopub.status.busy": "2021-08-08T09:54:02.530978Z",
     "iopub.status.idle": "2021-08-08T09:54:02.847458Z",
     "shell.execute_reply": "2021-08-08T09:54:02.846397Z",
     "shell.execute_reply.started": "2021-08-08T09:54:02.531962Z"
    }
   },
   "outputs": [
    {
     "data": {
      "text/plain": [
       "DataFrame[VendorID: int, pickup_dt: timestamp, dropoff_dt: timestamp, passenger_count: int, trip_distance: double, RatecodeID: int, store_and_fwd_flag: string, PULocationID: int, DOLocationID: int, payment_type: int, fare_amount: double, extra: double, mta_tax: double, tip_amount: double, tolls_amount: double, improvement_surcharge: double, total_amount: double, congestion_surcharge: double, travel_time: double, travel_mile_per_hour: double, over_tipped: string]"
      ]
     },
     "execution_count": 82,
     "metadata": {},
     "output_type": "execute_result"
    },
    {
     "name": "stdout",
     "output_type": "stream",
     "text": [
      "time: 306 ms (started: 2021-08-08 19:54:02 +10:00)\n"
     ]
    }
   ],
   "source": [
    "taxi_df_7.persist(StorageLevel.DISK_ONLY)"
   ]
  },
  {
   "cell_type": "code",
   "execution_count": 83,
   "id": "df365391-22e4-4f85-9dac-d2ad70fff8e4",
   "metadata": {
    "collapsed": true,
    "execution": {
     "iopub.execute_input": "2021-08-08T09:54:04.457134Z",
     "iopub.status.busy": "2021-08-08T09:54:04.456869Z",
     "iopub.status.idle": "2021-08-08T09:58:23.328525Z",
     "shell.execute_reply": "2021-08-08T09:58:23.328194Z",
     "shell.execute_reply.started": "2021-08-08T09:54:04.457108Z"
    },
    "jupyter": {
     "outputs_hidden": true
    },
    "tags": []
   },
   "outputs": [
    {
     "name": "stderr",
     "output_type": "stream",
     "text": [
      "Traceback (most recent call last):                                              \n",
      "  File \"/home/rin/.local/lib/python3.8/site-packages/pyspark/python/lib/pyspark.zip/pyspark/daemon.py\", line 186, in manager\n",
      "  File \"/home/rin/.local/lib/python3.8/site-packages/pyspark/python/lib/pyspark.zip/pyspark/daemon.py\", line 74, in worker\n",
      "  File \"/home/rin/.local/lib/python3.8/site-packages/pyspark/python/lib/pyspark.zip/pyspark/worker.py\", line 643, in main\n",
      "    if read_int(infile) == SpecialLengths.END_OF_STREAM:\n",
      "  File \"/home/rin/.local/lib/python3.8/site-packages/pyspark/python/lib/pyspark.zip/pyspark/serializers.py\", line 564, in read_int\n",
      "    raise EOFError\n",
      "EOFError\n",
      "[Stage 106:>                                                        (0 + 1) / 1]\r"
     ]
    },
    {
     "name": "stdout",
     "output_type": "stream",
     "text": [
      "+--------+-------------------+-------------------+---------------+-------------+----------+------------------+------------+------------+------------+-----------+-----+-------+----------+------------+---------------------+------------+--------------------+-----------+--------------------+-----------+\n",
      "|VendorID|          pickup_dt|         dropoff_dt|passenger_count|trip_distance|RatecodeID|store_and_fwd_flag|PULocationID|DOLocationID|payment_type|fare_amount|extra|mta_tax|tip_amount|tolls_amount|improvement_surcharge|total_amount|congestion_surcharge|travel_time|travel_mile_per_hour|over_tipped|\n",
      "+--------+-------------------+-------------------+---------------+-------------+----------+------------------+------------+------------+------------+-----------+-----+-------+----------+------------+---------------------+------------+--------------------+-----------+--------------------+-----------+\n",
      "|       1|2019-10-30 21:49:11|2019-10-30 21:49:20|              1|          7.5|         2|                 N|         113|         113|           1|       52.0|  2.5|    0.5|     12.25|        6.12|                  0.3|       73.67|                 2.5|       0.15|                50.0|         no|\n",
      "|       1|2019-07-24 10:17:57|2019-07-24 10:18:00|              1|          2.5|         1|                 N|         144|         144|           1|       13.0|  2.5|    0.5|      3.25|         0.0|                  0.3|       19.55|                 2.5|       0.05|                50.0|         no|\n",
      "|       1|2019-02-10 09:02:50|2019-02-10 09:03:05|              1|         12.5|         1|                 N|         170|         170|           3|        2.5|  2.5|    0.5|       0.0|         0.0|                  0.3|         5.8|                 2.5|       0.25|                50.0|         no|\n",
      "|       1|2019-03-23 05:56:59|2019-03-23 05:57:20|              1|         17.5|         2|                 N|         148|         148|           1|       52.0|  2.5|    0.5|     11.05|         0.0|                  0.3|       66.35|                 2.5|       0.35|                50.0|         no|\n",
      "|       1|2019-10-27 06:14:36|2019-10-27 06:14:39|              1|          2.5|         2|                 N|         261|         261|           3|       52.0|  2.5|    0.5|       0.0|         0.0|                  0.3|        55.3|                 2.5|       0.05|                50.0|         no|\n",
      "|       1|2019-05-12 22:24:10|2019-05-12 22:24:13|              1|          2.5|         1|                 N|         186|         186|           2|       11.5|  3.0|    0.5|       0.0|         0.0|                  0.3|        15.3|                 2.5|       0.05|                50.0|         no|\n",
      "|       1|2019-02-23 01:28:51|2019-02-23 01:28:54|              1|          2.5|         2|                 N|         265|         265|           1|       52.0|  0.0|    0.5|     10.55|         0.0|                  0.3|       63.35|                 0.0|       0.05|                50.0|         no|\n",
      "|       1|2019-09-02 11:13:00|2019-09-02 11:13:03|              4|          2.5|         1|                 N|          43|          43|           2|       12.5|  2.5|    0.5|       0.0|         0.0|                  0.3|        15.8|                 2.5|       0.05|                50.0|         no|\n",
      "|       1|2019-02-02 18:47:20|2019-02-02 18:47:23|              1|          2.5|         1|                 Y|          48|          48|           2|        2.5|  2.5|    0.5|       0.0|         0.0|                  0.3|         5.8|                 2.5|       0.05|                50.0|         no|\n",
      "|       1|2019-02-17 14:58:49|2019-02-17 14:58:52|              1|          2.5|         1|                 N|         231|         231|           3|        2.5|  2.5|    0.5|       0.0|         0.0|                  0.3|         5.8|                 2.5|       0.05|                50.0|         no|\n",
      "|       1|2019-04-04 14:50:51|2019-04-04 14:50:54|              1|          2.5|         1|                 N|         230|         230|           2|        2.5|  2.5|    0.5|       0.0|         0.0|                  0.3|         5.8|                 2.5|       0.05|                50.0|         no|\n",
      "|       1|2019-03-30 21:19:50|2019-03-30 21:20:02|              1|         10.0|         1|                 N|          10|          10|           4|        2.5|  0.5|    0.5|       0.0|         0.0|                  0.3|         3.8|                 0.0|        0.2|                50.0|         no|\n",
      "|       1|2019-12-12 17:05:39|2019-12-12 17:05:42|              1|          2.5|         1|                 N|         163|         163|           3|        2.5|  3.5|    0.5|       0.0|         0.0|                  0.3|         6.8|                 2.5|       0.05|                50.0|         no|\n",
      "|       1|2019-02-21 11:26:58|2019-02-21 11:27:01|              1|          2.5|         1|                 N|         230|         230|           1|        2.5|  2.5|    0.5|      1.15|         0.0|                  0.3|        6.95|                 2.5|       0.05|                50.0|         no|\n",
      "|       1|2019-10-19 02:52:41|2019-10-19 02:52:44|              3|          2.5|         1|                 N|         231|         231|           1|       11.0|  3.0|    0.5|      2.95|         0.0|                  0.3|       17.75|                 2.5|       0.05|                50.0|         no|\n",
      "|       1|2019-11-10 12:32:08|2019-11-10 12:32:11|              3|          2.5|         1|                 N|         231|         231|           3|        2.5|  2.5|    0.5|       0.0|         0.0|                  0.3|         5.8|                 2.5|       0.05|                50.0|         no|\n",
      "|       1|2019-02-15 19:26:06|2019-02-15 19:26:18|              1|         10.0|         1|                 N|          48|          48|           3|        2.5|  3.5|    0.5|       0.0|         0.0|                  0.3|         6.8|                 2.5|        0.2|                50.0|         no|\n",
      "|       1|2019-05-18 18:18:12|2019-05-18 18:18:15|              1|          2.5|         1|                 N|         148|         148|           1|       12.5|  2.5|    0.5|      3.15|         0.0|                  0.3|       18.95|                 2.5|       0.05|                50.0|         no|\n",
      "|       1|2019-06-20 13:21:00|2019-06-20 13:21:03|              1|          2.5|         1|                 N|         151|         151|           3|        2.5|  2.5|    0.5|       0.0|         0.0|                  0.3|         5.8|                 0.0|       0.05|                50.0|         no|\n",
      "|       1|2019-07-19 12:51:28|2019-07-19 12:51:31|              1|          2.5|         2|                 N|          48|          48|           3|       52.0|  2.5|    0.5|       0.0|         0.0|                  0.3|        55.3|                 2.5|       0.05|                50.0|         no|\n",
      "+--------+-------------------+-------------------+---------------+-------------+----------+------------------+------------+------------+------------+-----------+-----+-------+----------+------------+---------------------+------------+--------------------+-----------+--------------------+-----------+\n",
      "only showing top 20 rows\n",
      "\n",
      "time: 4min 18s (started: 2021-08-08 19:54:04 +10:00)\n"
     ]
    },
    {
     "name": "stderr",
     "output_type": "stream",
     "text": [
      "                                                                                \r"
     ]
    }
   ],
   "source": [
    "taxi_df_7.show()"
   ]
  },
  {
   "cell_type": "code",
   "execution_count": 84,
   "id": "9df30165-71e2-45cf-ac8b-d204a9007d00",
   "metadata": {
    "execution": {
     "iopub.execute_input": "2021-08-08T09:58:23.352374Z",
     "iopub.status.busy": "2021-08-08T09:58:23.352049Z",
     "iopub.status.idle": "2021-08-08T09:59:38.120082Z",
     "shell.execute_reply": "2021-08-08T09:59:38.119519Z",
     "shell.execute_reply.started": "2021-08-08T09:58:23.352352Z"
    },
    "tags": []
   },
   "outputs": [
    {
     "name": "stderr",
     "output_type": "stream",
     "text": [
      "                                                                                \r"
     ]
    },
    {
     "data": {
      "text/plain": [
       "73792383"
      ]
     },
     "execution_count": 84,
     "metadata": {},
     "output_type": "execute_result"
    },
    {
     "name": "stdout",
     "output_type": "stream",
     "text": [
      "time: 1min 14s (started: 2021-08-08 19:58:23 +10:00)\n"
     ]
    }
   ],
   "source": [
    "taxi_df_7.count()"
   ]
  },
  {
   "cell_type": "code",
   "execution_count": 85,
   "id": "d29c9139-0c78-4465-a85d-0eb3590238c0",
   "metadata": {
    "execution": {
     "iopub.execute_input": "2021-08-08T10:00:41.166857Z",
     "iopub.status.busy": "2021-08-08T10:00:41.166607Z",
     "iopub.status.idle": "2021-08-08T10:00:41.175199Z",
     "shell.execute_reply": "2021-08-08T10:00:41.174709Z",
     "shell.execute_reply.started": "2021-08-08T10:00:41.166838Z"
    }
   },
   "outputs": [
    {
     "data": {
      "text/plain": [
       "DataFrame[VendorID: int, pickup_dt: timestamp, dropoff_dt: timestamp, passenger_count: int, trip_distance: double, RatecodeID: int, store_and_fwd_flag: string, PULocationID: int, DOLocationID: int, payment_type: int, fare_amount: double, extra: double, mta_tax: double, tip_amount: double, tolls_amount: double, improvement_surcharge: double, total_amount: double, congestion_surcharge: double, travel_time: double, travel_mile_per_hour: double, over_tipped: string]"
      ]
     },
     "execution_count": 85,
     "metadata": {},
     "output_type": "execute_result"
    },
    {
     "name": "stdout",
     "output_type": "stream",
     "text": [
      "time: 5.19 ms (started: 2021-08-08 20:00:41 +10:00)\n"
     ]
    }
   ],
   "source": [
    "taxi_df_7.unpersist()"
   ]
  },
  {
   "cell_type": "code",
   "execution_count": 87,
   "id": "28cf56fa-50ba-4043-8fb1-13acc8a3570e",
   "metadata": {
    "execution": {
     "iopub.execute_input": "2021-08-08T10:01:42.035768Z",
     "iopub.status.busy": "2021-08-08T10:01:42.035588Z",
     "iopub.status.idle": "2021-08-08T10:05:40.373141Z",
     "shell.execute_reply": "2021-08-08T10:05:40.372701Z",
     "shell.execute_reply.started": "2021-08-08T10:01:42.035752Z"
    },
    "tags": []
   },
   "outputs": [
    {
     "name": "stderr",
     "output_type": "stream",
     "text": [
      "                                                                                \r"
     ]
    },
    {
     "name": "stdout",
     "output_type": "stream",
     "text": [
      "time: 3min 58s (started: 2021-08-08 20:01:42 +10:00)\n"
     ]
    }
   ],
   "source": [
    "# staging the progress\n",
    "taxi_df_7.write.options(header=True).csv('./Preprocess/taxi_stage_3')"
   ]
  },
  {
   "cell_type": "markdown",
   "id": "e7341b7c-f1a3-49c8-ba97-db8c20991eb2",
   "metadata": {
    "tags": []
   },
   "source": [
    "#### Add coordinates and other columns"
   ]
  },
  {
   "cell_type": "code",
   "execution_count": 2,
   "id": "c2e40698-e52a-4a9c-895f-07b6772a2473",
   "metadata": {
    "execution": {
     "iopub.execute_input": "2021-08-08T15:12:24.736658Z",
     "iopub.status.busy": "2021-08-08T15:12:24.736480Z",
     "iopub.status.idle": "2021-08-08T15:12:24.811703Z",
     "shell.execute_reply": "2021-08-08T15:12:24.810952Z",
     "shell.execute_reply.started": "2021-08-08T15:12:24.736641Z"
    },
    "tags": []
   },
   "outputs": [
    {
     "ename": "NameError",
     "evalue": "name 'spark' is not defined",
     "output_type": "error",
     "traceback": [
      "\u001b[0;31m---------------------------------------------------------------------------\u001b[0m",
      "\u001b[0;31mNameError\u001b[0m                                 Traceback (most recent call last)",
      "\u001b[0;32m/tmp/ipykernel_5842/3210401359.py\u001b[0m in \u001b[0;36m<module>\u001b[0;34m\u001b[0m\n\u001b[1;32m      1\u001b[0m \u001b[0;31m# loading stage data from stage 3\u001b[0m\u001b[0;34m\u001b[0m\u001b[0;34m\u001b[0m\u001b[0;34m\u001b[0m\u001b[0m\n\u001b[0;32m----> 2\u001b[0;31m \u001b[0mtaxi_df\u001b[0m \u001b[0;34m=\u001b[0m \u001b[0mspark\u001b[0m\u001b[0;34m.\u001b[0m\u001b[0moptions\u001b[0m\u001b[0;34m(\u001b[0m\u001b[0mheader\u001b[0m\u001b[0;34m=\u001b[0m\u001b[0;32mTrue\u001b[0m\u001b[0;34m,\u001b[0m \u001b[0minferSchema\u001b[0m\u001b[0;34m=\u001b[0m\u001b[0;32mTrue\u001b[0m\u001b[0;34m)\u001b[0m\u001b[0;34m.\u001b[0m\u001b[0mcsv\u001b[0m\u001b[0;34m(\u001b[0m\u001b[0;34m'./Preprocess/taxi_stage_3'\u001b[0m\u001b[0;34m)\u001b[0m\u001b[0;34m\u001b[0m\u001b[0;34m\u001b[0m\u001b[0m\n\u001b[0m\u001b[1;32m      3\u001b[0m \u001b[0mtaxi_df\u001b[0m\u001b[0;34m.\u001b[0m\u001b[0mshow\u001b[0m\u001b[0;34m(\u001b[0m\u001b[0;34m)\u001b[0m\u001b[0;34m\u001b[0m\u001b[0;34m\u001b[0m\u001b[0m\n",
      "\u001b[0;31mNameError\u001b[0m: name 'spark' is not defined"
     ]
    }
   ],
   "source": [
    "# loading stage data from stage 3\n",
    "taxi_df = spark.options(header=True, inferSchema=True).csv('./Preprocess/taxi_stage_3')\n",
    "taxi_df.show()"
   ]
  },
  {
   "cell_type": "code",
   "execution_count": null,
   "id": "4eb51195-f539-4ec0-93dc-35cd9865fecf",
   "metadata": {},
   "outputs": [],
   "source": []
  }
 ],
 "metadata": {
  "kernelspec": {
   "display_name": "PyPy3",
   "language": "python",
   "name": "pypy3"
  },
  "language_info": {
   "codemirror_mode": {
    "name": "ipython",
    "version": 3
   },
   "file_extension": ".py",
   "mimetype": "text/x-python",
   "name": "python",
   "nbconvert_exporter": "python",
   "pygments_lexer": "ipython3",
   "version": "3.8.10"
  },
  "toc-autonumbering": false,
  "toc-showmarkdowntxt": false,
  "widgets": {
   "application/vnd.jupyter.widget-state+json": {
    "state": {},
    "version_major": 2,
    "version_minor": 0
   }
  }
 },
 "nbformat": 4,
 "nbformat_minor": 5
}
